{
 "cells": [
  {
   "cell_type": "markdown",
   "metadata": {},
   "source": [
    "# 탐구실험용 toy 코드  (Facebook 바비 Question-Answer)\n",
    "\n",
    "<p> &nbsp;\n",
    "    \n",
    "# +++++++++++++++++++++++++++++++++++++++++++++\n",
    "\n"
   ]
  },
  {
   "cell_type": "markdown",
   "metadata": {},
   "source": [
    "#  toy 코드의 한계 및 약점은 ? 약점을 보강할 수 있는 방법 ?\n",
    "\n",
    "<p>\n",
    "    \n",
    "## +++++++++++++++++++++++++++++++++++++++++++++++++++\n",
    "\n",
    "<p> &nbsp;\n",
    "    \n",
    "## toy 코드를 통해 약점을 알아내고, 데이터를 조작하며 (좋은 뜻으로 조절),\n",
    "\n",
    "## 데이터가 어떻게 변형되고, 행렬의 weight와 정확도가 어떻게 변화하는지?\n",
    "\n",
    "## input 과 중간의 형태, 그리고 최종 output 의 흐름을 스토리텔링하며 탐구 !"
   ]
  },
  {
   "cell_type": "code",
   "execution_count": null,
   "metadata": {},
   "outputs": [],
   "source": []
  },
  {
   "cell_type": "markdown",
   "metadata": {},
   "source": [
    "# =========== 탐구과제용 :기본적인 문제 =========\n",
    "\n",
    "# 어떻게 AI 와 수학교육이 융합하여 발전할 수 있을까?\n",
    "\n",
    "# 영어 데이터를 한글 학습데이터를 번역하고 보강한다.\n",
    "\n",
    "# 한국어 질문-응답 수학학습 시스템을 만들 수 있을까?\n",
    "\n",
    "# 무엇보다도, 데이터를 처리하는 방법을 먼저 익히고\n",
    "\n",
    "# 데이터로 딥러닝하는 알고리즘과 attention 을 탐구하자.\n",
    "\n",
    "# =========================================="
   ]
  },
  {
   "cell_type": "code",
   "execution_count": null,
   "metadata": {},
   "outputs": [],
   "source": []
  },
  {
   "cell_type": "markdown",
   "metadata": {},
   "source": [
    "# Babi 문제 (인터넷에서 babi 문제와 데이터를 찾아본다)\n",
    "\n",
    "# 교재 130 페이지 참고"
   ]
  },
  {
   "cell_type": "raw",
   "metadata": {},
   "source": [
    "# babi 데이터 \n",
    "\n",
    "    Sandra travelled to the kitchen. \n",
    "    Sandra travelled to the hallway. \n",
    "    Mary went to the bathroom. \n",
    "    Sandra moved to the garden. \n",
    "\n",
    "    Where is Sandra ?\n",
    "    Ground Truth: Garden (based on single supporting fact 4)\n",
    "\n",
    "### Each sentence is provided with an ID. The IDs for a given “story” start at 1 and increase. \n",
    "### When the IDs in a file reset back to 1 you can consider the following sentences as a new “story”. \n",
    "### Supporting fact ID refer to the sentences within a “story”.\n",
    "\n",
    "    1 Mary moved to the bathroom.\n",
    "    2 John went to the hallway.\n",
    "    3 Where is Mary?        bathroom        1\n",
    "    4 Daniel went back to the hallway.\n",
    "    5 Sandra moved to the garden.\n",
    "    6 Where is Daniel?      hallway         4\n",
    "    7 John moved to the office.\n",
    "    8 Sandra journeyed to the bathroom.\n",
    "    9 Where is Daniel?      hallway         4\n",
    "    10 Mary moved to the hallway.\n",
    "    11 Daniel travelled to the office.\n",
    "    12 Where is Daniel?     office          11\n",
    "    13 John went back to the garden.\n",
    "    14 John moved to the bedroom.\n",
    "    15 Where is Sandra?     bathroom        8\n",
    "    1 Sandra travelled to the office.\n",
    "    2 Sandra went to the bathroom.\n",
    "    3 Where is Sandra?      bathroom        2\n",
    "    \n",
    "    \n"
   ]
  },
  {
   "cell_type": "markdown",
   "metadata": {},
   "source": [
    "## 바비 데이터 github  : https://github.com/andri27-ts/bAbI\n",
    "\n",
    "<p>\n",
    "\n",
    "\n",
    "# 수학교육 탐구과제로 도전가능한 문제    \n",
    "    \n",
    "# QA6 - Yes/No Questions\t\n",
    "\n",
    "# QA7 - Counting\t\n"
   ]
  },
  {
   "cell_type": "markdown",
   "metadata": {},
   "source": [
    "### 바비 데이터 : https://github.com/harvardnlp/MemN2N/tree/master/babi_data/en\n",
    "\n",
    "\n",
    "<p> &nbsp;\n",
    "    \n",
    "    \n",
    "# settings ==> .keras ==> dataset 안에 데이터 저장됨 \n",
    "\n",
    "\n",
    "https://appliedmachinelearning.blog/2019/05/01/developing-factoid-question-answering-system-on-babi-facebook-data-set-python-keras-part-1/\n",
    "\n",
    "\n"
   ]
  },
  {
   "cell_type": "markdown",
   "metadata": {},
   "source": [
    "#  Feature Extraction\n",
    "\n",
    "Let us first write a helper function to vectorize each stories in order to fetch it to memory network model which we will be creating later."
   ]
  },
  {
   "cell_type": "markdown",
   "metadata": {},
   "source": [
    "https://appliedmachinelearning.blog/2019/05/02/building-end-to-end-memory-network-for-question-answering-system-on-babi-facebook-data-set-python-keras-part-2/"
   ]
  },
  {
   "cell_type": "markdown",
   "metadata": {},
   "source": [
    "# ===================================\n",
    "\n",
    "\n",
    "# 바비 데이터로 뉴럴네트워크 모델 학습시키기 \n",
    "\n",
    "\n",
    "<p> &nbsp;"
   ]
  },
  {
   "cell_type": "markdown",
   "metadata": {},
   "source": [
    "\n",
    "# === 자연어처리 :  babi  QAchatbot  만들기 ===\n"
   ]
  },
  {
   "cell_type": "markdown",
   "metadata": {},
   "source": [
    "<p> &nbsp;\n",
    "\n",
    "# 본래의 Babi QA6 데이터는 data_in 에있다\n",
    "\n",
    "## ./data_in/babi_qa6_train.txt\n",
    "\n",
    "## ./data_in/babi_qa6_test.txt\n",
    "\n",
    "\n",
    "<p> &nbsp;\n",
    "    \n",
    "# =================================\n",
    "    \n",
    "<p> &nbsp;\n",
    "\n",
    "# toy code 에서는 다음 데이터를 사용한다.\n",
    "\n",
    "## ./data_in/babi_train_qa.txt\n",
    "\n",
    "## ./data_in/babi_test_qa.txt\n",
    "    \n",
    "## toy code 의 데이터와 본래 데이터의 차이점은 ??\n",
    "    \n",
    "## +++++++++++++++++++++++++++++++++"
   ]
  },
  {
   "cell_type": "markdown",
   "metadata": {},
   "source": [
    "<p> &nbsp;\n",
    "\n",
    "# ========= Toy 바비 QA 탐구==========="
   ]
  },
  {
   "cell_type": "markdown",
   "metadata": {},
   "source": [
    "\n"
   ]
  },
  {
   "cell_type": "code",
   "execution_count": 1,
   "metadata": {},
   "outputs": [],
   "source": [
    "#Library Imports\n",
    "\n",
    "import pickle\n",
    "\n",
    "import numpy as np\n",
    "import pandas as pd"
   ]
  },
  {
   "cell_type": "code",
   "execution_count": 4,
   "metadata": {
    "scrolled": true
   },
   "outputs": [
    {
     "name": "stdout",
     "output_type": "stream",
     "text": [
      "                                                   0  \\\n",
      "0  ['Mary', 'moved', 'to', 'the', 'bathroom', '.'...   \n",
      "1  ['Mary', 'moved', 'to', 'the', 'bathroom', '.'...   \n",
      "2  ['Mary', 'moved', 'to', 'the', 'bathroom', '.'...   \n",
      "3  ['Mary', 'moved', 'to', 'the', 'bathroom', '.'...   \n",
      "4  ['Mary', 'moved', 'to', 'the', 'bathroom', '.'...   \n",
      "\n",
      "                                                1    2  \n",
      "0   ['Is', 'Sandra', 'in', 'the', 'hallway', '?']   no  \n",
      "1  ['Is', 'Daniel', 'in', 'the', 'bathroom', '?']   no  \n",
      "2    ['Is', 'Daniel', 'in', 'the', 'office', '?']   no  \n",
      "3   ['Is', 'Daniel', 'in', 'the', 'bedroom', '?']  yes  \n",
      "4   ['Is', 'Daniel', 'in', 'the', 'bedroom', '?']  yes  \n"
     ]
    }
   ],
   "source": [
    "print(df[0:5])"
   ]
  },
  {
   "cell_type": "markdown",
   "metadata": {},
   "source": [
    "# pickle 데이터 파일과 csv 데이터 파일\n",
    "\n",
    "## 교재 80페이지의 pandas, numpy 를 익힌다. "
   ]
  },
  {
   "cell_type": "code",
   "execution_count": 7,
   "metadata": {
    "scrolled": true
   },
   "outputs": [
    {
     "name": "stdout",
     "output_type": "stream",
     "text": [
      "(10000, 3)\n"
     ]
    }
   ],
   "source": [
    "#retrieve training data\n",
    "\n",
    "# IOPub data rate exceeded.\n",
    "# jupyter notebook --NotebookApp.iopub_data_rate_limit=10000000000\n",
    "\n",
    "unpickled_df = pd.read_pickle('./data_in/babi_train_qa.txt')\n",
    "# print( unpickled_df)== list 이다 \n",
    "   \n",
    "df = pd.DataFrame( unpickled_df )  \n",
    "# df = pd.DataFrame(some_list, columns=[\"colummn\"]) \n",
    "\n",
    "df.to_csv('./data_in/babi_train_qa.csv', index=False)\n",
    "\n",
    "df[0:5]\n",
    "\n",
    "print( df.shape) # 학습 데이터의 갯수 일만개 :"
   ]
  },
  {
   "cell_type": "code",
   "execution_count": 8,
   "metadata": {},
   "outputs": [
    {
     "name": "stdout",
     "output_type": "stream",
     "text": [
      "['Mary', 'got', 'the', 'milk', 'there', '.', 'John', 'moved', 'to', 'the', 'bedroom', '.']\n",
      "['Is', 'John', 'in', 'the', 'kitchen', '?']\n",
      "no\n",
      "['Mary', 'got', 'the', 'milk', 'there', '.', 'John', 'moved', 'to', 'the', 'bedroom', '.', 'Mary', 'discarded', 'the', 'milk', '.', 'John', 'went', 'to', 'the', 'garden', '.', 'Daniel', 'moved', 'to', 'the', 'bedroom', '.', 'Daniel', 'went', 'to', 'the', 'garden', '.', 'Daniel', 'travelled', 'to', 'the', 'bathroom', '.', 'Sandra', 'travelled', 'to', 'the', 'bedroom', '.', 'Mary', 'took', 'the', 'football', 'there', '.', 'Sandra', 'grabbed', 'the', 'milk', 'there', '.']\n",
      "['Is', 'Daniel', 'in', 'the', 'bedroom', '?']\n",
      "no\n",
      "['Daniel', 'went', 'back', 'to', 'the', 'kitchen', '.', 'Mary', 'grabbed', 'the', 'apple', 'there', '.']\n",
      "['Is', 'Daniel', 'in', 'the', 'office', '?']\n",
      "no\n",
      "(1000, 3)\n"
     ]
    }
   ],
   "source": [
    "#retrieve training data\n",
    "\n",
    "# IOPub data rate exceeded.\n",
    "# jupyter notebook --NotebookApp.iopub_data_rate_limit=10000000000\n",
    "\n",
    "unpickled_df = pd.read_pickle('./data_in/babi_test_qa.txt')\n",
    "# print( unpickled_df)== list 이다 \n",
    "   \n",
    "df = pd.DataFrame( unpickled_df )  \n",
    "# df = pd.DataFrame(some_list, columns=[\"colummn\"]) \n",
    "\n",
    "df.to_csv('./data_in/babi_test_qa.csv', index=False)\n",
    "\n",
    "print( df[0][0] )\n",
    "print( df[1][0] )\n",
    "print( df[2][0] )\n",
    "\n",
    "print( df[0][4] )\n",
    "print( df[1][4] )\n",
    "print( df[2][4] )\n",
    "\n",
    "print( df[0][5] )\n",
    "print( df[1][5] )\n",
    "print( df[2][5] )\n",
    "\n",
    "print( df.shape )  # ===> 테스트 데이터의 갯수 1000 개"
   ]
  },
  {
   "cell_type": "markdown",
   "metadata": {},
   "source": [
    "\n",
    "# [문제] 아래 QA6 text 파일과 비교하여보라\n",
    "\n",
    "## ./data_in/babi_qa6_train.txt\n",
    "\n",
    "## ./data_in/babi_qa6_test.txt"
   ]
  },
  {
   "cell_type": "code",
   "execution_count": 9,
   "metadata": {
    "scrolled": true
   },
   "outputs": [
    {
     "name": "stdout",
     "output_type": "stream",
     "text": [
      "(['Sandra', 'went', 'back', 'to', 'the', 'hallway', '.', 'Sandra', 'moved', 'to', 'the', 'office', '.'], ['Is', 'Sandra', 'in', 'the', 'office', '?'], 'yes')\n"
     ]
    },
    {
     "data": {
      "text/plain": [
       "(['Mary',\n",
       "  'moved',\n",
       "  'to',\n",
       "  'the',\n",
       "  'bathroom',\n",
       "  '.',\n",
       "  'Sandra',\n",
       "  'journeyed',\n",
       "  'to',\n",
       "  'the',\n",
       "  'bedroom',\n",
       "  '.'],\n",
       " ['Is', 'Sandra', 'in', 'the', 'hallway', '?'],\n",
       " 'no')"
      ]
     },
     "execution_count": 9,
     "metadata": {},
     "output_type": "execute_result"
    }
   ],
   "source": [
    "with open('./data_in/babi_train_qa.txt', 'rb') as f:\n",
    "    train_data = pickle.load(f)\n",
    "\n",
    "print( train_data[10] )\n",
    "train_data[0][0:3]"
   ]
  },
  {
   "cell_type": "code",
   "execution_count": 10,
   "metadata": {},
   "outputs": [],
   "source": [
    "#retrieve test data\n",
    "\n",
    "with open('./data_in/babi_test_qa.txt', 'rb') as f:\n",
    "    test_data = pickle.load(f)"
   ]
  },
  {
   "cell_type": "code",
   "execution_count": 11,
   "metadata": {},
   "outputs": [
    {
     "data": {
      "text/plain": [
       "10000"
      ]
     },
     "execution_count": 11,
     "metadata": {},
     "output_type": "execute_result"
    }
   ],
   "source": [
    "#Number of training instances\n",
    "len(train_data)"
   ]
  },
  {
   "cell_type": "code",
   "execution_count": 12,
   "metadata": {},
   "outputs": [
    {
     "data": {
      "text/plain": [
       "1000"
      ]
     },
     "execution_count": 12,
     "metadata": {},
     "output_type": "execute_result"
    }
   ],
   "source": [
    "#Number of test instances\n",
    "\n",
    "len(test_data)"
   ]
  },
  {
   "cell_type": "code",
   "execution_count": 13,
   "metadata": {},
   "outputs": [
    {
     "data": {
      "text/plain": [
       "(['Sandra',\n",
       "  'went',\n",
       "  'back',\n",
       "  'to',\n",
       "  'the',\n",
       "  'hallway',\n",
       "  '.',\n",
       "  'Sandra',\n",
       "  'moved',\n",
       "  'to',\n",
       "  'the',\n",
       "  'office',\n",
       "  '.'],\n",
       " ['Is', 'Sandra', 'in', 'the', 'office', '?'],\n",
       " 'yes')"
      ]
     },
     "execution_count": 13,
     "metadata": {},
     "output_type": "execute_result"
    }
   ],
   "source": [
    "#Example of one of the instances\n",
    "\n",
    "train_data[10]"
   ]
  },
  {
   "cell_type": "code",
   "execution_count": 14,
   "metadata": {},
   "outputs": [
    {
     "data": {
      "text/plain": [
       "'Sandra went back to the hallway . Sandra moved to the office .'"
      ]
     },
     "execution_count": 14,
     "metadata": {},
     "output_type": "execute_result"
    }
   ],
   "source": [
    "' '.join(train_data[10][0])"
   ]
  },
  {
   "cell_type": "code",
   "execution_count": 15,
   "metadata": {},
   "outputs": [
    {
     "data": {
      "text/plain": [
       "'Is Sandra in the office ?'"
      ]
     },
     "execution_count": 15,
     "metadata": {},
     "output_type": "execute_result"
    }
   ],
   "source": [
    "' '.join(train_data[10][1])"
   ]
  },
  {
   "cell_type": "code",
   "execution_count": 16,
   "metadata": {},
   "outputs": [
    {
     "data": {
      "text/plain": [
       "'yes'"
      ]
     },
     "execution_count": 16,
     "metadata": {},
     "output_type": "execute_result"
    }
   ],
   "source": [
    "train_data[10][2]"
   ]
  },
  {
   "cell_type": "markdown",
   "metadata": {},
   "source": [
    "## 교재 30페이지의 내용과 비교한다\n",
    "\n",
    "\n",
    "# 단어 나열로 벡터를 만든다"
   ]
  },
  {
   "cell_type": "code",
   "execution_count": 17,
   "metadata": {},
   "outputs": [],
   "source": [
    "#First we will build a set of all the words in the dataset:\n",
    "vocab = set()\n",
    "for story, question, answer in train_data:\n",
    "    vocab = vocab.union(set(story)) #Set returns unique words in the sentence\n",
    "                                    #Union returns the unique common elements from a two sets\n",
    "    vocab = vocab.union(set(question))"
   ]
  },
  {
   "cell_type": "code",
   "execution_count": 18,
   "metadata": {},
   "outputs": [],
   "source": [
    "vocab.add('no')\n",
    "vocab.add('yes')"
   ]
  },
  {
   "cell_type": "code",
   "execution_count": 19,
   "metadata": {
    "scrolled": true
   },
   "outputs": [
    {
     "name": "stdout",
     "output_type": "stream",
     "text": [
      "back\n",
      "bathroom\n",
      "bedroom\n"
     ]
    }
   ],
   "source": [
    "for x in vocab :\n",
    "    if( x.startswith('b')) :\n",
    "        print( x )"
   ]
  },
  {
   "cell_type": "code",
   "execution_count": 20,
   "metadata": {},
   "outputs": [],
   "source": [
    "#Calculate len and add 1 for Keras placeholder - Placeholders are used to feed in the data to the network. \n",
    "#They need a data type, and have optional shape arguements.\n",
    "#They will be empty at first, and then the data will get fed into the placeholder\n",
    "\n",
    "vocab_len = len(vocab) + 1"
   ]
  },
  {
   "cell_type": "code",
   "execution_count": 21,
   "metadata": {},
   "outputs": [
    {
     "data": {
      "text/plain": [
       "38"
      ]
     },
     "execution_count": 21,
     "metadata": {},
     "output_type": "execute_result"
    }
   ],
   "source": [
    "vocab_len"
   ]
  },
  {
   "cell_type": "code",
   "execution_count": 22,
   "metadata": {},
   "outputs": [],
   "source": [
    "#Now we are going to calculate the longest story and the longest question\n",
    "#We need this for the Keras pad sequences. \n",
    "\n",
    "#Keras training layers expect all of the input to have the same length, so \n",
    "#we need to pad \n",
    "\n",
    "all_data = test_data + train_data"
   ]
  },
  {
   "cell_type": "code",
   "execution_count": 23,
   "metadata": {},
   "outputs": [],
   "source": [
    "all_story_lens = [len(data[0]) for data in all_data]"
   ]
  },
  {
   "cell_type": "code",
   "execution_count": 24,
   "metadata": {},
   "outputs": [],
   "source": [
    "max_story_len = (max(all_story_lens))"
   ]
  },
  {
   "cell_type": "code",
   "execution_count": 25,
   "metadata": {},
   "outputs": [],
   "source": [
    "max_question_len = max([len(data[1]) for data in all_data])"
   ]
  },
  {
   "cell_type": "markdown",
   "metadata": {},
   "source": [
    "# Babi 데이터를 벡터로 만들기"
   ]
  },
  {
   "cell_type": "markdown",
   "metadata": {},
   "source": [
    "First, we will go through a manual process of how to vectorize the data, and then we will create a function that does this automatically for us. "
   ]
  },
  {
   "cell_type": "code",
   "execution_count": 26,
   "metadata": {},
   "outputs": [
    {
     "name": "stderr",
     "output_type": "stream",
     "text": [
      "Using TensorFlow backend.\n"
     ]
    },
    {
     "name": "stdout",
     "output_type": "stream",
     "text": [
      "2.3.1\n"
     ]
    }
   ],
   "source": [
    "import keras\n",
    "\n",
    "print( keras.__version__ )\n",
    "\n",
    "\n",
    "from keras.preprocessing.sequence import pad_sequences\n",
    "\n",
    "from keras.preprocessing.text import Tokenizer\n"
   ]
  },
  {
   "cell_type": "code",
   "execution_count": 27,
   "metadata": {},
   "outputs": [],
   "source": [
    "#Create an instance of the tokenizer object:\n",
    "\n",
    "tokenizer = Tokenizer(filters = [])\n",
    "\n",
    "tokenizer.fit_on_texts(vocab)"
   ]
  },
  {
   "cell_type": "code",
   "execution_count": 28,
   "metadata": {},
   "outputs": [
    {
     "data": {
      "text/plain": [
       "{'down': 1,\n",
       " '?': 2,\n",
       " 'left': 3,\n",
       " 'no': 4,\n",
       " 'office': 5,\n",
       " 'moved': 6,\n",
       " 'milk': 7,\n",
       " 'sandra': 8,\n",
       " 'grabbed': 9,\n",
       " 'is': 10,\n",
       " 'discarded': 11,\n",
       " 'picked': 12,\n",
       " 'went': 13,\n",
       " 'dropped': 14,\n",
       " 'kitchen': 15,\n",
       " 'apple': 16,\n",
       " 'took': 17,\n",
       " 'john': 18,\n",
       " '.': 19,\n",
       " 'mary': 20,\n",
       " 'football': 21,\n",
       " 'travelled': 22,\n",
       " 'daniel': 23,\n",
       " 'to': 24,\n",
       " 'put': 25,\n",
       " 'in': 26,\n",
       " 'the': 27,\n",
       " 'back': 28,\n",
       " 'bathroom': 29,\n",
       " 'journeyed': 30,\n",
       " 'garden': 31,\n",
       " 'hallway': 32,\n",
       " 'got': 33,\n",
       " 'yes': 34,\n",
       " 'there': 35,\n",
       " 'up': 36,\n",
       " 'bedroom': 37}"
      ]
     },
     "execution_count": 28,
     "metadata": {},
     "output_type": "execute_result"
    }
   ],
   "source": [
    "#Dictionary that maps every word in our vocab to an index\n",
    "# It has been automatically lowercased\n",
    "#This tokenizer can give different indexes for different words depending on when we run it\n",
    "\n",
    "\n",
    "tokenizer.word_index"
   ]
  },
  {
   "cell_type": "code",
   "execution_count": 29,
   "metadata": {},
   "outputs": [],
   "source": [
    "#Tokenize the stories, questions and answers:\n",
    "train_story_text = []\n",
    "train_question_text = []\n",
    "train_answers = []"
   ]
  },
  {
   "cell_type": "code",
   "execution_count": 30,
   "metadata": {},
   "outputs": [],
   "source": [
    "#Separating each of the elements\n",
    "\n",
    "for story,question,answer in train_data:\n",
    "    train_story_text.append(story)\n",
    "    train_question_text.append(question) \n",
    "    train_answers.append(answer)\n",
    "    "
   ]
  },
  {
   "cell_type": "code",
   "execution_count": 31,
   "metadata": {},
   "outputs": [],
   "source": [
    "#Coverting the text into the indexes \n",
    "\n",
    "train_story_seq = tokenizer.texts_to_sequences(train_story_text)"
   ]
  },
  {
   "cell_type": "code",
   "execution_count": 32,
   "metadata": {},
   "outputs": [],
   "source": [
    "#Create a function for vectorizing the stories, questions and answers:\n",
    "\n",
    "def vectorize_stories(data,word_index = tokenizer.word_index, max_story_len = max_story_len, max_question_len = max_question_len):\n",
    "    #vectorized stories:\n",
    "    X = []\n",
    "    #vectorized questions:\n",
    "    Xq = []\n",
    "    #vectorized answers:\n",
    "    Y = []\n",
    "    \n",
    "    for story, question, answer in data:\n",
    "        #Getting indexes for each word in the story\n",
    "        x = [word_index[word.lower()] for word in story]\n",
    "        #Getting indexes for each word in the story\n",
    "        xq = [word_index[word.lower()] for word in question]\n",
    "        #For the answers\n",
    "        y = np.zeros(len(word_index) + 1) #Index 0 Reserved when padding the sequences\n",
    "        y[word_index[answer]] = 1\n",
    "        \n",
    "        X.append(x)\n",
    "        Xq.append(xq)\n",
    "        Y.append(y)\n",
    "        \n",
    "    #Now we have to pad these sequences:\n",
    "    return(pad_sequences(X,maxlen=max_story_len), pad_sequences(Xq, maxlen=max_question_len), np.array(Y))\n",
    "        "
   ]
  },
  {
   "cell_type": "code",
   "execution_count": 33,
   "metadata": {},
   "outputs": [],
   "source": [
    "inputs_train, questions_train, answers_train = vectorize_stories(train_data)"
   ]
  },
  {
   "cell_type": "code",
   "execution_count": 34,
   "metadata": {},
   "outputs": [],
   "source": [
    "inputs_test, questions_test, answers_test = vectorize_stories(test_data)"
   ]
  },
  {
   "cell_type": "code",
   "execution_count": 35,
   "metadata": {},
   "outputs": [
    {
     "data": {
      "text/plain": [
       "array([ 0,  0,  0,  0,  0,  0,  0,  0,  0,  0,  0,  0,  0,  0,  0,  0,  0,\n",
       "        0,  0,  0,  0,  0,  0,  0,  0,  0,  0,  0,  0,  0,  0,  0,  0,  0,\n",
       "        0,  0,  0,  0,  0,  0,  0,  0,  0,  0,  0,  0,  0,  0,  0,  0,  0,\n",
       "        0,  0,  0,  0,  0,  0,  0,  0,  0,  0,  0,  0,  0,  0,  0,  0,  0,\n",
       "        0,  0,  0,  0,  0,  0,  0,  0,  0,  0,  0,  0,  0,  0,  0,  0,  0,\n",
       "        0,  0,  0,  0,  0,  0,  0,  0,  0,  0,  0,  0,  0,  0,  0,  0,  0,\n",
       "        0,  0, 20,  6, 24, 27, 29, 19,  8, 30, 24, 27, 37, 19, 20, 13, 28,\n",
       "       24, 27, 37, 19, 23, 13, 28, 24, 27, 32, 19,  8, 13, 24, 27, 15, 19,\n",
       "       23, 13, 28, 24, 27, 29, 19, 23, 12, 36, 27, 21, 35, 19, 23, 13, 24,\n",
       "       27, 37, 19])"
      ]
     },
     "execution_count": 35,
     "metadata": {},
     "output_type": "execute_result"
    }
   ],
   "source": [
    "inputs_train[3]"
   ]
  },
  {
   "cell_type": "code",
   "execution_count": 36,
   "metadata": {},
   "outputs": [
    {
     "data": {
      "text/plain": [
       "['Mary',\n",
       " 'moved',\n",
       " 'to',\n",
       " 'the',\n",
       " 'bathroom',\n",
       " '.',\n",
       " 'Sandra',\n",
       " 'journeyed',\n",
       " 'to',\n",
       " 'the',\n",
       " 'bedroom',\n",
       " '.']"
      ]
     },
     "execution_count": 36,
     "metadata": {},
     "output_type": "execute_result"
    }
   ],
   "source": [
    "# train_story_text[3]\n",
    "\n",
    "train_story_text[0]"
   ]
  },
  {
   "cell_type": "code",
   "execution_count": 37,
   "metadata": {},
   "outputs": [
    {
     "data": {
      "text/plain": [
       "[20, 6, 24, 27, 29, 19, 8, 30, 24, 27, 37, 19]"
      ]
     },
     "execution_count": 37,
     "metadata": {},
     "output_type": "execute_result"
    }
   ],
   "source": [
    "# train_story_seq[3]\n",
    "\n",
    "train_story_seq[0]"
   ]
  },
  {
   "cell_type": "code",
   "execution_count": 38,
   "metadata": {},
   "outputs": [
    {
     "data": {
      "text/plain": [
       "'yes'"
      ]
     },
     "execution_count": 38,
     "metadata": {},
     "output_type": "execute_result"
    }
   ],
   "source": [
    "train_answers[3]"
   ]
  },
  {
   "cell_type": "code",
   "execution_count": 39,
   "metadata": {},
   "outputs": [
    {
     "data": {
      "text/plain": [
       "array([0., 0., 0., 0., 0., 0., 0., 0., 0., 0., 0., 0., 0., 0., 0., 0., 0.,\n",
       "       0., 0., 0., 0., 0., 0., 0., 0., 0., 0., 0., 0., 0., 0., 0., 0., 0.,\n",
       "       1., 0., 0., 0.])"
      ]
     },
     "execution_count": 39,
     "metadata": {},
     "output_type": "execute_result"
    }
   ],
   "source": [
    "answers_train[3]"
   ]
  },
  {
   "cell_type": "markdown",
   "metadata": {},
   "source": [
    "# 교재 36페이지의 input-output mapping 참고\n",
    "\n",
    "\n",
    "# 벡터 대응시키는 모델 (뉴럴네트워크)"
   ]
  },
  {
   "cell_type": "code",
   "execution_count": 40,
   "metadata": {},
   "outputs": [],
   "source": [
    "#Imports\n",
    "\n",
    "from keras.models import Sequential, Model\n",
    "\n",
    "from keras.layers.embeddings import Embedding\n",
    "\n",
    "from keras.layers import Input, Activation, Dense, Permute, Dropout, add, dot, concatenate, LSTM"
   ]
  },
  {
   "cell_type": "code",
   "execution_count": 41,
   "metadata": {},
   "outputs": [],
   "source": [
    "# We need to create the placeholders \n",
    "#The Input function is used to create a keras tensor\n",
    "#PLACEHOLDER shape = (max_story_len,batch_size)\n",
    "#These are our placeholder for the inputs, ready to recieve batches of the stories and the questions\n",
    "\n",
    "input_sequence = Input((max_story_len,)) #As we dont know batch size yet\n",
    "\n",
    "question = Input((max_question_len,))"
   ]
  },
  {
   "cell_type": "code",
   "execution_count": 42,
   "metadata": {},
   "outputs": [
    {
     "name": "stdout",
     "output_type": "stream",
     "text": [
      "Tensor(\"input_1:0\", shape=(None, 156), dtype=float32)\n",
      "Tensor(\"input_2:0\", shape=(None, 6), dtype=float32)\n"
     ]
    }
   ],
   "source": [
    "print( input_sequence )\n",
    "\n",
    "print( question )"
   ]
  },
  {
   "cell_type": "markdown",
   "metadata": {},
   "source": [
    "# encocder + decoder \n",
    "\n",
    "## 교재 129 페이지 참고\n",
    "\n",
    "![title](images/babiMNN.png)"
   ]
  },
  {
   "cell_type": "markdown",
   "metadata": {},
   "source": [
    "On the left part of the previous image we can see a representation of a single layer of this model. Two different embeddings are calculated for each sentence, A and C. Also, the query or question q is embedded, using the B embedding.\n",
    "\n",
    "The A embeddings mi, are then computed using an inner product with the question embedding u (this is the part where the attention is taking place, as by computing the inner product between these embeddings what we are doing is looking for matches of words from the query and the sentence, to then give more importance to these matches using a Softmax function on the resulting terms of the dot product).\n",
    "\n",
    "Lastly, we compute the output vector o using the embeddings from C (ci), and the weights or probabilities pi obtained from the dot product. With this output vector o, the weight matrix W, and the embedding of the question u, we can finally calculate the predicted answer a hat.\n",
    "\n",
    "To build the entire network, we just repeat these procedure on the different layers, using the predicted output from one of them as the input for the next one. This is shown on the right part of the previous image.\n",
    "\n",
    "\n",
    "\n",
    "\n",
    "\n",
    "\n",
    "They have to have the same dimension as the data that will be fed, and can also have a batch size defined, although we can leave it blank if we dont know it at the time of creating the placeholders.\n",
    "\n",
    "Now we have to create the embeddings mentioned in the paper, A, C and B. An embedding turns an integer number (in this case the index of a word) into a d dimensional vector, where context is taken into account. Word embeddings are widely used in NLP and is one of the techniques that has made the field progress so much in the recent years."
   ]
  },
  {
   "cell_type": "code",
   "execution_count": 166,
   "metadata": {},
   "outputs": [],
   "source": [
    "#Create input encoder A:\n",
    "\n",
    "input_encoder_m = Sequential()\n",
    "input_encoder_m.add(Embedding(input_dim=vocab_len,output_dim = 64)) #From paper\n",
    "input_encoder_m.add(Dropout(0.3))\n",
    "\n",
    "#Outputs: (Samples, story_maxlen,embedding_dim) -- Gives a list of the lenght of the samples where each item has the\n",
    "#lenght of the max story lenght and every word is embedded in the embbeding dimension"
   ]
  },
  {
   "cell_type": "code",
   "execution_count": 167,
   "metadata": {},
   "outputs": [],
   "source": [
    "#Create input encoder C:\n",
    "\n",
    "input_encoder_c = Sequential()\n",
    "input_encoder_c.add(Embedding(input_dim=vocab_len,output_dim = max_question_len)) #From paper\n",
    "input_encoder_c.add(Dropout(0.3))\n",
    "\n",
    "#Outputs: (samples, story_maxlen, max_question_len)"
   ]
  },
  {
   "cell_type": "code",
   "execution_count": 168,
   "metadata": {},
   "outputs": [],
   "source": [
    "#Create question encoder:\n",
    "#Create input encoder B:\n",
    "\n",
    "question_encoder = Sequential()\n",
    "question_encoder.add(Embedding(input_dim=vocab_len,output_dim = 64,input_length=max_question_len)) #From paper\n",
    "question_encoder.add(Dropout(0.3))\n",
    "\n",
    "#Outputs: (samples, question_maxlen, embedding_dim)"
   ]
  },
  {
   "cell_type": "code",
   "execution_count": 169,
   "metadata": {},
   "outputs": [],
   "source": [
    "#Now lets encode the sequences, passing the placeholders into our encoders:\n",
    "\n",
    "input_encoded_m = input_encoder_m(input_sequence)\n",
    "input_encoded_c = input_encoder_c(input_sequence)\n",
    "question_encoded = question_encoder(question)"
   ]
  },
  {
   "cell_type": "markdown",
   "metadata": {},
   "source": [
    "## ++++++++++++++++++++++++\n",
    "\n",
    "Once we have created the two embeddings for the input sentences, and the embeddings for the questions, we can start defining the operations that take place in our model. As mentioned previously, we compute the attention by doing the dot product between the embedding of the questions and one of the embeddings of the stories, and then doing a softmax. The following block shows how this is done:"
   ]
  },
  {
   "cell_type": "code",
   "execution_count": 170,
   "metadata": {},
   "outputs": [],
   "source": [
    "#Use dot product to compute similarity between input encoded m and question \n",
    "#Like in the paper:\n",
    "\n",
    "match = dot([input_encoded_m,question_encoded], axes = (2,2))\n",
    "match = Activation('softmax')(match)"
   ]
  },
  {
   "cell_type": "markdown",
   "metadata": {},
   "source": [
    "After this, we need to calculate the output o adding the match matrix with the second input vector sequence, and then calculate the response using this output and the encoded question."
   ]
  },
  {
   "cell_type": "code",
   "execution_count": 171,
   "metadata": {},
   "outputs": [],
   "source": [
    "#For the response we want to add this match with the ouput of input_encoded_c\n",
    "\n",
    "response = add([match,input_encoded_c])\n",
    "response = Permute((2,1))(response) #Permute Layer: permutes dimensions of input"
   ]
  },
  {
   "cell_type": "code",
   "execution_count": 172,
   "metadata": {},
   "outputs": [],
   "source": [
    "#Once we have the response we can concatenate it with the question encoded:\n",
    "\n",
    "answer = concatenate([response, question_encoded])"
   ]
  },
  {
   "cell_type": "code",
   "execution_count": 173,
   "metadata": {},
   "outputs": [
    {
     "data": {
      "text/plain": [
       "<tf.Tensor 'concatenate_2/concat:0' shape=(None, 6, 220) dtype=float32>"
      ]
     },
     "execution_count": 173,
     "metadata": {},
     "output_type": "execute_result"
    }
   ],
   "source": [
    "answer"
   ]
  },
  {
   "cell_type": "markdown",
   "metadata": {},
   "source": [
    "Lastly, once this is done we add the rest of the layers of the model, adding an LSTM layer (instead of an RNN like in the paper), a dropout layer and a final softmax to compute the output."
   ]
  },
  {
   "cell_type": "code",
   "execution_count": 174,
   "metadata": {},
   "outputs": [],
   "source": [
    "# Reduce the answer tensor with a RNN (LSTM)\n",
    "\n",
    "answer = LSTM(32)(answer)"
   ]
  },
  {
   "cell_type": "code",
   "execution_count": 175,
   "metadata": {},
   "outputs": [],
   "source": [
    "#Regularization with dropout:\n",
    "\n",
    "answer = Dropout(0.5)(answer)\n",
    "\n",
    "#Output layer:\n",
    "\n",
    "answer = Dense(vocab_len)(answer) #Output shape: (Samples, Vocab_size) #Yes or no and all 0s"
   ]
  },
  {
   "cell_type": "code",
   "execution_count": 176,
   "metadata": {},
   "outputs": [],
   "source": [
    "#Now we need to output a probability distribution for the vocab, using softmax:\n",
    "answer = Activation('softmax')(answer)"
   ]
  },
  {
   "cell_type": "markdown",
   "metadata": {},
   "source": [
    "# 모델 Model !!\n",
    "\n",
    "Notice here that the output is a vector of the size of the vocabulary (that is, the length of the number of words known by the model), where all the positions should be zero except the ones at the indexes of ‘yes’ and ‘no’."
   ]
  },
  {
   "cell_type": "code",
   "execution_count": 206,
   "metadata": {},
   "outputs": [],
   "source": [
    "#Now we build the final model:\n",
    "\n",
    "model = Model([input_sequence,question], answer)\n"
   ]
  },
  {
   "cell_type": "code",
   "execution_count": 207,
   "metadata": {},
   "outputs": [],
   "source": [
    "model.compile(optimizer='rmsprop', loss = 'categorical_crossentropy', metrics = ['accuracy'])\n",
    "\n",
    "#Categorical instead of binary cross entropy as because of the way we are training\n",
    "#we could actually see any of the words from the vocab as output\n",
    "#however, we should only see yes or no"
   ]
  },
  {
   "cell_type": "code",
   "execution_count": 208,
   "metadata": {},
   "outputs": [
    {
     "name": "stdout",
     "output_type": "stream",
     "text": [
      "Model: \"model_3\"\n",
      "__________________________________________________________________________________________________\n",
      "Layer (type)                    Output Shape         Param #     Connected to                     \n",
      "==================================================================================================\n",
      "input_1 (InputLayer)            (None, 156)          0                                            \n",
      "__________________________________________________________________________________________________\n",
      "input_2 (InputLayer)            (None, 6)            0                                            \n",
      "__________________________________________________________________________________________________\n",
      "sequential_4 (Sequential)       multiple             2432        input_1[0][0]                    \n",
      "__________________________________________________________________________________________________\n",
      "sequential_6 (Sequential)       (None, 6, 64)        2432        input_2[0][0]                    \n",
      "__________________________________________________________________________________________________\n",
      "dot_2 (Dot)                     (None, 156, 6)       0           sequential_4[1][0]               \n",
      "                                                                 sequential_6[1][0]               \n",
      "__________________________________________________________________________________________________\n",
      "activation_3 (Activation)       (None, 156, 6)       0           dot_2[0][0]                      \n",
      "__________________________________________________________________________________________________\n",
      "sequential_5 (Sequential)       multiple             228         input_1[0][0]                    \n",
      "__________________________________________________________________________________________________\n",
      "add_2 (Add)                     (None, 156, 6)       0           activation_3[0][0]               \n",
      "                                                                 sequential_5[1][0]               \n",
      "__________________________________________________________________________________________________\n",
      "permute_2 (Permute)             (None, 6, 156)       0           add_2[0][0]                      \n",
      "__________________________________________________________________________________________________\n",
      "concatenate_2 (Concatenate)     (None, 6, 220)       0           permute_2[0][0]                  \n",
      "                                                                 sequential_6[1][0]               \n",
      "__________________________________________________________________________________________________\n",
      "lstm_2 (LSTM)                   (None, 32)           32384       concatenate_2[0][0]              \n",
      "__________________________________________________________________________________________________\n",
      "dropout_8 (Dropout)             (None, 32)           0           lstm_2[0][0]                     \n",
      "__________________________________________________________________________________________________\n",
      "dense_2 (Dense)                 (None, 38)           1254        dropout_8[0][0]                  \n",
      "__________________________________________________________________________________________________\n",
      "activation_4 (Activation)       (None, 38)           0           dense_2[0][0]                    \n",
      "==================================================================================================\n",
      "Total params: 38,730\n",
      "Trainable params: 38,730\n",
      "Non-trainable params: 0\n",
      "__________________________________________________________________________________________________\n"
     ]
    }
   ],
   "source": [
    "model.summary()"
   ]
  },
  {
   "cell_type": "markdown",
   "metadata": {},
   "source": [
    "With these two lines we build the final model, and compile it, that is, define all the maths that will be going on in the background by specifying an optimiser, a loss function and a metric to optimise.\n",
    "\n",
    "Now its time to train the model, here we need to define the inputs to the training, (the input stories, questions and answers), the batch size that we will be feeding the model with (that is, how many inputs at once), and the number of epochs that we will train the model for (that is, how many times the model will go through the training data in order to update the weights). I used 1000 epochs and obtained an accuracy of 98%, but even with 100 to 200 epochs you should get some pretty good results.\n",
    "\n",
    "Note that depending on your hardware, this training might take a while. Just relax, sit back, keep reading Medium and wait until its done.\n",
    "\n",
    "After its completed the training you might be left wondering “am I going to have to wait this long every time I want to use the model?” the obvious answer my friend is, NO. Keras allows developers to save a certain model it has trained, with the weights and all the configurations. The following block of code shows how this is done."
   ]
  },
  {
   "cell_type": "markdown",
   "metadata": {},
   "source": [
    "## +++++++++++++++++++++++++++++"
   ]
  },
  {
   "cell_type": "code",
   "execution_count": 180,
   "metadata": {},
   "outputs": [
    {
     "name": "stdout",
     "output_type": "stream",
     "text": [
      "(10000, 38)\n"
     ]
    },
    {
     "data": {
      "text/plain": [
       "array([0., 0., 0., 0., 1., 0., 0., 0., 0., 0., 0., 0., 0., 0., 0., 0., 0.,\n",
       "       0., 0., 0., 0., 0., 0., 0., 0., 0., 0., 0., 0., 0., 0., 0., 0., 0.,\n",
       "       0., 0., 0., 0.])"
      ]
     },
     "execution_count": 180,
     "metadata": {},
     "output_type": "execute_result"
    }
   ],
   "source": [
    "print( answers_train.shape )\n",
    "answers_train[0]"
   ]
  },
  {
   "cell_type": "code",
   "execution_count": 181,
   "metadata": {},
   "outputs": [
    {
     "name": "stdout",
     "output_type": "stream",
     "text": [
      "10000/10000 [==============================] - 1s 103us/step\n",
      "[3.503545736694336, 0.0]\n"
     ]
    }
   ],
   "source": [
    "val=model.evaluate( [inputs_train, questions_train], answers_train, \n",
    "                    batch_size = 32)\n",
    "print(val)\n",
    "\n",
    "# 길이가 38인 곳으로 랜덤하게 가기에, 확률적으로 1/38\n",
    "#####################################################"
   ]
  },
  {
   "cell_type": "code",
   "execution_count": 182,
   "metadata": {},
   "outputs": [
    {
     "name": "stdout",
     "output_type": "stream",
     "text": [
      "0.034252726\n"
     ]
    }
   ],
   "source": [
    "my_story = 'Sandra picked up the milk . Mary travelled left . '\n",
    "my_question = 'Sandra got the milk ?'\n",
    "\n",
    "my_data = [(my_story.split(), my_question.split(),'yes')]\n",
    "my_story, my_ques, my_ans = vectorize_stories(my_data)\n",
    "\n",
    "pred_results = model.predict(([my_story,my_ques]))\n",
    "val_max = np.argmax(pred_results[0])\n",
    "\n",
    "print(pred_results[0][val_max])\n",
    "      \n",
    "# 맟출 확률이 1/38\n",
    "##################"
   ]
  },
  {
   "cell_type": "markdown",
   "metadata": {},
   "source": [
    "# +++++++++++++++++++++++++++++++++\n",
    "\n",
    "<p> &nbsp;\n",
    "\n",
    "\n",
    "\n",
    "# 여기의 숫자 ? 확률적으로 !"
   ]
  },
  {
   "cell_type": "markdown",
   "metadata": {},
   "source": [
    "# 깡통인 모델에 이미 학습한 것을 주입하자\n",
    "\n",
    "\n",
    "\n",
    "모델 학습과정 설정하기\n",
    "\n",
    "        학습하기 전에 학습에 대한 설정을 수행합니다.\n",
    "        손실 함수 및 최적화 방법을 정의합니다.\n",
    "        케라스에서는 compile() 함수를 사용합니다.\n",
    "    \n",
    "모델 학습시키기\n",
    "\n",
    "        훈련셋을 이용하여 구성한 모델로 학습시킵니다.\n",
    "        케라스에서는 fit() 함수를 사용합니다.\n",
    "    \n",
    "학습과정 살펴보기\n",
    "\n",
    "        모델 학습 시 훈련셋, 검증셋의 손실 및 정확도를 측정합니다.\n",
    "        반복횟수에 따른 손실 및 정확도 추이를 보면서 학습 상황을 판단합니다.\n",
    "    \n",
    "모델 평가하기\n",
    "\n",
    "        준비된 시험셋으로 학습한 모델을 평가합니다.\n",
    "        케라스에서는 evaluate() 함수를 사용합니다.\n",
    "    \n",
    "모델 사용하기\n",
    "\n",
    "        임의의 입력으로 모델의 출력을 얻습니다.\n",
    "        케라스에서는 predict() 함수를 사용합니다."
   ]
  },
  {
   "cell_type": "markdown",
   "metadata": {},
   "source": [
    "# 공부한 AI 두뇌 model 을 불러온다."
   ]
  },
  {
   "cell_type": "code",
   "execution_count": 254,
   "metadata": {},
   "outputs": [
    {
     "name": "stderr",
     "output_type": "stream",
     "text": [
      "C:\\WinPython37F\\python-3.7.2.amd64\\lib\\site-packages\\tensorflow_core\\python\\framework\\indexed_slices.py:424: UserWarning: Converting sparse IndexedSlices to a dense Tensor of unknown shape. This may consume a large amount of memory.\n",
      "  \"Converting sparse IndexedSlices to a dense Tensor of unknown shape. \"\n"
     ]
    }
   ],
   "source": [
    "del model\n",
    "##################################################\n",
    "#To load a model that we have already trained and saved:\n",
    "# batch_size=32 , epochs=350 이상 훈련시킨 모델 부름 \n",
    "\n",
    "\n",
    "\n",
    "from keras.models import load_model\n",
    "\n",
    "\n",
    "# returns a compiled model\n",
    "# identical to the previous one\n",
    "\n",
    "##################################################\n",
    "##################################################\n",
    "\n",
    "model = load_model('./data_out/babi_chatbot_50.h5')\n",
    "\n",
    "###################################################\n",
    "###################################################"
   ]
  },
  {
   "cell_type": "markdown",
   "metadata": {},
   "source": [
    "# ===============================\n",
    "\n",
    "\n",
    "# 더 공부를 시키자 !!\n",
    "\n",
    "# 공부한 것을 저장시키자 !!\n",
    "\n",
    "<p> &nbsp;"
   ]
  },
  {
   "cell_type": "markdown",
   "metadata": {},
   "source": [
    "\n",
    "\n",
    "## Training and testing the model\n",
    "\n",
    "## Saving the model +++++++++++\n",
    "\n",
    "## 학습 평가를 Matplotlib 그래프로 표현"
   ]
  },
  {
   "cell_type": "code",
   "execution_count": 210,
   "metadata": {},
   "outputs": [
    {
     "name": "stdout",
     "output_type": "stream",
     "text": [
      "Train on 10000 samples, validate on 1000 samples\n",
      "Epoch 1/50\n",
      "10000/10000 [==============================] - 5s 459us/step - loss: 0.2911 - accuracy: 0.8728 - val_loss: 0.3944 - val_accuracy: 0.8300\n",
      "Epoch 2/50\n",
      "10000/10000 [==============================] - 4s 380us/step - loss: 0.2903 - accuracy: 0.8739 - val_loss: 0.3538 - val_accuracy: 0.8490\n",
      "Epoch 3/50\n",
      "10000/10000 [==============================] - 4s 379us/step - loss: 0.2907 - accuracy: 0.8715 - val_loss: 0.3658 - val_accuracy: 0.8410\n",
      "Epoch 4/50\n",
      "10000/10000 [==============================] - 4s 380us/step - loss: 0.2890 - accuracy: 0.8749 - val_loss: 0.3469 - val_accuracy: 0.8400\n",
      "Epoch 5/50\n",
      "10000/10000 [==============================] - 4s 375us/step - loss: 0.2881 - accuracy: 0.8717 - val_loss: 0.3606 - val_accuracy: 0.8410\n",
      "Epoch 6/50\n",
      "10000/10000 [==============================] - 4s 379us/step - loss: 0.2878 - accuracy: 0.8712 - val_loss: 0.3464 - val_accuracy: 0.8410\n",
      "Epoch 7/50\n",
      "10000/10000 [==============================] - 4s 374us/step - loss: 0.2866 - accuracy: 0.8731 - val_loss: 0.3570 - val_accuracy: 0.8420\n",
      "Epoch 8/50\n",
      "10000/10000 [==============================] - 4s 386us/step - loss: 0.2885 - accuracy: 0.8778 - val_loss: 0.3508 - val_accuracy: 0.8480\n",
      "Epoch 9/50\n",
      "10000/10000 [==============================] - 4s 395us/step - loss: 0.2818 - accuracy: 0.8768 - val_loss: 0.3516 - val_accuracy: 0.8510\n",
      "Epoch 10/50\n",
      "10000/10000 [==============================] - 4s 382us/step - loss: 0.2858 - accuracy: 0.8760 - val_loss: 0.3509 - val_accuracy: 0.8490\n",
      "Epoch 11/50\n",
      "10000/10000 [==============================] - 4s 376us/step - loss: 0.2872 - accuracy: 0.8753 - val_loss: 0.3564 - val_accuracy: 0.8440\n",
      "Epoch 12/50\n",
      "10000/10000 [==============================] - 4s 373us/step - loss: 0.2768 - accuracy: 0.8786 - val_loss: 0.3583 - val_accuracy: 0.8390\n",
      "Epoch 13/50\n",
      "10000/10000 [==============================] - 4s 379us/step - loss: 0.2831 - accuracy: 0.8783 - val_loss: 0.3520 - val_accuracy: 0.8420\n",
      "Epoch 14/50\n",
      "10000/10000 [==============================] - 4s 377us/step - loss: 0.2738 - accuracy: 0.8786 - val_loss: 0.3533 - val_accuracy: 0.8470\n",
      "Epoch 15/50\n",
      "10000/10000 [==============================] - 4s 380us/step - loss: 0.2796 - accuracy: 0.8808 - val_loss: 0.4078 - val_accuracy: 0.8290\n",
      "Epoch 16/50\n",
      "10000/10000 [==============================] - 4s 390us/step - loss: 0.2775 - accuracy: 0.8800 - val_loss: 0.3777 - val_accuracy: 0.8430\n",
      "Epoch 17/50\n",
      "10000/10000 [==============================] - 4s 387us/step - loss: 0.2736 - accuracy: 0.8827 - val_loss: 0.3728 - val_accuracy: 0.8420\n",
      "Epoch 18/50\n",
      "10000/10000 [==============================] - 4s 395us/step - loss: 0.2769 - accuracy: 0.8797 - val_loss: 0.3559 - val_accuracy: 0.8450\n",
      "Epoch 19/50\n",
      "10000/10000 [==============================] - 4s 396us/step - loss: 0.2761 - accuracy: 0.8810 - val_loss: 0.3552 - val_accuracy: 0.8420\n",
      "Epoch 20/50\n",
      "10000/10000 [==============================] - 4s 390us/step - loss: 0.2793 - accuracy: 0.8770 - val_loss: 0.3676 - val_accuracy: 0.8420\n",
      "Epoch 21/50\n",
      "10000/10000 [==============================] - 4s 387us/step - loss: 0.2722 - accuracy: 0.8844 - val_loss: 0.3716 - val_accuracy: 0.8330\n",
      "Epoch 22/50\n",
      "10000/10000 [==============================] - 4s 386us/step - loss: 0.2721 - accuracy: 0.8815 - val_loss: 0.3610 - val_accuracy: 0.8430\n",
      "Epoch 23/50\n",
      "10000/10000 [==============================] - 4s 385us/step - loss: 0.2759 - accuracy: 0.8814 - val_loss: 0.3702 - val_accuracy: 0.8480\n",
      "Epoch 24/50\n",
      "10000/10000 [==============================] - 4s 384us/step - loss: 0.2714 - accuracy: 0.8833 - val_loss: 0.3656 - val_accuracy: 0.8450\n",
      "Epoch 25/50\n",
      "10000/10000 [==============================] - 4s 384us/step - loss: 0.2730 - accuracy: 0.8796 - val_loss: 0.3667 - val_accuracy: 0.8410\n",
      "Epoch 26/50\n",
      "10000/10000 [==============================] - 4s 385us/step - loss: 0.2652 - accuracy: 0.8828 - val_loss: 0.3746 - val_accuracy: 0.8420\n",
      "Epoch 27/50\n",
      "10000/10000 [==============================] - 4s 417us/step - loss: 0.2639 - accuracy: 0.8862 - val_loss: 0.3984 - val_accuracy: 0.8480\n",
      "Epoch 28/50\n",
      "10000/10000 [==============================] - 4s 440us/step - loss: 0.2666 - accuracy: 0.8861 - val_loss: 0.3681 - val_accuracy: 0.8410\n",
      "Epoch 29/50\n",
      "10000/10000 [==============================] - 4s 445us/step - loss: 0.2633 - accuracy: 0.8838 - val_loss: 0.3713 - val_accuracy: 0.8400\n",
      "Epoch 30/50\n",
      "10000/10000 [==============================] - 4s 443us/step - loss: 0.2626 - accuracy: 0.8837 - val_loss: 0.3645 - val_accuracy: 0.8360\n",
      "Epoch 31/50\n",
      "10000/10000 [==============================] - 4s 440us/step - loss: 0.2584 - accuracy: 0.8867 - val_loss: 0.3745 - val_accuracy: 0.8440\n",
      "Epoch 32/50\n",
      "10000/10000 [==============================] - 4s 444us/step - loss: 0.2598 - accuracy: 0.8857 - val_loss: 0.3709 - val_accuracy: 0.8430\n",
      "Epoch 33/50\n",
      "10000/10000 [==============================] - 4s 441us/step - loss: 0.2589 - accuracy: 0.8869 - val_loss: 0.3793 - val_accuracy: 0.8390\n",
      "Epoch 34/50\n",
      "10000/10000 [==============================] - 4s 447us/step - loss: 0.2577 - accuracy: 0.8894 - val_loss: 0.3929 - val_accuracy: 0.8310\n",
      "Epoch 35/50\n",
      "10000/10000 [==============================] - 4s 439us/step - loss: 0.2614 - accuracy: 0.8902 - val_loss: 0.3832 - val_accuracy: 0.8360\n",
      "Epoch 36/50\n",
      "10000/10000 [==============================] - 4s 443us/step - loss: 0.2595 - accuracy: 0.8895 - val_loss: 0.3939 - val_accuracy: 0.8410\n",
      "Epoch 37/50\n",
      "10000/10000 [==============================] - 4s 444us/step - loss: 0.2607 - accuracy: 0.8849 - val_loss: 0.3740 - val_accuracy: 0.8420\n",
      "Epoch 38/50\n",
      "10000/10000 [==============================] - 4s 446us/step - loss: 0.2521 - accuracy: 0.8917 - val_loss: 0.3661 - val_accuracy: 0.8480\n",
      "Epoch 39/50\n",
      "10000/10000 [==============================] - 4s 444us/step - loss: 0.2529 - accuracy: 0.8909 - val_loss: 0.4013 - val_accuracy: 0.8330\n",
      "Epoch 40/50\n",
      "10000/10000 [==============================] - 5s 453us/step - loss: 0.2519 - accuracy: 0.8914 - val_loss: 0.4186 - val_accuracy: 0.8320\n",
      "Epoch 41/50\n",
      "10000/10000 [==============================] - 5s 456us/step - loss: 0.2513 - accuracy: 0.8900 - val_loss: 0.3756 - val_accuracy: 0.8430\n",
      "Epoch 42/50\n",
      "10000/10000 [==============================] - 4s 439us/step - loss: 0.2537 - accuracy: 0.8914 - val_loss: 0.4187 - val_accuracy: 0.8340\n",
      "Epoch 43/50\n",
      "10000/10000 [==============================] - 4s 445us/step - loss: 0.2539 - accuracy: 0.8910 - val_loss: 0.3816 - val_accuracy: 0.8490\n",
      "Epoch 44/50\n",
      "10000/10000 [==============================] - 4s 442us/step - loss: 0.2462 - accuracy: 0.8954 - val_loss: 0.4053 - val_accuracy: 0.8410\n",
      "Epoch 45/50\n",
      "10000/10000 [==============================] - 4s 447us/step - loss: 0.2471 - accuracy: 0.8925 - val_loss: 0.3868 - val_accuracy: 0.8420\n",
      "Epoch 46/50\n",
      "10000/10000 [==============================] - 4s 444us/step - loss: 0.2438 - accuracy: 0.8951 - val_loss: 0.4077 - val_accuracy: 0.8330\n",
      "Epoch 47/50\n",
      "10000/10000 [==============================] - 4s 447us/step - loss: 0.2386 - accuracy: 0.8989 - val_loss: 0.3787 - val_accuracy: 0.8500\n",
      "Epoch 48/50\n",
      "10000/10000 [==============================] - 4s 448us/step - loss: 0.2406 - accuracy: 0.8969 - val_loss: 0.4344 - val_accuracy: 0.8350\n",
      "Epoch 49/50\n",
      "10000/10000 [==============================] - 4s 442us/step - loss: 0.2420 - accuracy: 0.8973 - val_loss: 0.3906 - val_accuracy: 0.8430\n",
      "Epoch 50/50\n",
      "10000/10000 [==============================] - 4s 445us/step - loss: 0.2399 - accuracy: 0.8986 - val_loss: 0.4089 - val_accuracy: 0.8390\n",
      "10000/10000 [==============================] - 1s 104us/step\n",
      "[0.17740041670203208, 0.9215999841690063]\n",
      "dict_keys(['val_loss', 'val_accuracy', 'loss', 'accuracy'])\n"
     ]
    },
    {
     "data": {
      "image/png": "[encoded data removed]",
      "text/plain": [
       "<Figure size 864x864 with 1 Axes>"
      ]
     },
     "metadata": {
      "needs_background": "light"
     },
     "output_type": "display_data"
    }
   ],
   "source": [
    "\"\"\"\n",
    "import keras.callbacks import EarlyStopping\n",
    "\n",
    "early_stopping_callback = EarlyStopping( monitor='val_loss', patience=100)\n",
    "\n",
    "history = model.fit([inputs_train,questions_train],answers_train, \n",
    "                    batch_size = 32, epochs = 150, \n",
    "                    validation_data = ([inputs_test,questions_test],answers_test),\n",
    "                    callbacks=[early_stopping_callback]  )\n",
    "\"\"\"\n",
    "# 위의 코드는 학습데이터 정확도는 up, 테스트 데이터 정확도가 정체된 오버휫팅때 스탑시킴\n",
    "######################################################################################\n",
    "\n",
    "\n",
    "\n",
    "history = model.fit([inputs_train,questions_train],answers_train, \n",
    "                    batch_size = 32, epochs = 50, \n",
    "                    validation_data = ([inputs_test,questions_test],answers_test) )\n",
    "\n",
    "val=model.evaluate( [inputs_train,questions_train], answers_train, \n",
    "                    batch_size = 32)\n",
    "\n",
    "\n",
    "print(val)\n",
    "\n",
    "\n",
    "######################################\n",
    "\n",
    "\n",
    "filename = './data_out/babi_chatbot.h5'\n",
    "\n",
    "model.save(filename)\n",
    "\n",
    "\n",
    "# 길이가 38인 곳으로 랜덤하게 가기에, 확률적으로 1/38\n",
    "\n",
    "\n",
    "########################################\n",
    "\n",
    "# model.fit 안하면 history 없어서 ==> 에러 \n",
    "# NameError: name 'history' is not defined\n",
    "\n",
    "\n",
    "#Lets plot the increase of accuracy as we increase the number of training epochs\n",
    "#We can see that without any training the acc is about 50%, random guessing\n",
    "\n",
    "import matplotlib.pyplot as plt\n",
    "%matplotlib inline\n",
    "\n",
    "print(history.history.keys())\n",
    "# summarize history for accuracy\n",
    "\n",
    "plt.figure(figsize=(12,12))\n",
    "plt.plot(history.history['accuracy'])\n",
    "plt.plot(history.history['val_accuracy'])\n",
    "plt.title('model accuracy')\n",
    "plt.ylabel('accuracy')\n",
    "plt.xlabel('epoch')\n",
    "plt.legend(['train', 'test'], loc='upper left')\n",
    "plt.show()\n",
    "\n"
   ]
  },
  {
   "cell_type": "markdown",
   "metadata": {},
   "source": [
    "# batch_size = 32 와 epochs=50 의 시작\n",
    "\n",
    "Train on 10000 samples, validate on 1000 samples\n",
    "\n",
    "Epoch 1/50\n",
    "    10000/10000 [==============================] - 7s 686us/step - loss: 0.8794 - accuracy: 0.5036 - val_loss: 0.6941 - val_accuracy: 0.5030\n",
    "\n",
    "Epoch 2/50\n",
    "    10000/10000 [==============================] - 6s 570us/step - loss: 0.7019 - accuracy: 0.4998 - val_loss: 0.6937 - val_accuracy: 0.4970\n",
    "\n",
    "\n",
    "\n",
    "# batch_size = 64 와 epochs=50 의 끝\n",
    "\n",
    "Epoch 48/50\n",
    "    10000/10000 [==============================] - 5s 530us/step - loss: 0.3619 - accuracy: 0.8410 - val_loss: 0.4453 - val_accuracy: 0.7980\n",
    "\n",
    "Epoch 49/50\n",
    "    10000/10000 [==============================] - 5s 542us/step - loss: 0.3586 - accuracy: 0.8406 - val_loss: 0.4490 - val_accuracy: 0.7950\n",
    "\n",
    "Epoch 50/50\n",
    "    10000/10000 [==============================] - 5s 547us/step - loss: 0.3553 - accuracy: 0.8424 - val_loss: 0.4508 - val_accuracy: 0.8030\n",
    "\n",
    "\n",
    "\n",
    "=\n",
    "=\n",
    "=\n",
    "=\n",
    "\n",
    "# batch_size = 32 에 epochs=50 결과\n",
    "\n",
    "\n",
    "![title](images/babi_train_start.png)\n",
    "\n",
    "# batch_size = 32 에 epochs=100 결과\n",
    "\n",
    "![title](images/babi_train.png)\n",
    "\n",
    "\n"
   ]
  },
  {
   "cell_type": "markdown",
   "metadata": {},
   "source": [
    "## [문제] 학습데이터의 정확도는 높아지는데, 테스트 데이터는 정지됨 !!\n",
    "\n",
    "### 과적합 over-fitting의 개념을 이해하고, 테스트 데이터 정확도를 높이는 방법을 탐구 !\n",
    "\n",
    "<p>\n",
    "    \n",
    "### 1. 일만개의 학습데이터와 천개의 테스크 데이터로 나뉘어 있다. 데이터를 일만천개로 바꾸어, \n",
    "### 돌아가며 k-fold cross validation 하는 방법을 알아보라 (데이터의 양이 적은 경우에 필요)\n",
    "    \n",
    "<p>\n",
    "    \n",
    "### 2. Keras 모델의 한계일 수 있다. Hidden layer 갯수나 딥러닝 알고리즘을 바꾸어 학습을 시킨다, \n",
    "### 인터넷 등에서 새로운 여러가지 딥러닝 알고리즘을 알아보고, 이를 Babi 에 적용한다.\n",
    "    "
   ]
  },
  {
   "cell_type": "markdown",
   "metadata": {},
   "source": [
    "## 현재의 딥러닝 모델 \n",
    "<pre>\n",
    "Model: \"model_1\"\n",
    "__________________________________________________________________________________________________\n",
    "Layer (type)                    Output Shape         Param #     Connected to                     \n",
    "==================================================================================================\n",
    "input_1 (InputLayer)            (None, 156)          0                                            \n",
    "__________________________________________________________________________________________________\n",
    "input_2 (InputLayer)            (None, 6)            0                                            \n",
    "__________________________________________________________________________________________________\n",
    "sequential_1 (Sequential)       multiple             2432        input_1[0][0]                    \n",
    "__________________________________________________________________________________________________\n",
    "sequential_3 (Sequential)       (None, 6, 64)        2432        input_2[0][0]                    \n",
    "__________________________________________________________________________________________________\n",
    "dot_1 (Dot)                     (None, 156, 6)       0           sequential_1[1][0]               \n",
    "                                                                 sequential_3[1][0]               \n",
    "__________________________________________________________________________________________________\n",
    "activation_1 (Activation)       (None, 156, 6)       0           dot_1[0][0]                      \n",
    "__________________________________________________________________________________________________\n",
    "sequential_2 (Sequential)       multiple             228         input_1[0][0]                    \n",
    "__________________________________________________________________________________________________\n",
    "add_1 (Add)                     (None, 156, 6)       0           activation_1[0][0]               \n",
    "                                                                 sequential_2[1][0]               \n",
    "__________________________________________________________________________________________________\n",
    "permute_1 (Permute)             (None, 6, 156)       0           add_1[0][0]                      \n",
    "__________________________________________________________________________________________________\n",
    "concatenate_1 (Concatenate)     (None, 6, 220)       0           permute_1[0][0]                  \n",
    "                                                                 sequential_3[1][0]               \n",
    "__________________________________________________________________________________________________\n",
    "lstm_1 (LSTM)                   (None, 32)           32384       concatenate_1[0][0]              \n",
    "__________________________________________________________________________________________________\n",
    "dropout_4 (Dropout)             (None, 32)           0           lstm_1[0][0]                     \n",
    "__________________________________________________________________________________________________\n",
    "dense_1 (Dense)                 (None, 38)           1254        dropout_4[0][0]                  \n",
    "__________________________________________________________________________________________________\n",
    "activation_2 (Activation)       (None, 38)           0           dense_1[0][0]                    \n",
    "==================================================================================================\n",
    "Total params: 38,730\n",
    "Trainable params: 38,730\n",
    "Non-trainable params: 0\n",
    "__________________________________________________________________________________________________\n",
    "</pre>\n",
    "\n",
    "\n"
   ]
  },
  {
   "cell_type": "markdown",
   "metadata": {},
   "source": [
    "## ==========================================\n",
    "\n",
    "# 학습된 AI 두뇌 모델 evaluate   !!!! \n",
    "\n",
    "\n",
    "# ==================================="
   ]
  },
  {
   "cell_type": "code",
   "execution_count": 255,
   "metadata": {},
   "outputs": [
    {
     "name": "stdout",
     "output_type": "stream",
     "text": [
      "10000/10000 [==============================] - 1s 106us/step\n"
     ]
    },
    {
     "data": {
      "text/plain": [
       "[0.262082738006115, 0.8841999769210815]"
      ]
     },
     "execution_count": 255,
     "metadata": {},
     "output_type": "execute_result"
    }
   ],
   "source": [
    "# model.compile(optimizer='rmsprop', loss = 'categorical_crossentropy', metrics = ['accuracy'])\n",
    "# print( answers_train.shape  ) ==> ( 10000, 38 ) one hot vector\n",
    "\n",
    "### train 에 대해서 evaluate 한다 //////// test 데이터로 하는 것과 차이 ?? ///////\n",
    "\n",
    "val=model.evaluate( [inputs_train,questions_train], answers_train, batch_size = 32)\n",
    "\n",
    "###################################################################################\n",
    "\n",
    "\n",
    "val  \n",
    "\n",
    "# 50 때 0.88"
   ]
  },
  {
   "cell_type": "markdown",
   "metadata": {},
   "source": [
    "## ==========================================\n",
    "\n",
    "# 학습된 AI 두뇌 테스트를 위해 문제를 출제 !!!! \n",
    "\n",
    "\n",
    "# ===================================="
   ]
  },
  {
   "cell_type": "code",
   "execution_count": 256,
   "metadata": {},
   "outputs": [
    {
     "name": "stdout",
     "output_type": "stream",
     "text": [
      "[[9.9728653e-16 9.4566813e-16 8.9418357e-16 ... 8.7077173e-16\n",
      "  1.2901760e-15 1.1025909e-15]\n",
      " [2.7077804e-17 2.3529551e-17 2.3366936e-17 ... 2.5004214e-17\n",
      "  2.9877535e-17 2.5197440e-17]\n",
      " [1.8889936e-14 1.6100660e-14 1.4835452e-14 ... 2.2052752e-14\n",
      "  1.5199698e-14 1.2263838e-14]\n",
      " ...\n",
      " [4.8612445e-15 5.0479576e-15 4.4668041e-15 ... 3.8593460e-15\n",
      "  5.6544794e-15 5.4197395e-15]\n",
      " [1.5617014e-16 1.3594823e-16 1.1166769e-16 ... 1.7562030e-16\n",
      "  1.1806162e-16 1.1321438e-16]\n",
      " [1.1300705e-16 1.0713260e-16 9.1041993e-17 ... 1.1560090e-16\n",
      "  8.5497004e-17 7.2361899e-17]]\n"
     ]
    }
   ],
   "source": [
    "#Lets check out the predictions on the test set:\n",
    "#These are just probabilities for every single word on the vocab\n",
    "# 테스트 데이터 기반의 prediction ##############################\n",
    "\n",
    "\n",
    "pred_results = model.predict(([inputs_test,questions_test]))\n",
    "\n",
    "print( pred_results )"
   ]
  },
  {
   "cell_type": "markdown",
   "metadata": {},
   "source": [
    "These results are an array, as mentioned earlier that contain in every position the probabilities of each of the words in the vocabulary being the answer to the question. If we look at the first element of this array, we will see a vector of the size of the vocabulary, where all the times are close to 0 except the ones corresponding to yes or no.\n",
    "\n",
    "Out of these, if we pick the index of the highest value of the array and then see to which word it corresponds to, we should find out if the answer is affirmative or negative.\n",
    "\n",
    "One fun thing that we can do now, is create our own stories and questions, and feed them to the bot to see what he says!"
   ]
  },
  {
   "cell_type": "code",
   "execution_count": 257,
   "metadata": {},
   "outputs": [
    {
     "name": "stdout",
     "output_type": "stream",
     "text": [
      "0.57908195\n"
     ]
    }
   ],
   "source": [
    "my_story = 'Sandra picked up the milk . Mary travelled left . '\n",
    "my_question = 'Sandra got the milk ?'\n",
    "\n",
    "my_data = [(my_story.split(), my_question.split(),'yes')]\n",
    "my_story, my_ques, my_ans = vectorize_stories(my_data)\n",
    "\n",
    "pred_results = model.predict(([my_story,my_ques]))\n",
    "val_max = np.argmax(pred_results[0])\n",
    "\n",
    "print(pred_results[0][val_max])\n",
    "      \n",
    "# 맟출 확률이 1/38\n",
    "# 50 에서는 0.579\n",
    "# 100 dptj 0.69\n",
    "# 150 에서 0.54"
   ]
  },
  {
   "cell_type": "code",
   "execution_count": 258,
   "metadata": {},
   "outputs": [
    {
     "data": {
      "text/plain": [
       "array([3.2873716e-17, 4.0023164e-17, 3.0383968e-17, 2.8533738e-17,\n",
       "       5.7908195e-01, 2.8485883e-17, 3.3174042e-17, 3.1870078e-17,\n",
       "       2.7549917e-17, 3.2871959e-17, 2.9357179e-17, 3.4267595e-17,\n",
       "       2.7203826e-17, 3.2722577e-17, 3.8553677e-17, 2.7833440e-17,\n",
       "       2.4130508e-17, 3.2105093e-17, 2.8949928e-17, 2.9965448e-17,\n",
       "       3.5419083e-17, 2.5517053e-17, 4.1842915e-17, 2.8028208e-17,\n",
       "       3.7513471e-17, 3.4788914e-17, 2.6872127e-17, 3.7460846e-17,\n",
       "       2.7097562e-17, 3.3979398e-17, 3.4024797e-17, 2.8549633e-17,\n",
       "       2.3817013e-17, 3.1455551e-17, 4.2091799e-01, 3.1017771e-17,\n",
       "       3.1218382e-17, 2.7245783e-17], dtype=float32)"
      ]
     },
     "execution_count": 258,
     "metadata": {},
     "output_type": "execute_result"
    }
   ],
   "source": [
    "#These are the probabilities for the vocab words using the 1st sentence\n",
    "\n",
    "\n",
    "pred_results[0]"
   ]
  },
  {
   "cell_type": "code",
   "execution_count": 259,
   "metadata": {},
   "outputs": [],
   "source": [
    "val_max = np.argmax(pred_results[0])"
   ]
  },
  {
   "cell_type": "code",
   "execution_count": 260,
   "metadata": {},
   "outputs": [
    {
     "name": "stdout",
     "output_type": "stream",
     "text": [
      "no\n"
     ]
    }
   ],
   "source": [
    "for key,val in tokenizer.word_index.items():\n",
    "    if val == val_max:\n",
    "        k = key\n",
    "print(k)"
   ]
  },
  {
   "cell_type": "code",
   "execution_count": 261,
   "metadata": {},
   "outputs": [
    {
     "data": {
      "text/plain": [
       "0.57908195"
      ]
     },
     "execution_count": 261,
     "metadata": {},
     "output_type": "execute_result"
    }
   ],
   "source": [
    "#See probability:\n",
    "\n",
    "pred_results[0][val_max]"
   ]
  },
  {
   "cell_type": "markdown",
   "metadata": {},
   "source": [
    "# ================================"
   ]
  },
  {
   "cell_type": "code",
   "execution_count": 262,
   "metadata": {},
   "outputs": [
    {
     "name": "stdout",
     "output_type": "stream",
     "text": [
      "37\n"
     ]
    },
    {
     "data": {
      "text/plain": [
       "{'.',\n",
       " '?',\n",
       " 'Daniel',\n",
       " 'Is',\n",
       " 'John',\n",
       " 'Mary',\n",
       " 'Sandra',\n",
       " 'apple',\n",
       " 'back',\n",
       " 'bathroom',\n",
       " 'bedroom',\n",
       " 'discarded',\n",
       " 'down',\n",
       " 'dropped',\n",
       " 'football',\n",
       " 'garden',\n",
       " 'got',\n",
       " 'grabbed',\n",
       " 'hallway',\n",
       " 'in',\n",
       " 'journeyed',\n",
       " 'kitchen',\n",
       " 'left',\n",
       " 'milk',\n",
       " 'moved',\n",
       " 'no',\n",
       " 'office',\n",
       " 'picked',\n",
       " 'put',\n",
       " 'the',\n",
       " 'there',\n",
       " 'to',\n",
       " 'took',\n",
       " 'travelled',\n",
       " 'up',\n",
       " 'went',\n",
       " 'yes'}"
      ]
     },
     "execution_count": 262,
     "metadata": {},
     "output_type": "execute_result"
    }
   ],
   "source": [
    "#Now, we can make our own questions using the vocabulary we have\n",
    "\n",
    "print( len(vocab)   )\n",
    "vocab\n",
    "\n",
    "# 'office': 1\n",
    "# '?': 37  == 마지막 index"
   ]
  },
  {
   "cell_type": "code",
   "execution_count": 263,
   "metadata": {},
   "outputs": [],
   "source": [
    "my_story = 'Sandra picked up the milk . Mary travelled left . '"
   ]
  },
  {
   "cell_type": "code",
   "execution_count": 264,
   "metadata": {},
   "outputs": [
    {
     "data": {
      "text/plain": [
       "['Sandra',\n",
       " 'picked',\n",
       " 'up',\n",
       " 'the',\n",
       " 'milk',\n",
       " '.',\n",
       " 'Mary',\n",
       " 'travelled',\n",
       " 'left',\n",
       " '.']"
      ]
     },
     "execution_count": 264,
     "metadata": {},
     "output_type": "execute_result"
    }
   ],
   "source": [
    "my_story.split()"
   ]
  },
  {
   "cell_type": "markdown",
   "metadata": {},
   "source": [
    "    my_story = 'Sandra picked up the milk . Mary travelled left . '\n",
    "    my_question = 'Sandra got the milk ?'\n",
    "    my_data = [(my_story.split(), my_question.split(),'yes')]\n",
    "    my_story, my_ques, my_ans = vectorize_stories(my_data)\n",
    "    pred_results = model.predict(([my_story,my_ques]))\n",
    "    val_max = np.argmax(pred_results[0])\n",
    "    print(pred_results[0][val_max])"
   ]
  },
  {
   "cell_type": "code",
   "execution_count": 265,
   "metadata": {},
   "outputs": [],
   "source": [
    "my_question = 'Sandra got the milk ?'"
   ]
  },
  {
   "cell_type": "code",
   "execution_count": 266,
   "metadata": {},
   "outputs": [
    {
     "data": {
      "text/plain": [
       "['Sandra', 'got', 'the', 'milk', '?']"
      ]
     },
     "execution_count": 266,
     "metadata": {},
     "output_type": "execute_result"
    }
   ],
   "source": [
    "my_question.split()"
   ]
  },
  {
   "cell_type": "code",
   "execution_count": 267,
   "metadata": {},
   "outputs": [],
   "source": [
    "#Put the data in the same format as before\n",
    "my_data = [(my_story.split(), my_question.split(),'yes')]"
   ]
  },
  {
   "cell_type": "code",
   "execution_count": 268,
   "metadata": {},
   "outputs": [],
   "source": [
    "#Vectorize this data\n",
    "my_story, my_ques, my_ans = vectorize_stories(my_data)"
   ]
  },
  {
   "cell_type": "code",
   "execution_count": 270,
   "metadata": {},
   "outputs": [
    {
     "name": "stdout",
     "output_type": "stream",
     "text": [
      "(1, 38)\n",
      "yes :  2.6872127e-17\n",
      "no :  2.7245783e-17\n",
      "0.98628575\n"
     ]
    }
   ],
   "source": [
    "#Make the prediction\n",
    "\n",
    "pred_results = model.predict(([my_story,my_ques]))\n",
    "\n",
    "print( pred_results.shape  )\n",
    "print( 'yes : ', pred_results[0][26] )\n",
    "print( 'no : ', pred_results[0][37] )\n",
    "print( pred_results[0][26]/ pred_results[0][37] )\n",
    "\n",
    "# 50 일때 yes / no = 0.986 거의 같은 확률 0"
   ]
  },
  {
   "cell_type": "markdown",
   "metadata": {},
   "source": [
    "     'yes': 24,\n",
    " 'left': 25,\n",
    " 'to': 26,\n",
    " 'milk': 27,\n",
    " 'in': 28,\n",
    " 'moved': 29,\n",
    " 'discarded': 30,\n",
    " \n",
    "     'no': 31,"
   ]
  },
  {
   "cell_type": "code",
   "execution_count": 271,
   "metadata": {},
   "outputs": [
    {
     "name": "stdout",
     "output_type": "stream",
     "text": [
      "4\n"
     ]
    }
   ],
   "source": [
    "val_max = np.argmax(pred_results[0])\n",
    "print( val_max )\n"
   ]
  },
  {
   "cell_type": "code",
   "execution_count": 272,
   "metadata": {},
   "outputs": [
    {
     "name": "stdout",
     "output_type": "stream",
     "text": [
      "37\n",
      "no\n"
     ]
    }
   ],
   "source": [
    "#Correct prediction!\n",
    "\n",
    "for key,val in tokenizer.word_index.items():\n",
    "    if val == val_max:\n",
    "        k = key\n",
    "        \n",
    "print(val)\n",
    "print(k)"
   ]
  },
  {
   "cell_type": "code",
   "execution_count": 273,
   "metadata": {},
   "outputs": [
    {
     "data": {
      "text/plain": [
       "0.57908195"
      ]
     },
     "execution_count": 273,
     "metadata": {},
     "output_type": "execute_result"
    }
   ],
   "source": [
    "#Confidence\n",
    "pred_results[0][val_max]"
   ]
  },
  {
   "cell_type": "markdown",
   "metadata": {},
   "source": [
    "# ====================================\n"
   ]
  },
  {
   "cell_type": "code",
   "execution_count": 274,
   "metadata": {},
   "outputs": [
    {
     "name": "stdout",
     "output_type": "stream",
     "text": [
      "0.9748123\n",
      "10000/10000 [==============================] - 1s 96us/step\n"
     ]
    },
    {
     "data": {
      "text/plain": [
       "[0.262082738006115, 0.8841999769210815]"
      ]
     },
     "execution_count": 274,
     "metadata": {},
     "output_type": "execute_result"
    }
   ],
   "source": [
    "my_story = 'Sandra picked up the milk . Sandra moved to the bathroom . '\n",
    "my_question = 'Is the milk in the bathroom ?'\n",
    "my_data = [(my_story.split(), my_question.split(),'yes')]\n",
    "my_story, my_ques, my_ans = vectorize_stories(my_data)\n",
    "pred_results = model.predict(([my_story,my_ques]))\n",
    "val_max = np.argmax(pred_results[0])\n",
    "\n",
    "print(pred_results[0][val_max])\n",
    "###############################\n",
    "# 50 에서는 0.9748\n",
    "# 100 에서는 0.974858\n",
    "# 150 에서 0.6165\n",
    "\n",
    "model.evaluate([inputs_train,questions_train],answers_train, \n",
    "                    batch_size = 32)\n"
   ]
  },
  {
   "cell_type": "code",
   "execution_count": 275,
   "metadata": {},
   "outputs": [
    {
     "name": "stdout",
     "output_type": "stream",
     "text": [
      "34\n",
      "37\n",
      "yes\n"
     ]
    }
   ],
   "source": [
    "val_max = np.argmax(pred_results[0])\n",
    "print( val_max )\n",
    "\n",
    "#Correct prediction!\n",
    "\n",
    "for key,val in tokenizer.word_index.items():\n",
    "    if val == val_max:\n",
    "        k = key\n",
    "        \n",
    "print(val)\n",
    "print(k)"
   ]
  },
  {
   "cell_type": "code",
   "execution_count": null,
   "metadata": {},
   "outputs": [],
   "source": []
  },
  {
   "cell_type": "markdown",
   "metadata": {},
   "source": [
    "# ====================================\n",
    "\n",
    "\n",
    "# [생각] 영어 데이터를 한글 번역기로 번역을 시킨다.\n",
    "\n",
    "\n",
    "# [생각] 한글용 Babi 데이터로 한글 QA 만들어본다.\n",
    "\n",
    "\n",
    "# [생각] 수학학습 질문과 답변 데이터로 만들어본다.\n"
   ]
  },
  {
   "cell_type": "markdown",
   "metadata": {},
   "source": [
    "# web 버젼, attention 버젼\n",
    "\n",
    "\n",
    "# https://github.com/vinhkhuc/MemN2N-babi-python"
   ]
  },
  {
   "cell_type": "code",
   "execution_count": null,
   "metadata": {},
   "outputs": [],
   "source": []
  }
 ],
 "metadata": {
  "kernelspec": {
   "display_name": "Python 3",
   "language": "python",
   "name": "python3"
  },
  "language_info": {
   "codemirror_mode": {
    "name": "ipython",
    "version": 3
   },
   "file_extension": ".py",
   "mimetype": "text/x-python",
   "name": "python",
   "nbconvert_exporter": "python",
   "pygments_lexer": "ipython3",
   "version": "3.7.2"
  }
 },
 "nbformat": 4,
 "nbformat_minor": 2
}
