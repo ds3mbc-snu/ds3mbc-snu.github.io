{
 "cells": [
  {
   "cell_type": "markdown",
   "metadata": {},
   "source": [
    "bAbI 파일을 한줄한줄 번역하는 것은 비효율적.  \n",
    "번역 API를 이용해서 번역하자.  \n",
    "구글 무료버전은 일별 사용량 제한이 있음.  \n",
    "네이버 파파고 API를 써보자\n",
    "\n",
    "https://tariat.tistory.com/383\n",
    "\n",
    "\n"
   ]
  },
  {
   "cell_type": "code",
   "execution_count": 1,
   "metadata": {},
   "outputs": [
    {
     "name": "stdout",
     "output_type": "stream",
     "text": [
      "{'errorMessage': 'NID AUTH Result Invalid (28) : Authentication failed. (인증에 실패했습니다.)', 'errorCode': '024'}\n"
     ]
    }
   ],
   "source": [
    "import requests\n",
    "\n",
    "request_url = 'https://openapi.naver.com/v1/papago/n2mt'\n",
    "text = \"\"\"\n",
    "1 John travelled to the hallway.\n",
    "2 Mary journeyed to the bathroom.\n",
    "3 Where is John? \thallway\t1\n",
    "4 Daniel went back to the bathroom.\n",
    "5 John moved to the bedroom.\n",
    "6 Where is Mary? \tbathroom\t2\n",
    "\"\"\"\n",
    "\n",
    "headers = {'X-Naver-Client-Id': 'UsDUFuUQ1xxzJgL6ELXh', 'X-Naver-Client-Secret': 'GaBTqI6qDy'}\n",
    "params = {'source':'en','target':'ko','text':text}\n",
    "\n",
    "response = requests.post(request_url, headers = headers, data = params)\n",
    "result = response.json()\n",
    "print(result)"
   ]
  },
  {
   "cell_type": "code",
   "execution_count": null,
   "metadata": {},
   "outputs": [],
   "source": []
  }
 ],
 "metadata": {
  "kernelspec": {
   "display_name": "Python 3",
   "language": "python",
   "name": "python3"
  },
  "language_info": {
   "codemirror_mode": {
    "name": "ipython",
    "version": 3
   },
   "file_extension": ".py",
   "mimetype": "text/x-python",
   "name": "python",
   "nbconvert_exporter": "python",
   "pygments_lexer": "ipython3",
   "version": "3.7.2"
  }
 },
 "nbformat": 4,
 "nbformat_minor": 4
}
