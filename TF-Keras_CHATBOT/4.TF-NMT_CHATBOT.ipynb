{
 "cells": [
  {
   "cell_type": "markdown",
   "metadata": {},
   "source": [
    "# 수학교육에 활용할 수 있는 챗봇을 만들자 !! \n",
    "\n",
    "<p> &nbsp;"
   ]
  },
  {
   "cell_type": "markdown",
   "metadata": {},
   "source": [
    "# +++++++++++++++++++++++++ \n",
    "\n",
    "## 1. 인공지능의 학습과 인간의 학습을  탐구\n",
    "\n",
    "## 2. 구체적으로 수학교육용 인공지능 개발 \n",
    "\n"
   ]
  },
  {
   "cell_type": "markdown",
   "metadata": {},
   "source": [
    "# +++++++++++++++++++++++++"
   ]
  },
  {
   "cell_type": "markdown",
   "metadata": {},
   "source": [
    "\n"
   ]
  },
  {
   "cell_type": "markdown",
   "metadata": {},
   "source": [
    "## 교재의 챕더 1,2,3 통해서 기본을 학습하고\n",
    "\n",
    "## 챕터 4장 5장에서 텍스트분류와 유사도를 \n",
    "\n",
    "## 팀별 발료로 학습한다.  목표는 챕터 6\n",
    "\n",
    "## 수학교육용 한글 챗봇을 만드는 것이다 \n",
    "\n",
    "\n",
    "    \n",
    "\n",
    "\n",
    "\n",
    "\n",
    "\n",
    "<p> &nbsp;\n",
    "    \n",
    "# 인공지능 번역과 텐서플로우 2.0 버젼 학습\n",
    "<p>    &nbsp;\n",
    "\n",
    "\n",
    "###################################################################\n",
    "\n",
    "\n",
    "# (목표) Toy 코드와 Attentoin 으로 챗봇을 설계!\n",
    "\n",
    "\n",
    "<p> &nbsp;\n",
    "\n"
   ]
  },
  {
   "cell_type": "markdown",
   "metadata": {},
   "source": [
    "# Toy 코드 (파트A+파트B) 와 어텐션 코드 C\n",
    "\n",
    "# +++++++++++++++++++++++++++++++++\n",
    "\n",
    "# [목표] 파트 A + 파트 B  ++ 어텐션 파트 C \n",
    "\n",
    "<p> &nbsp;\n",
    "\n",
    "#####################################################################\n",
    "<p> &nbsp;\n",
    "\n",
    "### 파트 A와 B는 다음 주소의 설명코드를 ipython 만든 것\n",
    "\n",
    "https://crazia.tistory.com/entry/Deep-Learning-seq2seq-%EB%A5%BC-%EC%9D%B4%EC%9A%A9%ED%95%9C-%EC%B1%97%EB%B4%87-Neural-Machine-Chatbot\n",
    "\n",
    "\n",
    "##########################################################\n",
    "    \n",
    "## 파트 C 의 코드는 Attention matrix 에 대한 내용이다 !!\n",
    "\n",
    "### https://www.tensorflow.org/tutorials/text/nmt_with_attention\n",
    "\n",
    "\n",
    "\n",
    "\n",
    "\n",
    "## (참고) \n",
    "\n",
    "### https://www.tensorflow.org/tutorials/text/transformer\n",
    "    \n",
    "    \n",
    "    \n",
    "# 구글의 머신트랜스레이션과 어텐션 활용\n",
    "\n",
    "https://github.com/tensorflow/nmt\n"
   ]
  },
  {
   "cell_type": "code",
   "execution_count": null,
   "metadata": {},
   "outputs": [],
   "source": []
  },
  {
   "cell_type": "markdown",
   "metadata": {},
   "source": [
    "# 준비  : 다음을 통해 파트 챗봇 데이터를 탐구하자 !! "
   ]
  },
  {
   "cell_type": "code",
   "execution_count": 2,
   "metadata": {},
   "outputs": [
    {
     "name": "stdout",
     "output_type": "stream",
     "text": [
      "['금융챗봇이야', '머리가', '당신은요', '못생겼나요', '좋은', '감사합니요다', '껴', '내리네요', '캄보디아의', '챙겨야겠어요']\n"
     ]
    },
    {
     "data": {
      "text/plain": [
       "'어떻게 지내세요?\\n잘 지내고 있어요. 당신은요?\\n저도 잘 지내고 있어요.\\n네, 그럼 안녕히 가세요.\\n계속 연락해요.\\n네, 제가 곧 다시 연락 드릴게요.\\n이메일로 연락주세요.\\n지금 '"
      ]
     },
     "execution_count": 2,
     "metadata": {},
     "output_type": "execute_result"
    }
   ],
   "source": [
    "import re\n",
    "\n",
    "\n",
    "DATA_PATH=\"./data_nmt/conversation2.txt\" \n",
    "############## 챗봇 데이터 ############\n",
    "\n",
    "\n",
    "\n",
    "\n",
    "def Tokenizer( sentence ):\n",
    "    token=[]\n",
    "    for word in sentence.strip().split():\n",
    "        token.extend(re.compile(\"([.,!?\\\"':;)(])\").split(word))\n",
    "        \n",
    "    ret=[t for t in token if t]\n",
    "    return ret             \n",
    "\n",
    "    \n",
    "    \n",
    "wordsk=[]\n",
    "datask=[]\n",
    "\n",
    "\n",
    "\n",
    "with open( DATA_PATH , 'r' , encoding='utf-8' ) as f:\n",
    "    lines=f.read()\n",
    "    datask.append(lines)\n",
    "    wordsk=Tokenizer( lines  )\n",
    "    wordsk=list( set( wordsk ) )\n",
    "\n",
    "    \n",
    "# list <=== datas.shape \n",
    "\n",
    "\n",
    "print( wordsk[0:10] )\n",
    "\n",
    "datask[0][0:100] "
   ]
  },
  {
   "cell_type": "code",
   "execution_count": 3,
   "metadata": {},
   "outputs": [
    {
     "name": "stdout",
     "output_type": "stream",
     "text": [
      "['가을', '상영', '좋은', '급', '걱정', '파키스탄', '껴', '내리네요', '헤어', '1,294.67원']\n"
     ]
    },
    {
     "data": {
      "text/plain": [
       "'잘 지내고 있어요. 당신은요?\\n저도 잘 지내고 있어요.\\n네, 그럼 안녕히 가세요.\\n계속 연락해요.\\n네, 제가 곧 다시 연락 드릴게요.\\n이메일로 연락주세요.\\n지금 어디신가요?\\n집이요'"
      ]
     },
     "execution_count": 3,
     "metadata": {},
     "output_type": "execute_result"
    }
   ],
   "source": [
    "from konlpy.tag import Okt\n",
    "\n",
    "okt = Okt()\n",
    "\n",
    "\n",
    "wordsz=[]\n",
    "datasz=[]\n",
    "\n",
    "with open(  DATA_PATH , 'r', encoding='utf-8') as  content_file :\n",
    "    for con in content_file: \n",
    "        content = content_file.read()\n",
    "        datasz.append( content )\n",
    "        wordsz.extend( okt.morphs(content)   )\n",
    "        wordsz = list(set(wordsz))\n",
    "\n",
    "            \n",
    "print( wordsz[0:10] )\n",
    "\n",
    "datasz[0][0:100] "
   ]
  },
  {
   "cell_type": "markdown",
   "metadata": {},
   "source": [
    "# 쳇봇 데이터 다루기 \n",
    "\n",
    "    f = pd.DataFrame([['1위', '심재철'],\n",
    "                ['2위', '서미경']],\n",
    "               columns=['rank', 'keyword'])"
   ]
  },
  {
   "cell_type": "code",
   "execution_count": 4,
   "metadata": {},
   "outputs": [
    {
     "data": {
      "text/html": [
       "<div>\n",
       "<style scoped>\n",
       "    .dataframe tbody tr th:only-of-type {\n",
       "        vertical-align: middle;\n",
       "    }\n",
       "\n",
       "    .dataframe tbody tr th {\n",
       "        vertical-align: top;\n",
       "    }\n",
       "\n",
       "    .dataframe thead th {\n",
       "        text-align: right;\n",
       "    }\n",
       "</style>\n",
       "<table border=\"1\" class=\"dataframe\">\n",
       "  <thead>\n",
       "    <tr style=\"text-align: right;\">\n",
       "      <th></th>\n",
       "      <th>0</th>\n",
       "    </tr>\n",
       "  </thead>\n",
       "  <tbody>\n",
       "    <tr>\n",
       "      <th>0</th>\n",
       "      <td>어떻게 지내세요?</td>\n",
       "    </tr>\n",
       "    <tr>\n",
       "      <th>1</th>\n",
       "      <td>잘 지내고 있어요. 당신은요?</td>\n",
       "    </tr>\n",
       "    <tr>\n",
       "      <th>2</th>\n",
       "      <td>저도 잘 지내고 있어요.</td>\n",
       "    </tr>\n",
       "    <tr>\n",
       "      <th>3</th>\n",
       "      <td>네, 그럼 안녕히 가세요.</td>\n",
       "    </tr>\n",
       "    <tr>\n",
       "      <th>4</th>\n",
       "      <td>계속 연락해요.</td>\n",
       "    </tr>\n",
       "    <tr>\n",
       "      <th>...</th>\n",
       "      <td>...</td>\n",
       "    </tr>\n",
       "    <tr>\n",
       "      <th>495</th>\n",
       "      <td>그러게요. 거긴 어때요?</td>\n",
       "    </tr>\n",
       "    <tr>\n",
       "      <th>496</th>\n",
       "      <td>매우 포근한 날씨네요.</td>\n",
       "    </tr>\n",
       "    <tr>\n",
       "      <th>497</th>\n",
       "      <td>나들이 가기 좋은 날씨죠.</td>\n",
       "    </tr>\n",
       "    <tr>\n",
       "      <th>498</th>\n",
       "      <td>안녕하세요</td>\n",
       "    </tr>\n",
       "    <tr>\n",
       "      <th>499</th>\n",
       "      <td>안녕하세요. 만나서 반가워요.</td>\n",
       "    </tr>\n",
       "  </tbody>\n",
       "</table>\n",
       "<p>500 rows × 1 columns</p>\n",
       "</div>"
      ],
      "text/plain": [
       "                    0\n",
       "0           어떻게 지내세요?\n",
       "1    잘 지내고 있어요. 당신은요?\n",
       "2       저도 잘 지내고 있어요.\n",
       "3      네, 그럼 안녕히 가세요.\n",
       "4            계속 연락해요.\n",
       "..                ...\n",
       "495     그러게요. 거긴 어때요?\n",
       "496      매우 포근한 날씨네요.\n",
       "497    나들이 가기 좋은 날씨죠.\n",
       "498             안녕하세요\n",
       "499  안녕하세요. 만나서 반가워요.\n",
       "\n",
       "[500 rows x 1 columns]"
      ]
     },
     "execution_count": 4,
     "metadata": {},
     "output_type": "execute_result"
    }
   ],
   "source": [
    "import pandas as pd\n",
    "\n",
    "file = open( \"./data_nmt/conversation2.txt\", \"r\" , encoding=\"utf-8\")\n",
    "data = file.readlines()\n",
    "df1 = []\n",
    "for ii in data:\n",
    "    df1.append(ii[:-1])\n",
    "\n",
    "\n",
    "df2 = pd.DataFrame( df1  )\n",
    " \n",
    "df2.to_csv( './data_nmt/conversation2.csv' , index=False, encoding='utf-8')\n",
    "\n",
    "\n",
    "datacsv = pd.read_csv( './data_nmt/conversation2.csv' ,  encoding='utf-8')\n",
    "\n",
    "datacsv"
   ]
  },
  {
   "cell_type": "code",
   "execution_count": 5,
   "metadata": {},
   "outputs": [
    {
     "name": "stdout",
     "output_type": "stream",
     "text": [
      "                  0\n",
      "0         어떻게 지내세요?\n",
      "1  잘 지내고 있어요. 당신은요?\n",
      "2     저도 잘 지내고 있어요.\n",
      "3    네, 그럼 안녕히 가세요.\n",
      "4          계속 연락해요.\n",
      "어떻게 지내세요?\n",
      "잘 지내고 있어요. 당신은요?\n",
      "저도 잘 지내고 있어요.\n",
      "네, 그럼 안녕히 가세요.\n",
      "계속 연락해요.\n",
      "['어떻게 지내세요 ?', '잘 지내고있어요 . 당 신 은 요 ?', '저 도 잘 지내고있어요 .', '네 , 그럼 안녕히가세요 .', '계속 연락 해 요 .']\n"
     ]
    },
    {
     "data": {
      "text/plain": [
       "['어떻게 지내세요 ?',\n",
       " '잘 지내고있어요 . 당 신 은 요 ?',\n",
       " '저 도 잘 지내고있어요 .',\n",
       " '네 , 그럼 안녕히가세요 .',\n",
       " '계속 연락 해 요 .']"
      ]
     },
     "execution_count": 5,
     "metadata": {},
     "output_type": "execute_result"
    }
   ],
   "source": [
    "print( datacsv[0:5] )\n",
    "\n",
    "result_data=list( )\n",
    "\n",
    "input_data = list( datacsv['0'][0:5] )\n",
    "######################################\n",
    "\n",
    "for seq in input_data :\n",
    "    print( seq )\n",
    "    result = \" \".join( okt.morphs(seq.replace(' ', '')))\n",
    "    result_data.append( result )\n",
    "    \n",
    "print( result_data )\n",
    "\n",
    "datas = []\n",
    "\n",
    "datas.extend( result_data )\n",
    "             \n",
    "datas\n"
   ]
  },
  {
   "cell_type": "code",
   "execution_count": 6,
   "metadata": {},
   "outputs": [
    {
     "name": "stdout",
     "output_type": "stream",
     "text": [
      "['어떻게', '지내세요', '잘', '지내고있어요', '당', '신', '은', '요', '저', '도', '잘', '지내고있어요', '네', '그럼', '안녕히가세요', '계속', '연락', '해', '요']\n"
     ]
    }
   ],
   "source": [
    "\n",
    "import re\n",
    "\n",
    "FILTERS = \"([~.,!?\\\"':;)(])\"\n",
    "CHANGE_FILTER = re.compile(FILTERS)\n",
    "\n",
    "vocabwords = []\n",
    "for sentence in datas:\n",
    "    # FILTERS = \"([~.,!?\\\"':;)(])\"\n",
    "    # 위 필터와 같은 값들을 정규화 표현식을 \n",
    "    # 통해서 모두 \"\" 으로 변환 해주는 부분이다.\n",
    "    sentence = re.sub(CHANGE_FILTER, \"\", sentence)\n",
    "    for word in sentence.split():\n",
    "        vocabwords.append(word)\n",
    "            \n",
    "print( vocabwords )"
   ]
  },
  {
   "cell_type": "code",
   "execution_count": 7,
   "metadata": {},
   "outputs": [],
   "source": [
    "# from sklearn.model_selection import train_test_split\n",
    "\n",
    "from sklearn.model_selection import train_test_split\n",
    "\n",
    "\n",
    "\n",
    "\n",
    "def load_data():\n",
    "    # 판다스를 통해서 데이터를 불러온다.\n",
    "    data_df = pd.read_csv( './data_nmt/conversation2.csv', header=0)\n",
    "    # 질문과 답변 열을 가져와 question과 answer에 넣는다.\n",
    "    # 홓수줄 짝수불 \n",
    "    \n",
    "    question = data_df[0::2]\n",
    "    answer = data_df[1::2]\n",
    "\n",
    "\n",
    "    \n",
    "    # skleran에서 지원하는 함수를 통해서 학습 셋과 \n",
    "    # 테스트 셋을 나눈다.\n",
    "    \n",
    "    train_input, eval_input, train_label, eval_label = train_test_split(question, answer, test_size=0.33, random_state=42)\n",
    "    \n",
    "    # 그 값을 리턴한다.\n",
    "    return train_input, train_label, eval_input, eval_label\n",
    "\n",
    "\n",
    "\n",
    "\n",
    "train_input, train_label, eval_input, eval_label = load_data()\n",
    "\n"
   ]
  },
  {
   "cell_type": "code",
   "execution_count": 8,
   "metadata": {},
   "outputs": [
    {
     "name": "stdout",
     "output_type": "stream",
     "text": [
      "462         핀란드의 수도는?\n",
      "340     단풍 구경하러 가실래요?\n",
      "130          한번 봐야겠어요\n",
      "280    나이에 비해 어려 보여요.\n",
      "248           감사합니요다.\n",
      "Name: 0, dtype: object\n",
      "            0\n",
      "463  헬싱키 입니다.\n",
      "341       좋죠.\n",
      "131   엄청 재밌어요\n",
      "281    감사합니다.\n",
      "249     천만에요.\n"
     ]
    }
   ],
   "source": [
    "print( train_input['0'][0:5] )\n",
    "\n",
    "print( train_label[0:5] )"
   ]
  },
  {
   "cell_type": "markdown",
   "metadata": {},
   "source": [
    "# ++++++++++++++++++++++++++++++++++++++++\n",
    "<p> &nbsp;"
   ]
  },
  {
   "cell_type": "markdown",
   "metadata": {},
   "source": [
    "# [목표] 챗봇 데이터를 보강한 한글 okt() 챗봇으로 !!\n",
    "\n",
    "<p> &nbsp;\n",
    "\n",
    "# [참고] 5.교재한글CHATBOT.ipynb 코드를 활용 !    \n",
    "    \n",
    "<p> &nbsp;\n",
    "    \n",
    "# ++++++++++++++++++++++++++++++++++++++++"
   ]
  },
  {
   "cell_type": "markdown",
   "metadata": {},
   "source": [
    "<p> &nbsp;\n",
    "    \n",
    "# [출발점 코드] 아래는 okt 안쓰는 코드 (okt 로 바꿈)\n",
    "    \n",
    "  \n",
    "    \n",
    "# ++++++++++++++++++++++++++++++++++++++++"
   ]
  },
  {
   "cell_type": "markdown",
   "metadata": {},
   "source": [
    "# [탐구실험 시작]  toy 코드로 파트 A 와 파트 B  시작  !! "
   ]
  },
  {
   "cell_type": "code",
   "execution_count": 9,
   "metadata": {
    "collapsed": true
   },
   "outputs": [
    {
     "name": "stderr",
     "output_type": "stream",
     "text": [
      "C:\\WinPython37F\\python-3.7.2.amd64\\lib\\site-packages\\tensorflow\\python\\framework\\dtypes.py:516: FutureWarning: Passing (type, 1) or '1type' as a synonym of type is deprecated; in a future version of numpy, it will be understood as (type, (1,)) / '(1,)type'.\n",
      "  _np_qint8 = np.dtype([(\"qint8\", np.int8, 1)])\n",
      "C:\\WinPython37F\\python-3.7.2.amd64\\lib\\site-packages\\tensorflow\\python\\framework\\dtypes.py:517: FutureWarning: Passing (type, 1) or '1type' as a synonym of type is deprecated; in a future version of numpy, it will be understood as (type, (1,)) / '(1,)type'.\n",
      "  _np_quint8 = np.dtype([(\"quint8\", np.uint8, 1)])\n",
      "C:\\WinPython37F\\python-3.7.2.amd64\\lib\\site-packages\\tensorflow\\python\\framework\\dtypes.py:518: FutureWarning: Passing (type, 1) or '1type' as a synonym of type is deprecated; in a future version of numpy, it will be understood as (type, (1,)) / '(1,)type'.\n",
      "  _np_qint16 = np.dtype([(\"qint16\", np.int16, 1)])\n",
      "C:\\WinPython37F\\python-3.7.2.amd64\\lib\\site-packages\\tensorflow\\python\\framework\\dtypes.py:519: FutureWarning: Passing (type, 1) or '1type' as a synonym of type is deprecated; in a future version of numpy, it will be understood as (type, (1,)) / '(1,)type'.\n",
      "  _np_quint16 = np.dtype([(\"quint16\", np.uint16, 1)])\n",
      "C:\\WinPython37F\\python-3.7.2.amd64\\lib\\site-packages\\tensorflow\\python\\framework\\dtypes.py:520: FutureWarning: Passing (type, 1) or '1type' as a synonym of type is deprecated; in a future version of numpy, it will be understood as (type, (1,)) / '(1,)type'.\n",
      "  _np_qint32 = np.dtype([(\"qint32\", np.int32, 1)])\n",
      "C:\\WinPython37F\\python-3.7.2.amd64\\lib\\site-packages\\tensorflow\\python\\framework\\dtypes.py:525: FutureWarning: Passing (type, 1) or '1type' as a synonym of type is deprecated; in a future version of numpy, it will be understood as (type, (1,)) / '(1,)type'.\n",
      "  np_resource = np.dtype([(\"resource\", np.ubyte, 1)])\n",
      "C:\\WinPython37F\\python-3.7.2.amd64\\lib\\site-packages\\tensorboard\\compat\\tensorflow_stub\\dtypes.py:541: FutureWarning: Passing (type, 1) or '1type' as a synonym of type is deprecated; in a future version of numpy, it will be understood as (type, (1,)) / '(1,)type'.\n",
      "  _np_qint8 = np.dtype([(\"qint8\", np.int8, 1)])\n",
      "C:\\WinPython37F\\python-3.7.2.amd64\\lib\\site-packages\\tensorboard\\compat\\tensorflow_stub\\dtypes.py:542: FutureWarning: Passing (type, 1) or '1type' as a synonym of type is deprecated; in a future version of numpy, it will be understood as (type, (1,)) / '(1,)type'.\n",
      "  _np_quint8 = np.dtype([(\"quint8\", np.uint8, 1)])\n",
      "C:\\WinPython37F\\python-3.7.2.amd64\\lib\\site-packages\\tensorboard\\compat\\tensorflow_stub\\dtypes.py:543: FutureWarning: Passing (type, 1) or '1type' as a synonym of type is deprecated; in a future version of numpy, it will be understood as (type, (1,)) / '(1,)type'.\n",
      "  _np_qint16 = np.dtype([(\"qint16\", np.int16, 1)])\n",
      "C:\\WinPython37F\\python-3.7.2.amd64\\lib\\site-packages\\tensorboard\\compat\\tensorflow_stub\\dtypes.py:544: FutureWarning: Passing (type, 1) or '1type' as a synonym of type is deprecated; in a future version of numpy, it will be understood as (type, (1,)) / '(1,)type'.\n",
      "  _np_quint16 = np.dtype([(\"quint16\", np.uint16, 1)])\n",
      "C:\\WinPython37F\\python-3.7.2.amd64\\lib\\site-packages\\tensorboard\\compat\\tensorflow_stub\\dtypes.py:545: FutureWarning: Passing (type, 1) or '1type' as a synonym of type is deprecated; in a future version of numpy, it will be understood as (type, (1,)) / '(1,)type'.\n",
      "  _np_qint32 = np.dtype([(\"qint32\", np.int32, 1)])\n",
      "C:\\WinPython37F\\python-3.7.2.amd64\\lib\\site-packages\\tensorboard\\compat\\tensorflow_stub\\dtypes.py:550: FutureWarning: Passing (type, 1) or '1type' as a synonym of type is deprecated; in a future version of numpy, it will be understood as (type, (1,)) / '(1,)type'.\n",
      "  np_resource = np.dtype([(\"resource\", np.ubyte, 1)])\n"
     ]
    }
   ],
   "source": [
    "\n",
    "import tensorflow.compat.v1  as tf\n",
    "\n",
    "\n",
    "\n",
    "tf.disable_eager_execution()\n",
    "\n",
    "\n",
    "\n",
    "########### 모델 ###############\n",
    "\n",
    "\n",
    "train_dir=\"./data_nmt/model\" # model directory\n",
    "\n",
    "log_dir=\"./data_nmt/logs\" #log directory\n",
    "\n",
    "ckpt_name=\"conversation.ckpt\" #checkpoint \n",
    "\n",
    "\n",
    "######## 데이터 ##################\n",
    "\n",
    "\n",
    "DATA_PATH=\"./data_nmt/conversation2.txt\" #data\n",
    "\n",
    "VOC_PATH=\"./data_nmt/conversation.voc\" #data.voc\n",
    "\n",
    "#################################\n"
   ]
  },
  {
   "cell_type": "code",
   "execution_count": 10,
   "metadata": {},
   "outputs": [],
   "source": [
    "#-*- coding: utf-8 -*-\n",
    "#import tensorflow.compat.v1  as tf\n",
    "\n",
    "\n",
    "import numpy as np\n",
    "import codecs\n",
    "import re\n",
    "\n",
    "\n",
    "\n",
    "##########################################\n",
    "# 함글 처리를 할 것인가 ??? 학기말 과제 ??\n",
    "\n",
    "\n",
    "# from konlpy.tag import Okt\n",
    "\n",
    "# okt=Okt()\n",
    "\n",
    "\n",
    "########################################\n",
    "# 이걸 쓰는 경우에는 # 을 없앤다 \n",
    "#########################################\n",
    "########################################\n",
    "\n",
    "\n",
    "\n",
    "\n",
    "PAD=\"_PAD_\"\n",
    "GO=\"_GO_\"\n",
    "EOS=\"_EOS_\"\n",
    "UNK=\"_UNK_\"\n",
    "\n",
    "PAD_ID=0\n",
    "GO_ID=1\n",
    "EOS_ID=2\n",
    "UNK_ID=3\n",
    "ALL=[PAD_ID,GO_ID, EOS_ID,UNK_ID]\n",
    "\n",
    "\n",
    "\n",
    "class Conversation():\n",
    "    \n",
    "    voc_list=[]\n",
    "    voc_dict=[]\n",
    "    voc_size=[]\n",
    "    conversation=[]\n",
    "    ##############\n",
    "    index_in_epoch=0\n",
    "\n",
    "    def Tokens_to_index(self, token):\n",
    "        index=[]\n",
    "        for word in token:\n",
    "            if word in self.voc_dict:\n",
    "                index.append(self.voc_dict[word])\n",
    "            else:\n",
    "                index.append( UNK_ID)\n",
    "        return index\n",
    "\n",
    "    def Index_to_token(self,index):\n",
    "        token=[]\n",
    "        for word in index:\n",
    "            token.append(self.voc_list[word])\n",
    "        return token\n",
    "\n",
    "    def pad(self, seq, max_len, start=None, eos=None):\n",
    "        if start:\n",
    "            padded_seq = [ GO_ID] + seq\n",
    "        elif eos:\n",
    "            padded_seq = seq + [ EOS_ID]\n",
    "        else:\n",
    "            padded_seq = seq\n",
    "\n",
    "        if len(padded_seq) < max_len:\n",
    "            return padded_seq + ([ PAD_ID] * (max_len - len(padded_seq)))\n",
    "        else:\n",
    "            return padded_seq\n",
    "\n",
    "    def pad_left(self, seq, max_len):\n",
    "        if len(seq) < max_len:\n",
    "            return ([ PAD_ID] * (max_len - len(seq))) + seq\n",
    "        else:\n",
    "            return seq\n",
    "\n",
    "\n",
    "    def transform(self, input, output, input_max, output_max):\n",
    "\n",
    "        enc_input = self.pad(input, input_max)\n",
    "        dec_input = self.pad(output, output_max, start=True)\n",
    "        target = self.pad(output, output_max, eos=True)\n",
    "\n",
    "        enc_input.reverse()\n",
    "        enc_input = np.eye(self.voc_size)[enc_input]\n",
    "        dec_input = np.eye(self.voc_size)[dec_input]\n",
    "\n",
    "        return enc_input, dec_input, target\n",
    "\n",
    "    def max_len(self, batch_set):\n",
    "        max_len_input = 0\n",
    "        max_len_output = 0\n",
    "\n",
    "        for i in range(0, len(batch_set), 2):\n",
    "            len_input = len(batch_set[i])\n",
    "            len_output = len(batch_set[i+1])\n",
    "            if len_input > max_len_input:\n",
    "                max_len_input = len_input\n",
    "            if len_output > max_len_output:\n",
    "                max_len_output = len_output\n",
    "\n",
    "        return max_len_input, max_len_output + 1\n",
    "\n",
    "    def decode(self, index,string=False):\n",
    "        token=[[self.voc_list[i] for i in k] for k in index]\n",
    "\n",
    "        if string:\n",
    "            return self.decode_to_string(token[0])\n",
    "        else:\n",
    "            return token\n",
    "\n",
    "    def decode_to_string(self,token):\n",
    "        txt=' '.join(token)\n",
    "        return txt.strip()\n",
    "\n",
    "    def cut_eos(self, indices):\n",
    "        eos_idx = indices.index( EOS_ID)\n",
    "        return indices[:eos_idx]\n",
    "\n",
    "    def is_eos(self, voc_id):\n",
    "        return voc_id == EOS_ID\n",
    "\n",
    "    def is_defined(self, voc_id):\n",
    "        return voc_id in ALL\n",
    "\n",
    "    def Load_conversation(self,data_path):\n",
    "        self.conversation=[]\n",
    "        \n",
    "        with open(data_path,'r',encoding='utf-8') as f:\n",
    "            for line in f:\n",
    "                \n",
    "                #token=okt.morphs(line.strip()) # 한글처리\n",
    "                ##########################################\n",
    "                \n",
    "                tokens=self.Tokenizer(line.strip()) \n",
    "                ##########################################\n",
    "                # okt로 token 생성시 이 라인을 주석처리함.\n",
    "                \n",
    "                index=self.Tokens_to_index(tokens)\n",
    "                self.conversation.append(index)\n",
    "                ###############################\n",
    "                \n",
    "\n",
    "    def Load_voc(self, voc_path): \n",
    "        \n",
    "        front=ALL+[]\n",
    "        self.voc_list=front\n",
    "        \n",
    "        with open(voc_path,'r', encoding='utf-8') as f:\n",
    "            for word in f:\n",
    "                self.voc_list.append(word.strip())\n",
    "        self.voc_dict={n: i for i, n in enumerate(self.voc_list)}\n",
    "        self.voc_size= len(self.voc_list)\n",
    "        \n",
    "        \n",
    "    def Tokenizer(self, sentence):\n",
    "        token=[]\n",
    "        for word in sentence.strip().split():\n",
    "            token.extend(re.compile(\"([.,!?\\\"':;)(])\").split(word))\n",
    "        \n",
    "        ret=[t for t in token if t]\n",
    "        return ret             \n",
    "        \n",
    "    def next_batch(self, batch_size):\n",
    "        enc_input = []\n",
    "        dec_input = []\n",
    "        dec_target = []\n",
    "\n",
    "        start = self.index_in_epoch\n",
    "\n",
    "        if self.index_in_epoch + batch_size < len(self.conversation) - 1:\n",
    "            self.index_in_epoch = self.index_in_epoch + batch_size\n",
    "        else:\n",
    "            self.index_in_epoch = 0\n",
    "\n",
    "        batch_set = self.conversation[start:start+batch_size]\n",
    "        batch_set = batch_set+ batch_set[1:] + batch_set[0:1]\n",
    "\n",
    "        max_len_input, max_len_output = self.max_len(batch_set)\n",
    "\n",
    "        for i in range(0, len(batch_set) - 1, 2):\n",
    "            enc, dec, tar = self.transform(batch_set[i], batch_set[i+1],max_len_input, max_len_output)\n",
    "\n",
    "            enc_input.append(enc)\n",
    "            dec_input.append(dec)\n",
    "            dec_target.append(tar)\n",
    "\n",
    "        return enc_input, dec_input, dec_target\n",
    "\n"
   ]
  },
  {
   "cell_type": "code",
   "execution_count": 11,
   "metadata": {},
   "outputs": [],
   "source": [
    "\n",
    "BATCH_SIZE=100\n",
    "EPOCH=2000\n",
    "\n",
    "n_hidden=128\n",
    "n_layer=3\n",
    "learning_rate=0.001\n",
    "max_decode_len=20\n",
    "\n",
    "\n",
    "\n",
    "#############################################\n",
    "\n",
    "\n",
    "\n",
    "\n",
    "class sequence2sequence:\n",
    "\n",
    "    logits=None\n",
    "    outputs=None\n",
    "    train_op=None\n",
    "    cost=None\n",
    "    output_keep_prob=0.5\n",
    "\n",
    "    def __init__(self, voc_size):\n",
    "\n",
    "        self.voc_size=voc_size\n",
    "\n",
    "        self.n_hidden=n_hidden\n",
    "        self.n_layer=n_layer\n",
    "        self.learning_rate=learning_rate\n",
    "\n",
    "        print(\"self.voc_size\",self.voc_size)\n",
    "        print(\"self.n_hidden\",self.n_hidden)\n",
    "        print(\"self.n_layer\",self.n_layer)\n",
    "        print(\"self.learning_rate\",self.learning_rate)\n",
    "\n",
    "        self.enc_input=tf.placeholder(tf.float32,[None,None,self.voc_size])\n",
    "        self.dec_input=tf.placeholder(tf.float32,[None,None,self.voc_size])\n",
    "        self.dec_target=tf.placeholder(tf.int64,[None,None])\n",
    "\n",
    "        self.weights=tf.Variable(tf.ones([self.n_hidden,self.voc_size]),name=\"weights\")\n",
    "        self.bias=tf.Variable(tf.zeros([self.voc_size]),name=\"bias\")\n",
    "        self.global_step=tf.Variable(0,trainable=False,name=\"global_step\")\n",
    "\n",
    "\n",
    "        self.Make_model()\n",
    "        self.saver=tf.train.Saver(tf.global_variables())\n",
    "\n",
    "    def Make_model(self,output_keep_prob=0.5):\n",
    "        \n",
    "        self.enc_input=tf.transpose(self.enc_input,[1,0,2])\n",
    "        self.dec_input=tf.transpose(self.dec_input,[1,0,2])\n",
    "        \n",
    "\n",
    "        with tf.variable_scope('encode'):\n",
    "            enc_cell=tf.nn.rnn_cell.MultiRNNCell([self.cell(self.n_hidden,output_keep_prob) for _ in range(self.n_layer)])\n",
    "            outputs,enc_state=tf.nn.dynamic_rnn(enc_cell,self.enc_input, dtype=tf.float32)\n",
    "            \n",
    "        with tf.variable_scope('decode'):\n",
    "            dec_cell=tf.nn.rnn_cell.MultiRNNCell([self.cell(self.n_hidden,output_keep_prob) for _ in range(self.n_layer)])\n",
    "            outputs,dec_state=tf.nn.dynamic_rnn(dec_cell, self.dec_input, dtype=tf.float32, initial_state=enc_state)\n",
    "            \n",
    "        self.logits, self.cost, self.train_op=self.Make_ops(outputs,self.dec_target)\n",
    "        self.outputs=tf.argmax(self.logits,2)\n",
    "\n",
    "    def cell(self,n_hidden, output_keep_prob):\n",
    "        #############################################################\n",
    "        rnn_cell=tf.nn.rnn_cell.BasicRNNCell(self.n_hidden)\n",
    "        #현재는 BasicRNNCell입니다,  BasicLSTMCell, LSTMCell 로도 구현 가능합니.\n",
    "        #cell 이름만 바꾸어 주면 됩니다.#############################\n",
    "        \n",
    "        rnn_cell=tf.nn.rnn_cell.DropoutWrapper(rnn_cell,output_keep_prob=output_keep_prob)\n",
    "        return rnn_cell\n",
    "    \n",
    "    def Make_ops(self,outputs,dec_target):\n",
    "        time_step=tf.shape(outputs)[1]\n",
    "        outputs=tf.reshape(outputs,[-1, self.n_hidden])\n",
    "        \n",
    "        logits=tf.matmul(outputs, self.weights) + self.bias\n",
    "        logits=tf.reshape(logits,[-1,time_step,self.voc_size])\n",
    "        \n",
    "        cost = tf.reduce_mean(tf.nn.sparse_softmax_cross_entropy_with_logits(logits=logits, labels=dec_target))\n",
    "        train_op= tf.train.AdamOptimizer(learning_rate=self.learning_rate).minimize(cost,global_step=self.global_step)\n",
    "\n",
    "        tf.summary.scalar('cost',cost)\n",
    "        \n",
    "        return logits, cost,train_op\n",
    "        \n",
    "    def train(self,session, enc_input,dec_input,dec_target):\n",
    "        return session.run([self.train_op,self.cost],\n",
    "                          feed_dict={self.enc_input: enc_input,\n",
    "                                     self.dec_input: dec_input,\n",
    "                                     self.dec_target: dec_target})\n",
    "\n",
    "    def logs(self,session,writer,enc_input,dec_input,dec_target):\n",
    "        merge=tf.summary.merge_all()\n",
    "        summary=session.run(merge,feed_dict={self.enc_input:enc_input,self.dec_input:dec_input,self.dec_target:dec_target})\n",
    "        writer.add_summary(summary,self.global_step.eval())\n",
    "\n",
    "    def predict(self, session, enc_input, dec_input):\n",
    "        return session.run(self.outputs,\n",
    "                           feed_dict={self.enc_input: enc_input,\n",
    "                                      self.dec_input: dec_input})\n",
    "\n"
   ]
  },
  {
   "cell_type": "markdown",
   "metadata": {},
   "source": [
    "# ++++ 단어장을 이미 만들었으면 다음을 생략  !!\n",
    "\n",
    "\n",
    "## 혹시 데이터를 바꾸었다면 다음 실행으로 단어장 만듦 !!"
   ]
  },
  {
   "cell_type": "code",
   "execution_count": 12,
   "metadata": {},
   "outputs": [
    {
     "name": "stdout",
     "output_type": "stream",
     "text": [
      "단어장이 새로 만들어짐 !!\n"
     ]
    }
   ],
   "source": [
    "# 단어장 만드는 코드 (데이터가 바뀐 경우만 새러 실행시킨다)\n",
    "### 단어장 만들기 코드  (데이터가 바뀌어 새로 단어장 만들때 사용)\n",
    "####################################################################\n",
    "\n",
    "\n",
    "#from konlpy.tag import Okt\n",
    "#okt = Okt()\n",
    "\n",
    "#import tensorflow as tf\n",
    "#import numpy as np\n",
    "\n",
    "####################################################################\n",
    "#\n",
    "#okt = Okt()  사용시.\n",
    "#\n",
    "#def Make_voc(data_path,voc_path):\n",
    "#    words=[]\n",
    "#\n",
    "#    with open(data_path, 'r', encoding='utf-8') as content_file:\n",
    "#        for con in content_file: \n",
    "#            content = content_file.read()\n",
    "#            words.extend(   okt.morphs(content)   )\n",
    "#        words = list(set(words))\n",
    "#\n",
    "#    with open(voc_path, 'w') as vocab_file:\n",
    "#        for w in words:\n",
    "#            vocab_file.write(w + '\\n')\n",
    "#\n",
    "# --okt 사용시 이 함수 주석을 전부 풀어주고 아래의 함수를 주석처리.\n",
    "#\n",
    "#####################################################################\n",
    "\n",
    "\n",
    "def Make_voc(conv, data_path, voc_path):\n",
    "    words=[]\n",
    "\n",
    "    with open(data_path,'r', encoding='utf-8') as f:\n",
    "        lines=f.read()\n",
    "        words=conv.Tokenizer(lines)\n",
    "        words=list(set(words))\n",
    "\n",
    "    with open(voc_path,'w', encoding='utf-8') as wf:\n",
    "         for w in words:\n",
    "            wf.write(w+\"\\n\")\n",
    "    print(\"단어장이 새로 만들어짐 !!\")\n",
    "    \n",
    "\n",
    "## okt 대신에 토크나이저 쓴 경우######################################\n",
    "\n",
    "\n",
    "conv=Conversation()\n",
    "\n",
    "\n",
    "Make_voc(conv, DATA_PATH,  VOC_PATH)\n",
    "\n",
    "####################################\n",
    "\n",
    "\n",
    "#  Make_voc(config.DATA_PATH, config.VOC_PATH) \n",
    "# <-okt 사용시 위를 주석처리하고 이 라인의 주석을 풀어줌.\n",
    "\n"
   ]
  },
  {
   "cell_type": "code",
   "execution_count": null,
   "metadata": {},
   "outputs": [],
   "source": []
  },
  {
   "cell_type": "markdown",
   "metadata": {},
   "source": [
    "# ++++++++++++++++++++++++++++++++++++++\n",
    "\n",
    "# ++++++++++++++++++++++++++++++++++++++"
   ]
  },
  {
   "cell_type": "markdown",
   "metadata": {},
   "source": [
    "<p> &nbsp;\n",
    "\n",
    "\n",
    "# 파트 A : 채팅하기 (파트 B로 미리 훈련시킨 ckpt 사용)"
   ]
  },
  {
   "cell_type": "code",
   "execution_count": 13,
   "metadata": {},
   "outputs": [],
   "source": [
    "#-*- coding: utf-8 -*-\n",
    "\n",
    "#import tensorflow.compat.v1  as tf\n",
    "#tf.disable_eager_execution()\n",
    "\n",
    "#from konlpy.tag import Okt\n",
    "#okt=Okt()\n",
    "\n",
    "\n",
    "#from model import sequence2sequence\n",
    "#from Conversation import Conversation\n",
    "#####################################\n",
    "\n",
    "\n",
    "########### 사용하는 모델의 위치##########\n",
    "\n",
    "\n",
    "#train_dir=\"./data_nmt/model\" # model directory\n",
    "\n",
    "#log_dir=\"./data_nmt/logs\" #log directory\n",
    "\n",
    "#ckpt_name=\"conversation.ckpt\" #checkpoint \n",
    "\n",
    "\n",
    "###########################################\n",
    "\n",
    "import os\n",
    "os.environ[\"CUDA_VISIBLE_DEVICES\"]=\"4\"\n",
    "\n",
    "import numpy as np\n",
    "import math\n",
    "import sys\n",
    "\n",
    "\n",
    "\n",
    "##########################################\n",
    "\n",
    "class Chat:\n",
    "\n",
    "    def __init__(self, VOC_PATH, train_dir):\n",
    "        self.conv= Conversation()\n",
    "        self.conv.Load_voc(VOC_PATH)\n",
    "        self.model=sequence2sequence(self.conv.voc_size)\n",
    "\n",
    "        self.sess=tf.Session()\n",
    "        \n",
    "        \n",
    "        ckpt=tf.train.get_checkpoint_state(train_dir)\n",
    "        \n",
    "        \n",
    "        self.model.saver.restore(self.sess, ckpt.model_checkpoint_path)\n",
    "        \n",
    "        ###############################################################\n",
    "        # 여기서 훈련시켜 만든 ckpt 모델을 불러서 채팅을 한다 #########\n",
    "        ###############################################################\n",
    "    \n",
    "    \n",
    "    def decode(self,enc_input, dec_input):\n",
    "        if type(dec_input) is np.ndarray:\n",
    "            dec_input=dec_input.tolist()\n",
    "        input_len=int(math.ceil((len(enc_input)+1) * 1.5))\n",
    "        enc_input,dec_input,_=self.conv.transform( enc_input, dec_input,input_len,  max_decode_len)\n",
    "\n",
    "        return self.model.predict(self.sess, [enc_input], [dec_input])\n",
    "\n",
    "    def run(self):\n",
    "        \n",
    "        #sys.stdout.write(\" > \")\n",
    "        print( '끝내려면 :  exit [엔터]')\n",
    "        \n",
    "        #sys.stdout.flush()\n",
    "        line=input( ) # sys.stdin.readline()\n",
    "\n",
    "        while line != 'exit' :\n",
    "            print(self.response(line.strip()))\n",
    "            #sys.stdout.write(\"\\n > \")\n",
    "            #sys.stdout.flush()\n",
    "            line=input() # sys.stdin.readline()\n",
    "\n",
    "    def response(self, ipt):\n",
    "        \n",
    "        #enc_input=okt.morphs(ipt)  # 한글처리 \n",
    "        ########################################\n",
    "        enc_input=self.conv.Tokenizer(ipt) \n",
    "        #######################################\n",
    "        # okt 사용시 위 라인의 주석을 풀고, 이 라인을 주석처리.\n",
    "        \n",
    "        enc_input=self.conv.Tokens_to_index(enc_input)\n",
    "        cur=0\n",
    "        dec_input=[]\n",
    "        for i in range( max_decode_len):\n",
    "            outputs=self.decode(enc_input,dec_input)\n",
    "            if self.conv.is_eos(outputs[0][cur]):\n",
    "                break\n",
    "            elif self.conv.is_defined(outputs[0][cur]) is not True:\n",
    "                dec_input.append(outputs[0][cur])\n",
    "                cur+=1\n",
    "\n",
    "        reply=self.conv.decode([dec_input],True)\n",
    "\n",
    "        return reply\n",
    "        \n",
    "\n"
   ]
  },
  {
   "cell_type": "code",
   "execution_count": null,
   "metadata": {},
   "outputs": [
    {
     "name": "stdout",
     "output_type": "stream",
     "text": [
      "self.voc_size 792\n",
      "self.n_hidden 128\n",
      "self.n_layer 3\n",
      "self.learning_rate 0.001\n",
      "INFO:tensorflow:Restoring parameters from ./data_nmt/model\\conversation.ckpt-16600\n",
      "끝내려면 :  exit [엔터]\n",
      "안녕\n",
      "오늘 걸렸어요 갈\n",
      "서울은 \n",
      "울란바토르 알바하시나요 보세요 .\n",
      "잘있냐\n",
      "무슨 스케줄 있나요 ?\n",
      "없어\n",
      "만나서 포근한 .\n",
      "나도\n",
      "갤럭시 s8이요 있어\n",
      "좋으냐 ?\n",
      "아무것도 입니다 거긴\n",
      "여기도\n",
      "보세요 .\n",
      "무엇을\n",
      "더 인구수는 .\n",
      "무슨 인구수\n",
      "어디서 입니다 ?\n",
      "대한민국\n",
      "전주의 인구수는 얼마인가요 ?\n",
      "나도 몰라\n",
      "생각 잘 해보고요 합격을\n",
      "너도 합격을\n",
      "네\n",
      "고맙다\n",
      "지금 인구수는 해요 ?\n",
      "무슨말이냐\n",
      "오늘 좀 ?\n",
      "공부 재미있냐 ?\n",
      "광주에요 .\n",
      "전주의 인구수는 ?\n",
      "전주의 이야기보따리 기대하고 일어났던데요 운영하나요 일어나야죠\n",
      "광주는 ?\n",
      "아무것도 안해 감사합니다\n",
      "무슨얘기냐 ?\n",
      "아무것도 안해 좋은\n",
      "exit\n"
     ]
    }
   ],
   "source": [
    "tf.reset_default_graph()\n",
    "#######################\n",
    "# 없으면 에러를 일으킴 \n",
    "#######################\n",
    "\n",
    "\n",
    "\n",
    "chatbot=Chat( VOC_PATH, train_dir )\n",
    "\n",
    "\n",
    "chatbot.run()\n"
   ]
  },
  {
   "cell_type": "markdown",
   "metadata": {},
   "source": [
    "### 실행 예\n",
    "\n",
    "    self.voc_size 792\n",
    "    self.n_hidden 128\n",
    "    self.n_layer 3\n",
    "    self.learning_rate 0.001\n",
    "\n",
    "    INFO:tensorflow:Restoring parameters from ./model\\conversation.ckpt-10000\n",
    "    끝내려면 :  exit [엔터]\n",
    "    안녕\n",
    "    헬싱키 수도는 ?\n",
    "    몰라\n",
    "    나들이 수도는 ?\n",
    "    exit"
   ]
  },
  {
   "cell_type": "markdown",
   "metadata": {},
   "source": [
    "# ++++++++++++++++++++++++++++++++++++++++"
   ]
  },
  {
   "cell_type": "markdown",
   "metadata": {},
   "source": [
    "# ++++++++++++++++++++++++++++++++++++++++\n",
    "\n",
    "\n",
    "\n",
    "# 파트 B : 학습시키기 ( A가 사용하는 훈련된 ckpt 만듦)"
   ]
  },
  {
   "cell_type": "code",
   "execution_count": 14,
   "metadata": {},
   "outputs": [],
   "source": [
    "import os\n",
    "\n",
    "os.environ['CUDA_VISIBLE_DEVICES']='5'\n",
    "\n",
    "\n",
    "import random\n",
    "import math\n",
    "\n",
    "\n",
    "\n",
    "checkpoint=tf.train.get_checkpoint_state( train_dir)\n",
    "\n",
    "checkpoint_path=os.path.join( train_dir, ckpt_name)\n",
    "\n",
    "#################################################\n",
    "\n",
    "\n",
    "\n",
    "\n",
    "def train(conv, batch_size, epoch):\n",
    "\n",
    "    model=sequence2sequence(conv.voc_size)\n",
    "    \n",
    "    with tf.Session() as sess:\n",
    "        \n",
    "        if checkpoint and tf.train.checkpoint_exists( checkpoint.model_checkpoint_path):\n",
    "            model.saver.restore(sess, checkpoint.model_checkpoint_path)\n",
    "        else:\n",
    "            print(\"모델을 빌드하자 !!\")\n",
    "            sess.run( tf.global_variables_initializer())\n",
    "    \n",
    "        writer= tf.summary.FileWriter( log_dir,sess.graph)\n",
    "        total_batch=int(math.ceil(len(conv.conversation)/float(batch_size)))\n",
    "        \n",
    "        #print( len(conv.conversation)  )\n",
    "        #print( total_batch * EPOCH )\n",
    "    \n",
    "    \n",
    "    \n",
    "        for step in range(total_batch * epoch):\n",
    "            enc_input, dec_input,dec_target= conv.next_batch(batch_size)\n",
    "        \n",
    "            _,loss=model.train(sess, enc_input, dec_input,dec_target)\n",
    "        \n",
    "            if(step+1)% 50 ==0:  # 50 에포크에 한번씩 저장 \n",
    "                model.logs(sess, writer, enc_input, dec_input, dec_target)\n",
    "                model.saver.save(sess, checkpoint_path,global_step= model.global_step)\n",
    "                print('스텝:', '%06d' % model.global_step.eval(),'cost =', '{:.6f}'.format(loss))\n",
    "\n",
    "        model.saver.save(sess, checkpoint_path, global_step= model.global_step)\n",
    "        \n",
    "        print(\"빌드 끝 !! Finished\")\n",
    "    \n"
   ]
  },
  {
   "cell_type": "markdown",
   "metadata": {},
   "source": [
    "## 바로 위에서 전에 학습한 checkpoint 파악해서 부름\n",
    "\n",
    "## 바로 아래에서 그 checkpoint 부터 train 시작함 !!"
   ]
  },
  {
   "cell_type": "code",
   "execution_count": 15,
   "metadata": {},
   "outputs": [
    {
     "name": "stdout",
     "output_type": "stream",
     "text": [
      "size 792\n",
      "500\n",
      "1200\n",
      "self.voc_size 792\n",
      "self.n_hidden 128\n",
      "self.n_layer 3\n",
      "self.learning_rate 0.001\n",
      "WARNING:tensorflow:From <ipython-input-11-12a6fec3db26>:68: BasicRNNCell.__init__ (from tensorflow.python.ops.rnn_cell_impl) is deprecated and will be removed in a future version.\n",
      "Instructions for updating:\n",
      "This class is equivalent as tf.keras.layers.SimpleRNNCell, and will be replaced by that in Tensorflow 2.0.\n",
      "WARNING:tensorflow:From <ipython-input-11-12a6fec3db26>:56: MultiRNNCell.__init__ (from tensorflow.python.ops.rnn_cell_impl) is deprecated and will be removed in a future version.\n",
      "Instructions for updating:\n",
      "This class is equivalent as tf.keras.layers.StackedRNNCells, and will be replaced by that in Tensorflow 2.0.\n",
      "WARNING:tensorflow:From <ipython-input-11-12a6fec3db26>:57: dynamic_rnn (from tensorflow.python.ops.rnn) is deprecated and will be removed in a future version.\n",
      "Instructions for updating:\n",
      "Please use `keras.layers.RNN(cell)`, which is equivalent to this API\n",
      "WARNING:tensorflow:From C:\\WinPython37F\\python-3.7.2.amd64\\lib\\site-packages\\tensorflow\\python\\ops\\rnn_cell_impl.py:455: calling Zeros.__init__ (from tensorflow.python.ops.init_ops) with dtype is deprecated and will be removed in a future version.\n",
      "Instructions for updating:\n",
      "Call initializer instance with the dtype argument instead of passing it to the constructor\n",
      "WARNING:tensorflow:From <ipython-input-14-e7be35831dba>:26: checkpoint_exists (from tensorflow.python.training.checkpoint_management) is deprecated and will be removed in a future version.\n",
      "Instructions for updating:\n",
      "Use standard file APIs to check for files with this prefix.\n",
      "INFO:tensorflow:Restoring parameters from ./data_nmt/model\\conversation.ckpt-16600\n",
      "스텝: 016650 cost = 3.570256\n",
      "스텝: 016700 cost = 3.004854\n",
      "스텝: 016750 cost = 2.306341\n",
      "스텝: 016800 cost = 1.593279\n",
      "스텝: 016850 cost = 1.728105\n",
      "WARNING:tensorflow:From C:\\WinPython37F\\python-3.7.2.amd64\\lib\\site-packages\\tensorflow\\python\\training\\saver.py:960: remove_checkpoint (from tensorflow.python.training.checkpoint_management) is deprecated and will be removed in a future version.\n",
      "Instructions for updating:\n",
      "Use standard file APIs to delete files with this prefix.\n",
      "스텝: 016900 cost = 1.597751\n",
      "스텝: 016950 cost = 1.263955\n",
      "스텝: 017000 cost = 0.842512\n",
      "스텝: 017050 cost = 0.987032\n",
      "스텝: 017100 cost = 0.987837\n",
      "스텝: 017150 cost = 0.806400\n",
      "스텝: 017200 cost = 0.572723\n",
      "스텝: 017250 cost = 0.669453\n",
      "스텝: 017300 cost = 0.636452\n",
      "스텝: 017350 cost = 0.577441\n",
      "스텝: 017400 cost = 0.383967\n",
      "스텝: 017450 cost = 0.498806\n",
      "스텝: 017500 cost = 0.437643\n",
      "스텝: 017550 cost = 0.396093\n",
      "스텝: 017600 cost = 0.306179\n",
      "스텝: 017650 cost = 0.367973\n",
      "스텝: 017700 cost = 0.359148\n",
      "스텝: 017750 cost = 0.337580\n",
      "스텝: 017800 cost = 0.235192\n",
      "빌드 끝 !! Finished\n"
     ]
    }
   ],
   "source": [
    "tf.reset_default_graph()\n",
    "\n",
    "# 바로 앞부터 반복한다\n",
    "# 학습한것 불러와야한다\n",
    "\n",
    "########################\n",
    "# 앞에서 chat 을 한 경우\n",
    "# 이 것 안하면 에러나옴\n",
    "########################\n",
    "\n",
    "\n",
    "BATCH_SIZE=64\n",
    "#############\n",
    "\n",
    "\n",
    "EPOCH=150\n",
    "#############\n",
    "\n",
    "\n",
    "conv=Conversation()\n",
    "conv.Load_voc(VOC_PATH)\n",
    "conv.Load_conversation(DATA_PATH)\n",
    "    \n",
    "print(\"size\",conv.voc_size)\n",
    "# 현재는 792\n",
    "\n",
    "print( len(conv.conversation)  )\n",
    "# 현재는 500\n",
    "\n",
    "total_batch=int(math.ceil(len(conv.conversation)/float(BATCH_SIZE)))\n",
    "# 현재는 약 8\n",
    "\n",
    "\n",
    "print( total_batch * EPOCH )\n",
    "# EPOCH 에 8을 곱한다. 이 값만큼 train 실행 \n",
    "# EPOCH=150 이면 1200 번 train 하고\n",
    "# 50번마다 모델을 save 하게 된다.\n",
    "\n",
    "train(conv, batch_size=BATCH_SIZE, epoch=EPOCH)\n",
    "    "
   ]
  },
  {
   "cell_type": "markdown",
   "metadata": {},
   "source": [
    "### 실행 예 : 이전 학습된 상태를 이어서 학습\n",
    "<pre>\n",
    "size 792\n",
    "500\n",
    "1200\n",
    "self.voc_size 792\n",
    "self.n_hidden 128\n",
    "self.n_layer 3\n",
    "self.learning_rate 0.001\n",
    "INFO:tensorflow:Restoring parameters from ./data_nmt/model\\conversation.ckpt-15400\n",
    "스텝: 015450 cost = 0.322491\n",
    "스텝: 015500 cost = 0.324007\n",
    "스텝: 015550 cost = 0.279106\n",
    "스텝: 015600 cost = 0.174179\n",
    "스텝: 015650 cost = 0.261228\n",
    "스텝: 015700 cost = 0.290277\n",
    "스텝: 015750 cost = 0.227265\n",
    "스텝: 015800 cost = 0.146770\n",
    "스텝: 015850 cost = 0.206373\n",
    "스텝: 015900 cost = 0.241369\n",
    "스텝: 015950 cost = 0.190909\n",
    "스텝: 016000 cost = 0.132130\n",
    "스텝: 016050 cost = 0.157904\n",
    "스텝: 016100 cost = 0.204415\n",
    "스텝: 016150 cost = 0.141685\n",
    "스텝: 016200 cost = 0.142168\n",
    "스텝: 016250 cost = 0.180591\n",
    "스텝: 016300 cost = 0.200669\n",
    "스텝: 016350 cost = 0.126908\n",
    "스텝: 016400 cost = 0.104360\n",
    "스텝: 016450 cost = 0.146085\n",
    "스텝: 016500 cost = 0.145980\n",
    "스텝: 016550 cost = 0.095379\n",
    "스텝: 016600 cost = 0.077563\n",
    "빌드 끝 !! Finished\n",
    "</pre>"
   ]
  },
  {
   "cell_type": "markdown",
   "metadata": {
    "collapsed": true
   },
   "source": [
    "<p>&nbsp;\n",
    "    \n",
    "    \n",
    "# ++++++++++++++++++++++++++++++++++++\n",
    "\n",
    "<p>&nbsp;\n",
    "    \n",
    "    \n",
    "    \n",
    "# 파트 A , 파트 B 내용을 바탕으로 파트 C 탐구 !!\n",
    "\n",
    "<p>&nbsp;\n",
    "    \n",
    "# ====================================\n",
    "\n",
    "\n",
    "<p>&nbsp;\n",
    "\n",
    "# 파트 C : 구글의 머신트랜스레이션과 어텐션 코드\n",
    "\n",
    "\n",
    "\n",
    "\n",
    "# ===================================="
   ]
  },
  {
   "cell_type": "code",
   "execution_count": 1,
   "metadata": {
    "cellView": "form",
    "colab": {},
    "colab_type": "code",
    "id": "jmjh290raIky"
   },
   "outputs": [],
   "source": [
    "#@title Licensed under the Apache License, Version 2.0 (the \"License\");\n",
    "# you may not use this file except in compliance with the License.\n",
    "# You may obtain a copy of the License at\n",
    "#\n",
    "# https://www.apache.org/licenses/LICENSE-2.0\n",
    "#\n",
    "# Unless required by applicable law or agreed to in writing, software\n",
    "# distributed under the License is distributed on an \"AS IS\" BASIS,\n",
    "# WITHOUT WARRANTIES OR CONDITIONS OF ANY KIND, either express or implied.\n",
    "# See the License for the specific language governing permissions and\n",
    "# limitations under the License."
   ]
  },
  {
   "cell_type": "markdown",
   "metadata": {
    "colab_type": "text",
    "id": "J0Qjg6vuaHNt"
   },
   "source": [
    "## ============== 텐서플로우 2.0 으로 실행시킨다 =============== \n",
    "\n",
    "# Tensorflow 2 : Neural machine translation with attention\n",
    "\n",
    "\n",
    "## [문제] 앞의 파트 A와 파트 B를 attention 과 연관시키는 방법은 무엇인가 ?"
   ]
  },
  {
   "cell_type": "markdown",
   "metadata": {
    "colab_type": "text",
    "id": "AOpGoE2T-YXS"
   },
   "source": [
    "<table class=\"tfo-notebook-buttons\" align=\"left\">\n",
    "  <td>\n",
    "    <a target=\"_blank\" href=\"https://www.tensorflow.org/tutorials/text/nmt_with_attention\">\n",
    "    <img src=\"https://www.tensorflow.org/images/tf_logo_32px.png\" />\n",
    "    View on TensorFlow.org</a>\n",
    "  </td>\n",
    "  <td>\n",
    "    <a target=\"_blank\" href=\"https://colab.research.google.com/github/tensorflow/docs/blob/master/site/en/tutorials/text/nmt_with_attention.ipynb\">\n",
    "    <img src=\"https://www.tensorflow.org/images/colab_logo_32px.png\" />\n",
    "    Run in Google Colab</a>\n",
    "  </td>\n",
    "  <td>\n",
    "    <a target=\"_blank\" href=\"https://github.com/tensorflow/docs/blob/master/site/en/tutorials/text/nmt_with_attention.ipynb\">\n",
    "    <img src=\"https://www.tensorflow.org/images/GitHub-Mark-32px.png\" />\n",
    "    View source on GitHub</a>\n",
    "  </td>\n",
    "  <td>\n",
    "    <a href=\"https://storage.googleapis.com/tensorflow_docs/docs/site/en/tutorials/text/nmt_with_attention.ipynb\"><img src=\"https://www.tensorflow.org/images/download_logo_32px.png\" />Download notebook</a>\n",
    "  </td>\n",
    "</table>"
   ]
  },
  {
   "cell_type": "markdown",
   "metadata": {
    "colab_type": "text",
    "id": "CiwtNgENbx2g"
   },
   "source": [
    "This notebook trains a sequence to sequence (seq2seq) model for Spanish to English translation. This is an advanced example that assumes some knowledge of sequence to sequence models.\n",
    "\n",
    "After training the model in this notebook, you will be able to input a Spanish sentence, such as *\"¿todavia estan en casa?\"*, and return the English translation: *\"are you still at home?\"*\n",
    "\n",
    "The translation quality is reasonable for a toy example, but the generated attention plot is perhaps more interesting. This shows which parts of the input sentence has the model's attention while translating:\n",
    "\n",
    "<img src=\"https://tensorflow.org/images/spanish-english.png\" alt=\"spanish-english attention plot\">\n",
    "\n",
    "Note: This example takes approximately 10 mintues to run on a single P100 GPU.\n",
    "\n",
    "### GPU 없는 경우에 CPU 로 작동. GPU를 클라우드에서 사용하여 보자."
   ]
  },
  {
   "cell_type": "code",
   "execution_count": 2,
   "metadata": {
    "colab": {},
    "colab_type": "code",
    "id": "tnxXKDjq3jEL"
   },
   "outputs": [
    {
     "name": "stdout",
     "output_type": "stream",
     "text": [
      "tensor 2.0 기능을 씀 ==  2.0.0\n"
     ]
    }
   ],
   "source": [
    "from __future__ import absolute_import, division, print_function, unicode_literals\n",
    "\n",
    "\n",
    "try:\n",
    "  # %tensorflow_version only exists in Colab.\n",
    "  %tensorflow_version 2.x\n",
    "except Exception:\n",
    "  pass\n",
    "\n",
    "\n",
    "\n",
    "import tensorflow as tf\n",
    "\n",
    "\n",
    "#################################################\n",
    "\n",
    "\n",
    "import matplotlib.pyplot as plt\n",
    "import matplotlib.ticker as ticker\n",
    "\n",
    "from sklearn.model_selection import train_test_split\n",
    "\n",
    "import unicodedata\n",
    "import re\n",
    "import numpy as np\n",
    "import os\n",
    "import io\n",
    "import time\n",
    "\n",
    "print('tensor 2.0 기능을 씀 == ',  tf.__version__)"
   ]
  },
  {
   "cell_type": "markdown",
   "metadata": {
    "colab_type": "text",
    "id": "wfodePkj3jEa"
   },
   "source": [
    "## Download and prepare the dataset\n",
    "\n",
    "We'll use a language dataset provided by http://www.manythings.org/anki/. This dataset contains language translation pairs in the format:\n",
    "\n",
    "```\n",
    "May I borrow this book?\t¿Puedo tomar prestado este libro?\n",
    "```\n",
    "\n",
    "There are a variety of languages available, but we'll use the English-Spanish dataset. For convenience, we've hosted a copy of this dataset on Google Cloud, but you can also download your own copy. After downloading the dataset, here are the steps we'll take to prepare the data:\n",
    "\n",
    "1. Add a *start* and *end* token to each sentence.\n",
    "2. Clean the sentences by removing special characters.\n",
    "3. Create a word index and reverse word index (dictionaries mapping from word → id and id → word).\n",
    "4. Pad each sentence to a maximum length."
   ]
  },
  {
   "cell_type": "markdown",
   "metadata": {
    "colab": {},
    "colab_type": "code",
    "id": "kRVATYOgJs1b"
   },
   "source": [
    "# Download the file\n",
    "\n",
    "path_to_zip = tf.keras.utils.get_file(\n",
    "    \n",
    "    'spa-eng.zip', origin='http://storage.googleapis.com/download.tensorflow.org/data/spa-eng.zip',\n",
    "    extract=True\n",
    "\n",
    ")\n",
    "\n",
    "path_to_file = os.path.dirname(path_to_zip)+\"/spa-eng/spa.txt\"\n",
    "\n",
    "\n",
    "# winpython37F 의 settings 의 .keras 의 data 디렉토리 밑에 저장됨 \n",
    "\n",
    "# 있으면 pass. 우리는 data_nmt 에 미리 저장된 spa.txt 파일로 한다. "
   ]
  },
  {
   "cell_type": "code",
   "execution_count": 3,
   "metadata": {},
   "outputs": [],
   "source": [
    "path_to_file = \"./data_nmt/spa-eng/spa.txt\""
   ]
  },
  {
   "cell_type": "code",
   "execution_count": 4,
   "metadata": {
    "colab": {},
    "colab_type": "code",
    "id": "rd0jw-eC3jEh"
   },
   "outputs": [],
   "source": [
    "# Converts the unicode file to ascii\n",
    "def unicode_to_ascii(s):\n",
    "  return ''.join(c for c in unicodedata.normalize('NFD', s)\n",
    "      if unicodedata.category(c) != 'Mn')\n",
    "\n",
    "\n",
    "def preprocess_sentence(w):\n",
    "  w = unicode_to_ascii(w.lower().strip())\n",
    "\n",
    "  # creating a space between a word and the punctuation following it\n",
    "  # eg: \"he is a boy.\" => \"he is a boy .\"\n",
    "  # Reference:- https://stackoverflow.com/questions/3645931/python-padding-punctuation-with-white-spaces-keeping-punctuation\n",
    "  w = re.sub(r\"([?.!,¿])\", r\" \\1 \", w)\n",
    "  w = re.sub(r'[\" \"]+', \" \", w)\n",
    "\n",
    "  # replacing everything with space except (a-z, A-Z, \".\", \"?\", \"!\", \",\")\n",
    "  w = re.sub(r\"[^a-zA-Z?.!,¿]+\", \" \", w)\n",
    "\n",
    "  w = w.rstrip().strip()\n",
    "\n",
    "  # adding a start and an end token to the sentence\n",
    "  # so that the model know when to start and stop predicting.\n",
    "  w = '<start> ' + w + ' <end>'\n",
    "  return w"
   ]
  },
  {
   "cell_type": "code",
   "execution_count": 5,
   "metadata": {
    "colab": {},
    "colab_type": "code",
    "id": "opI2GzOt479E"
   },
   "outputs": [
    {
     "name": "stdout",
     "output_type": "stream",
     "text": [
      "<start> may i borrow this book ? <end>\n",
      "b'<start> \\xc2\\xbf puedo tomar prestado este libro ? <end>'\n"
     ]
    }
   ],
   "source": [
    "en_sentence = u\"May I borrow this book?\"\n",
    "sp_sentence = u\"¿Puedo tomar prestado este libro?\"\n",
    "print(preprocess_sentence(en_sentence))\n",
    "print(preprocess_sentence(sp_sentence).encode('utf-8'))"
   ]
  },
  {
   "cell_type": "code",
   "execution_count": 8,
   "metadata": {
    "colab": {},
    "colab_type": "code",
    "id": "OHn4Dct23jEm"
   },
   "outputs": [],
   "source": [
    "# 1. Remove the accents\n",
    "# 2. Clean the sentences\n",
    "# 3. Return word pairs in the format: [ENGLISH, SPANISH]\n",
    "\n",
    "\n",
    "def create_dataset(path, num_examples):\n",
    "  lines = io.open(path, encoding='UTF-8').read().strip().split('\\n')\n",
    "\n",
    "  word_pairs = [[preprocess_sentence(w) for w in l.split('\\t')]  for l in lines[:num_examples]]\n",
    "\n",
    "  return zip(*word_pairs)"
   ]
  },
  {
   "cell_type": "code",
   "execution_count": 9,
   "metadata": {
    "colab": {},
    "colab_type": "code",
    "id": "cTbSbBz55QtF"
   },
   "outputs": [
    {
     "name": "stdout",
     "output_type": "stream",
     "text": [
      "<start> if you want to sound like a native speaker , you must be willing to practice saying the same sentence over and over in the same way that banjo players practice the same phrase over and over until they can play it correctly and at the desired tempo . <end>\n",
      "<start> si quieres sonar como un hablante nativo , debes estar dispuesto a practicar diciendo la misma frase una y otra vez de la misma manera en que un musico de banjo practica el mismo fraseo una y otra vez hasta que lo puedan tocar correctamente y en el tiempo esperado . <end>\n"
     ]
    }
   ],
   "source": [
    "# path_to_file = \"./data_nmt/spa-eng/spa.txt\"\n",
    "\n",
    "en, sp = create_dataset(path_to_file, None)\n",
    "print(en[-1])\n",
    "print(sp[-1])"
   ]
  },
  {
   "cell_type": "code",
   "execution_count": 10,
   "metadata": {
    "colab": {},
    "colab_type": "code",
    "id": "OmMZQpdO60dt"
   },
   "outputs": [],
   "source": [
    "def max_length(tensor):\n",
    "  return max(len(t) for t in tensor)"
   ]
  },
  {
   "cell_type": "code",
   "execution_count": 11,
   "metadata": {
    "colab": {},
    "colab_type": "code",
    "id": "bIOn8RCNDJXG"
   },
   "outputs": [],
   "source": [
    "def tokenize(lang):\n",
    "  lang_tokenizer = tf.keras.preprocessing.text.Tokenizer(\n",
    "      filters='')\n",
    "  lang_tokenizer.fit_on_texts(lang)\n",
    "\n",
    "  tensor = lang_tokenizer.texts_to_sequences(lang)\n",
    "\n",
    "  tensor = tf.keras.preprocessing.sequence.pad_sequences(tensor,\n",
    "                                                         padding='post')\n",
    "\n",
    "  return tensor, lang_tokenizer"
   ]
  },
  {
   "cell_type": "code",
   "execution_count": 12,
   "metadata": {
    "colab": {},
    "colab_type": "code",
    "id": "eAY9k49G3jE_"
   },
   "outputs": [],
   "source": [
    "def load_dataset(path, num_examples=None):\n",
    "  # creating cleaned input, output pairs\n",
    "  targ_lang, inp_lang = create_dataset(path, num_examples)\n",
    "\n",
    "  input_tensor, inp_lang_tokenizer = tokenize(inp_lang)\n",
    "  target_tensor, targ_lang_tokenizer = tokenize(targ_lang)\n",
    "\n",
    "  return input_tensor, target_tensor, inp_lang_tokenizer, targ_lang_tokenizer"
   ]
  },
  {
   "cell_type": "markdown",
   "metadata": {
    "colab_type": "text",
    "id": "GOi42V79Ydlr"
   },
   "source": [
    "### Limit the size of the dataset to experiment faster (optional)\n",
    "\n",
    "Training on the complete dataset of >100,000 sentences will take a long time. To train faster, we can limit the size of the dataset to 30,000 sentences (of course, translation quality degrades with less data):\n",
    "\n",
    "### num_examples = 30000 으로 제한시켜서 한다"
   ]
  },
  {
   "cell_type": "code",
   "execution_count": 13,
   "metadata": {
    "colab": {},
    "colab_type": "code",
    "id": "cnxC7q-j3jFD"
   },
   "outputs": [],
   "source": [
    "# Try experimenting with the size of that dataset\n",
    "num_examples = 30000\n",
    "input_tensor, target_tensor, inp_lang, targ_lang = load_dataset(path_to_file, num_examples)\n",
    "\n",
    "# Calculate max_length of the target tensors\n",
    "max_length_targ, max_length_inp = max_length(target_tensor), max_length(input_tensor)"
   ]
  },
  {
   "cell_type": "code",
   "execution_count": 14,
   "metadata": {
    "colab": {},
    "colab_type": "code",
    "id": "4QILQkOs3jFG"
   },
   "outputs": [
    {
     "name": "stdout",
     "output_type": "stream",
     "text": [
      "24000 24000 6000 6000\n",
      "학습 : 테스트 = 80 : 20\n"
     ]
    }
   ],
   "source": [
    "# Creating training and validation sets using an 80-20 split\n",
    "input_tensor_train, input_tensor_val, target_tensor_train, target_tensor_val = train_test_split(input_tensor, target_tensor, test_size=0.2)\n",
    "\n",
    "# Show length\n",
    "print(len(input_tensor_train), len(target_tensor_train), len(input_tensor_val), len(target_tensor_val))\n",
    "\n",
    "print( '학습 : 테스트 = 80 : 20' )"
   ]
  },
  {
   "cell_type": "code",
   "execution_count": 15,
   "metadata": {
    "colab": {},
    "colab_type": "code",
    "id": "lJPmLZGMeD5q"
   },
   "outputs": [],
   "source": [
    "def convert(lang, tensor):\n",
    "  for t in tensor:\n",
    "    if t!=0:\n",
    "      print (\"%d ----> %s\" % (t, lang.index_word[t]))"
   ]
  },
  {
   "cell_type": "code",
   "execution_count": 16,
   "metadata": {
    "colab": {},
    "colab_type": "code",
    "id": "VXukARTDd7MT"
   },
   "outputs": [
    {
     "name": "stdout",
     "output_type": "stream",
     "text": [
      "Input Language; index to word mapping\n",
      "1 ----> <start>\n",
      "38 ----> puedo\n",
      "72 ----> ir\n",
      "3 ----> .\n",
      "2 ----> <end>\n",
      "\n",
      "Target Language; index to word mapping\n",
      "1 ----> <start>\n",
      "4 ----> i\n",
      "25 ----> can\n",
      "36 ----> go\n",
      "3 ----> .\n",
      "2 ----> <end>\n"
     ]
    }
   ],
   "source": [
    "print (\"Input Language; index to word mapping\")\n",
    "convert(inp_lang, input_tensor_train[0])\n",
    "print ()\n",
    "print (\"Target Language; index to word mapping\")\n",
    "convert(targ_lang, target_tensor_train[0])"
   ]
  },
  {
   "cell_type": "markdown",
   "metadata": {
    "colab_type": "text",
    "id": "rgCLkfv5uO3d"
   },
   "source": [
    "### Create a tf.data dataset"
   ]
  },
  {
   "cell_type": "code",
   "execution_count": 17,
   "metadata": {
    "colab": {},
    "colab_type": "code",
    "id": "TqHsArVZ3jFS"
   },
   "outputs": [
    {
     "name": "stdout",
     "output_type": "stream",
     "text": [
      "영어 단어의 수 :  9414\n",
      "스페인어의 단어 수 :  4935\n"
     ]
    }
   ],
   "source": [
    "BUFFER_SIZE = len(input_tensor_train)\n",
    "BATCH_SIZE = 64\n",
    "\n",
    "\n",
    "steps_per_epoch = len(input_tensor_train)//BATCH_SIZE\n",
    "embedding_dim = 256\n",
    "units = 1024\n",
    "\n",
    "vocab_inp_size = len(inp_lang.word_index)+1\n",
    "vocab_tar_size = len(targ_lang.word_index)+1\n",
    "\n",
    "dataset = tf.data.Dataset.from_tensor_slices((input_tensor_train, target_tensor_train)).shuffle(BUFFER_SIZE)\n",
    "dataset = dataset.batch(BATCH_SIZE, drop_remainder=True)\n",
    "\n",
    "print( '영어 단어의 수 : ', vocab_inp_size )\n",
    "print( '스페인어의 단어 수 : ', vocab_tar_size )"
   ]
  },
  {
   "cell_type": "code",
   "execution_count": 19,
   "metadata": {
    "colab": {},
    "colab_type": "code",
    "id": "qc6-NK1GtWQt"
   },
   "outputs": [
    {
     "data": {
      "text/plain": [
       "(TensorShape([64, 16]), TensorShape([64, 11]))"
      ]
     },
     "execution_count": 19,
     "metadata": {},
     "output_type": "execute_result"
    }
   ],
   "source": [
    "example_input_batch, example_target_batch = next(iter(dataset))\n",
    "\n",
    "example_input_batch.shape, example_target_batch.shape"
   ]
  },
  {
   "cell_type": "markdown",
   "metadata": {
    "colab_type": "text",
    "id": "TNfHIF71ulLu"
   },
   "source": [
    "## Write the encoder and decoder model\n",
    "\n",
    "Implement an encoder-decoder model with attention which you can read about in the TensorFlow [Neural Machine Translation (seq2seq) tutorial](https://github.com/tensorflow/nmt). This example uses a more recent set of APIs. This notebook implements the [attention equations](https://github.com/tensorflow/nmt#background-on-the-attention-mechanism) from the seq2seq tutorial. The following diagram shows that each input words is assigned a weight by the attention mechanism which is then used by the decoder to predict the next word in the sentence. The below picture and formulas are an example of attention mechanism from [Luong's paper](https://arxiv.org/abs/1508.04025v5). \n",
    "\n",
    "<img src=\"https://www.tensorflow.org/images/seq2seq/attention_mechanism.jpg\" width=\"500\" alt=\"attention mechanism\">\n",
    "\n",
    "The input is put through an encoder model which gives us the encoder output of shape *(batch_size, max_length, hidden_size)* and the encoder hidden state of shape *(batch_size, hidden_size)*.\n",
    "\n",
    "Here are the equations that are implemented:\n",
    "\n",
    "<img src=\"https://www.tensorflow.org/images/seq2seq/attention_equation_0.jpg\" alt=\"attention equation 0\" width=\"800\">\n",
    "<img src=\"https://www.tensorflow.org/images/seq2seq/attention_equation_1.jpg\" alt=\"attention equation 1\" width=\"800\">\n",
    "\n",
    "This tutorial uses [Bahdanau attention](https://arxiv.org/pdf/1409.0473.pdf) for the encoder. Let's decide on notation before writing the simplified form:\n",
    "\n",
    "* FC = Fully connected (dense) layer\n",
    "* EO = Encoder output\n",
    "* H = hidden state\n",
    "* X = input to the decoder\n",
    "\n",
    "And the pseudo-code:\n",
    "\n",
    "* `score = FC(tanh(FC(EO) + FC(H)))`\n",
    "* `attention weights = softmax(score, axis = 1)`. Softmax by default is applied on the last axis but here we want to apply it on the *1st axis*, since the shape of score is *(batch_size, max_length, hidden_size)*. `Max_length` is the length of our input. Since we are trying to assign a weight to each input, softmax should be applied on that axis.\n",
    "* `context vector = sum(attention weights * EO, axis = 1)`. Same reason as above for choosing axis as 1.\n",
    "* `embedding output` = The input to the decoder X is passed through an embedding layer.\n",
    "* `merged vector = concat(embedding output, context vector)`\n",
    "* This merged vector is then given to the GRU\n",
    "\n",
    "The shapes of all the vectors at each step have been specified in the comments in the code:"
   ]
  },
  {
   "cell_type": "markdown",
   "metadata": {},
   "source": [
    "## 인코더"
   ]
  },
  {
   "cell_type": "code",
   "execution_count": 20,
   "metadata": {
    "colab": {},
    "colab_type": "code",
    "id": "nZ2rI24i3jFg"
   },
   "outputs": [],
   "source": [
    "class Encoder(tf.keras.Model):\n",
    "  def __init__(self, vocab_size, embedding_dim, enc_units, batch_sz):\n",
    "    super(Encoder, self).__init__()\n",
    "    self.batch_sz = batch_sz\n",
    "    self.enc_units = enc_units\n",
    "    self.embedding = tf.keras.layers.Embedding(vocab_size, embedding_dim)\n",
    "    self.gru = tf.keras.layers.GRU(self.enc_units,\n",
    "                                   return_sequences=True,\n",
    "                                   return_state=True,\n",
    "                                   recurrent_initializer='glorot_uniform')\n",
    "\n",
    "  def call(self, x, hidden):\n",
    "    x = self.embedding(x)\n",
    "    output, state = self.gru(x, initial_state = hidden)\n",
    "    return output, state\n",
    "\n",
    "  def initialize_hidden_state(self):\n",
    "    return tf.zeros((self.batch_sz, self.enc_units))"
   ]
  },
  {
   "cell_type": "code",
   "execution_count": 21,
   "metadata": {
    "colab": {},
    "colab_type": "code",
    "id": "60gSVh05Jl6l"
   },
   "outputs": [
    {
     "name": "stdout",
     "output_type": "stream",
     "text": [
      "Encoder output shape: (batch size, sequence length, units) (64, 16, 1024)\n",
      "Encoder Hidden state shape: (batch size, units) (64, 1024)\n"
     ]
    }
   ],
   "source": [
    "encoder = Encoder(vocab_inp_size, embedding_dim, units, BATCH_SIZE)\n",
    "\n",
    "# sample input\n",
    "sample_hidden = encoder.initialize_hidden_state()\n",
    "sample_output, sample_hidden = encoder(example_input_batch, sample_hidden)\n",
    "print ('Encoder output shape: (batch size, sequence length, units) {}'.format(sample_output.shape))\n",
    "print ('Encoder Hidden state shape: (batch size, units) {}'.format(sample_hidden.shape))"
   ]
  },
  {
   "cell_type": "markdown",
   "metadata": {},
   "source": [
    "## 어탠션"
   ]
  },
  {
   "cell_type": "code",
   "execution_count": 22,
   "metadata": {
    "colab": {},
    "colab_type": "code",
    "id": "umohpBN2OM94"
   },
   "outputs": [],
   "source": [
    "class BahdanauAttention(tf.keras.layers.Layer):\n",
    "  def __init__(self, units):\n",
    "    super(BahdanauAttention, self).__init__()\n",
    "    self.W1 = tf.keras.layers.Dense(units)\n",
    "    self.W2 = tf.keras.layers.Dense(units)\n",
    "    self.V = tf.keras.layers.Dense(1)\n",
    "\n",
    "  def call(self, query, values):\n",
    "    # hidden shape == (batch_size, hidden size)\n",
    "    # hidden_with_time_axis shape == (batch_size, 1, hidden size)\n",
    "    # we are doing this to perform addition to calculate the score\n",
    "    hidden_with_time_axis = tf.expand_dims(query, 1)\n",
    "\n",
    "    # score shape == (batch_size, max_length, 1)\n",
    "    # we get 1 at the last axis because we are applying score to self.V\n",
    "    # the shape of the tensor before applying self.V is (batch_size, max_length, units)\n",
    "    score = self.V(tf.nn.tanh(\n",
    "        self.W1(values) + self.W2(hidden_with_time_axis)))\n",
    "\n",
    "    # attention_weights shape == (batch_size, max_length, 1)\n",
    "    attention_weights = tf.nn.softmax(score, axis=1)\n",
    "\n",
    "    # context_vector shape after sum == (batch_size, hidden_size)\n",
    "    context_vector = attention_weights * values\n",
    "    context_vector = tf.reduce_sum(context_vector, axis=1)\n",
    "\n",
    "    return context_vector, attention_weights"
   ]
  },
  {
   "cell_type": "code",
   "execution_count": 23,
   "metadata": {
    "colab": {},
    "colab_type": "code",
    "id": "k534zTHiDjQU"
   },
   "outputs": [
    {
     "name": "stdout",
     "output_type": "stream",
     "text": [
      "Attention result shape: (batch size, units) (64, 1024)\n",
      "Attention weights shape: (batch_size, sequence_length, 1) (64, 16, 1)\n"
     ]
    }
   ],
   "source": [
    "attention_layer = BahdanauAttention(10)\n",
    "attention_result, attention_weights = attention_layer(sample_hidden, sample_output)\n",
    "\n",
    "print(\"Attention result shape: (batch size, units) {}\".format(attention_result.shape))\n",
    "print(\"Attention weights shape: (batch_size, sequence_length, 1) {}\".format(attention_weights.shape))"
   ]
  },
  {
   "cell_type": "markdown",
   "metadata": {},
   "source": [
    "## 디코더"
   ]
  },
  {
   "cell_type": "code",
   "execution_count": 24,
   "metadata": {
    "colab": {},
    "colab_type": "code",
    "id": "yJ_B3mhW3jFk"
   },
   "outputs": [],
   "source": [
    "class Decoder(tf.keras.Model):\n",
    "  def __init__(self, vocab_size, embedding_dim, dec_units, batch_sz):\n",
    "    super(Decoder, self).__init__()\n",
    "    self.batch_sz = batch_sz\n",
    "    self.dec_units = dec_units\n",
    "    self.embedding = tf.keras.layers.Embedding(vocab_size, embedding_dim)\n",
    "    self.gru = tf.keras.layers.GRU(self.dec_units,\n",
    "                                   return_sequences=True,\n",
    "                                   return_state=True,\n",
    "                                   recurrent_initializer='glorot_uniform')\n",
    "    self.fc = tf.keras.layers.Dense(vocab_size)\n",
    "\n",
    "    # used for attention\n",
    "    self.attention = BahdanauAttention(self.dec_units)\n",
    "\n",
    "  def call(self, x, hidden, enc_output):\n",
    "    # enc_output shape == (batch_size, max_length, hidden_size)\n",
    "    context_vector, attention_weights = self.attention(hidden, enc_output)\n",
    "\n",
    "    # x shape after passing through embedding == (batch_size, 1, embedding_dim)\n",
    "    x = self.embedding(x)\n",
    "\n",
    "    # x shape after concatenation == (batch_size, 1, embedding_dim + hidden_size)\n",
    "    x = tf.concat([tf.expand_dims(context_vector, 1), x], axis=-1)\n",
    "\n",
    "    # passing the concatenated vector to the GRU\n",
    "    output, state = self.gru(x)\n",
    "\n",
    "    # output shape == (batch_size * 1, hidden_size)\n",
    "    output = tf.reshape(output, (-1, output.shape[2]))\n",
    "\n",
    "    # output shape == (batch_size, vocab)\n",
    "    x = self.fc(output)\n",
    "\n",
    "    return x, state, attention_weights"
   ]
  },
  {
   "cell_type": "code",
   "execution_count": 25,
   "metadata": {
    "colab": {},
    "colab_type": "code",
    "id": "P5UY8wko3jFp"
   },
   "outputs": [
    {
     "name": "stdout",
     "output_type": "stream",
     "text": [
      "Decoder output shape: (batch_size, vocab size) (64, 4935)\n"
     ]
    }
   ],
   "source": [
    "decoder = Decoder(vocab_tar_size, embedding_dim, units, BATCH_SIZE)\n",
    "\n",
    "sample_decoder_output, _, _ = decoder(tf.random.uniform((BATCH_SIZE, 1)),\n",
    "                                      sample_hidden, sample_output)\n",
    "\n",
    "print ('Decoder output shape: (batch_size, vocab size) {}'.format(sample_decoder_output.shape))"
   ]
  },
  {
   "cell_type": "markdown",
   "metadata": {
    "colab_type": "text",
    "id": "_ch_71VbIRfK"
   },
   "source": [
    "##  옵티마이저와 loss function"
   ]
  },
  {
   "cell_type": "code",
   "execution_count": 26,
   "metadata": {
    "colab": {},
    "colab_type": "code",
    "id": "WmTHr5iV3jFr"
   },
   "outputs": [],
   "source": [
    "optimizer = tf.keras.optimizers.Adam()\n",
    "\n",
    "\n",
    "loss_object = tf.keras.losses.SparseCategoricalCrossentropy(\n",
    "    from_logits=True, reduction='none')\n",
    "\n",
    "\n",
    "\n",
    "def loss_function(real, pred):\n",
    "  mask = tf.math.logical_not(tf.math.equal(real, 0))\n",
    "  loss_ = loss_object(real, pred)\n",
    "\n",
    "  mask = tf.cast(mask, dtype=loss_.dtype)\n",
    "  loss_ *= mask\n",
    "\n",
    "  return tf.reduce_mean(loss_)"
   ]
  },
  {
   "cell_type": "markdown",
   "metadata": {
    "colab_type": "text",
    "id": "DMVWzzsfNl4e"
   },
   "source": [
    "## Checkpoints ( './data_nmt/spa-eng' : Object-based saving)"
   ]
  },
  {
   "cell_type": "code",
   "execution_count": 30,
   "metadata": {
    "colab": {},
    "colab_type": "code",
    "id": "Zj8bXQTgNwrF"
   },
   "outputs": [],
   "source": [
    "checkpoint_dir = './data_nmt/spa-eng'\n",
    "#####################################\n",
    "\n",
    "checkpoint_prefix = os.path.join(checkpoint_dir, \"attentionckpt\")\n",
    "checkpoint = tf.train.Checkpoint(optimizer=optimizer,\n",
    "                                 encoder=encoder,\n",
    "                                 decoder=decoder)"
   ]
  },
  {
   "cell_type": "markdown",
   "metadata": {
    "colab_type": "text",
    "id": "hpObfY22IddU"
   },
   "source": [
    "## Training\n",
    "\n",
    "1. Pass the *input* through the *encoder* which return *encoder output* and the *encoder hidden state*.\n",
    "2. The encoder output, encoder hidden state and the decoder input (which is the *start token*) is passed to the decoder.\n",
    "3. The decoder returns the *predictions* and the *decoder hidden state*.\n",
    "4. The decoder hidden state is then passed back into the model and the predictions are used to calculate the loss.\n",
    "5. Use *teacher forcing* to decide the next input to the decoder.\n",
    "6. *Teacher forcing* is the technique where the *target word* is passed as the *next input* to the decoder.\n",
    "7. The final step is to calculate the gradients and apply it to the optimizer and backpropagate."
   ]
  },
  {
   "cell_type": "code",
   "execution_count": 31,
   "metadata": {
    "colab": {},
    "colab_type": "code",
    "id": "sC9ArXSsVfqn"
   },
   "outputs": [],
   "source": [
    "@tf.function\n",
    "def train_step(inp, targ, enc_hidden):\n",
    "  loss = 0\n",
    "\n",
    "  with tf.GradientTape() as tape:\n",
    "    enc_output, enc_hidden = encoder(inp, enc_hidden)\n",
    "\n",
    "    dec_hidden = enc_hidden\n",
    "\n",
    "    dec_input = tf.expand_dims([targ_lang.word_index['<start>']] * BATCH_SIZE, 1)\n",
    "\n",
    "    # Teacher forcing - feeding the target as the next input\n",
    "    for t in range(1, targ.shape[1]):\n",
    "      # passing enc_output to the decoder\n",
    "      predictions, dec_hidden, _ = decoder(dec_input, dec_hidden, enc_output)\n",
    "\n",
    "      loss += loss_function(targ[:, t], predictions)\n",
    "\n",
    "      # using teacher forcing\n",
    "      dec_input = tf.expand_dims(targ[:, t], 1)\n",
    "\n",
    "  batch_loss = (loss / int(targ.shape[1]))\n",
    "\n",
    "  variables = encoder.trainable_variables + decoder.trainable_variables\n",
    "\n",
    "  gradients = tape.gradient(loss, variables)\n",
    "\n",
    "  optimizer.apply_gradients(zip(gradients, variables))\n",
    "\n",
    "  return batch_loss"
   ]
  },
  {
   "cell_type": "code",
   "execution_count": 33,
   "metadata": {
    "colab": {},
    "colab_type": "code",
    "id": "ddefjBMa3jF0"
   },
   "outputs": [
    {
     "name": "stdout",
     "output_type": "stream",
     "text": [
      "Epoch 1 Batch 0 Loss 1.0408\n",
      "Epoch 1 Batch 100 Loss 1.0504\n",
      "Epoch 1 Batch 200 Loss 0.9364\n",
      "Epoch 1 Batch 300 Loss 1.0437\n",
      "steps_per_epoch =  375 total_loss  =  tf.Tensor(375.38873, shape=(), dtype=float32)\n",
      "Epoch 1 Loss 1.0010\n",
      "Time taken for 1 epoch 1580.1497569084167 sec\n",
      "\n",
      "Epoch 2 Batch 0 Loss 0.6826\n",
      "Epoch 2 Batch 100 Loss 0.7167\n",
      "Epoch 2 Batch 200 Loss 0.6485\n",
      "Epoch 2 Batch 300 Loss 0.6492\n",
      "steps_per_epoch =  375 total_loss  =  tf.Tensor(256.7156, shape=(), dtype=float32)\n",
      "Epoch 2 Loss 0.6846\n",
      "Time taken for 1 epoch 1247.8489425182343 sec\n",
      "\n"
     ]
    }
   ],
   "source": [
    "#EPOCHS = 10\n",
    "## 이 곳을 5번 반복해서 실행시켜도 됨\n",
    "\n",
    "EPOCHS = 2\n",
    "\n",
    "##########################\n",
    "\n",
    "for epoch in range(EPOCHS):\n",
    "  start = time.time()\n",
    "\n",
    "  enc_hidden = encoder.initialize_hidden_state()\n",
    "  total_loss = 0\n",
    "\n",
    "  for (batch, (inp, targ)) in enumerate(dataset.take(steps_per_epoch)):\n",
    "    batch_loss = train_step(inp, targ, enc_hidden)\n",
    "    total_loss += batch_loss\n",
    "\n",
    "    if batch % 100 == 0:\n",
    "      print('Epoch {} Batch {} Loss {:.4f}'.format(epoch + 1,\n",
    "                                                   batch,\n",
    "                                                   batch_loss.numpy()))\n",
    "\n",
    "  # saving (checkpoint) the model every 2 epochs\n",
    "  # epoch=1 이면 끝날때만 \n",
    "  if (epoch + 1) % 2 == 0:\n",
    "    checkpoint.save( file_prefix = checkpoint_prefix )\n",
    "\n",
    "  print( 'steps_per_epoch = ', steps_per_epoch , 'total_loss  = ', total_loss)\n",
    "  print('Epoch {} Loss {:.4f}'.format(epoch + 1,\n",
    "                                      total_loss / steps_per_epoch))\n",
    "  print('Time taken for 1 epoch {} sec\\n'.format(time.time() - start))"
   ]
  },
  {
   "cell_type": "markdown",
   "metadata": {},
   "source": [
    "<pre>\n",
    "Epoch 1 Batch 0 Loss 1.0408\n",
    "Epoch 1 Batch 100 Loss 1.0504\n",
    "Epoch 1 Batch 200 Loss 0.9364\n",
    "Epoch 1 Batch 300 Loss 1.0437\n",
    "steps_per_epoch =  375 total_loss  =  tf.Tensor(375.38873, shape=(), dtype=float32)\n",
    "Epoch 1 Loss 1.0010\n",
    "Time taken for 1 epoch 1580.1497569084167 sec\n",
    "\n",
    "Epoch 2 Batch 0 Loss 0.6826\n",
    "Epoch 2 Batch 100 Loss 0.7167\n",
    "Epoch 2 Batch 200 Loss 0.6485\n",
    "Epoch 2 Batch 300 Loss 0.6492\n",
    "steps_per_epoch =  375 total_loss  =  tf.Tensor(256.7156, shape=(), dtype=float32)\n",
    "Epoch 2 Loss 0.6846\n",
    "Time taken for 1 epoch 1247.8489425182343 sec\n",
    "</pre>"
   ]
  },
  {
   "cell_type": "markdown",
   "metadata": {
    "colab_type": "text",
    "id": "mU3Ce8M6I3rz"
   },
   "source": [
    "## Translate\n",
    "\n",
    "* The evaluate function is similar to the training loop, except we don't use *teacher forcing* here. The input to the decoder at each time step is its previous predictions along with the hidden state and the encoder output.\n",
    "* Stop predicting when the model predicts the *end token*.\n",
    "* And store the *attention weights for every time step*.\n",
    "\n",
    "Note: The encoder output is calculated only once for one input."
   ]
  },
  {
   "cell_type": "code",
   "execution_count": 34,
   "metadata": {
    "colab": {},
    "colab_type": "code",
    "id": "EbQpyYs13jF_"
   },
   "outputs": [],
   "source": [
    "def evaluate(sentence):\n",
    "  attention_plot = np.zeros((max_length_targ, max_length_inp))\n",
    "\n",
    "  sentence = preprocess_sentence(sentence)\n",
    "\n",
    "  inputs = [inp_lang.word_index[i] for i in sentence.split(' ')]\n",
    "  inputs = tf.keras.preprocessing.sequence.pad_sequences([inputs],\n",
    "                                                         maxlen=max_length_inp,\n",
    "                                                         padding='post')\n",
    "  inputs = tf.convert_to_tensor(inputs)\n",
    "\n",
    "  result = ''\n",
    "\n",
    "  hidden = [tf.zeros((1, units))]\n",
    "  enc_out, enc_hidden = encoder(inputs, hidden)\n",
    "\n",
    "  dec_hidden = enc_hidden\n",
    "  dec_input = tf.expand_dims([targ_lang.word_index['<start>']], 0)\n",
    "\n",
    "  for t in range(max_length_targ):\n",
    "    predictions, dec_hidden, attention_weights = decoder(dec_input,\n",
    "                                                         dec_hidden,\n",
    "                                                         enc_out)\n",
    "\n",
    "    # storing the attention weights to plot later on\n",
    "    attention_weights = tf.reshape(attention_weights, (-1, ))\n",
    "    attention_plot[t] = attention_weights.numpy()\n",
    "\n",
    "    predicted_id = tf.argmax(predictions[0]).numpy()\n",
    "\n",
    "    result += targ_lang.index_word[predicted_id] + ' '\n",
    "\n",
    "    if targ_lang.index_word[predicted_id] == '<end>':\n",
    "      return result, sentence, attention_plot\n",
    "\n",
    "    # the predicted ID is fed back into the model\n",
    "    dec_input = tf.expand_dims([predicted_id], 0)\n",
    "\n",
    "  return result, sentence, attention_plot\n",
    "\n",
    "\n",
    "\n",
    "\n",
    "# function for plotting the attention weights\n",
    "def plot_attention(attention, sentence, predicted_sentence):\n",
    "  fig = plt.figure(figsize=(10,10))\n",
    "  ax = fig.add_subplot(1, 1, 1)\n",
    "  ax.matshow(attention, cmap='viridis')\n",
    "\n",
    "  fontdict = {'fontsize': 14}\n",
    "\n",
    "  ax.set_xticklabels([''] + sentence, fontdict=fontdict, rotation=90)\n",
    "  ax.set_yticklabels([''] + predicted_sentence, fontdict=fontdict)\n",
    "\n",
    "  ax.xaxis.set_major_locator(ticker.MultipleLocator(1))\n",
    "  ax.yaxis.set_major_locator(ticker.MultipleLocator(1))\n",
    "\n",
    "  plt.show()"
   ]
  },
  {
   "cell_type": "markdown",
   "metadata": {
    "colab_type": "text",
    "id": "n250XbnjOaqP"
   },
   "source": [
    "## 저장된 최근의 checkpoint 불러서 테스트 !!"
   ]
  },
  {
   "cell_type": "code",
   "execution_count": 35,
   "metadata": {
    "colab": {},
    "colab_type": "code",
    "id": "UJpT9D5_OgP6"
   },
   "outputs": [],
   "source": [
    "# restoring the latest checkpoint in checkpoint_dir\n",
    "checkpoint.restore(tf.train.latest_checkpoint(checkpoint_dir))\n",
    "\n",
    "\n",
    "def translate(sentence):\n",
    "  result, sentence, attention_plot = evaluate(sentence)\n",
    "\n",
    "  print('Input: %s' % (sentence))\n",
    "  print('Predicted translation: {}'.format(result))\n",
    "\n",
    "  attention_plot = attention_plot[:len(result.split(' ')), :len(sentence.split(' '))]\n",
    "  plot_attention(attention_plot, sentence.split(' '), result.split(' '))"
   ]
  },
  {
   "cell_type": "code",
   "execution_count": 36,
   "metadata": {
    "colab": {},
    "colab_type": "code",
    "id": "WrAM0FDomq3E"
   },
   "outputs": [
    {
     "name": "stdout",
     "output_type": "stream",
     "text": [
      "Input: <start> hace mucho frio aqui . <end>\n",
      "Predicted translation: it s very cold here . <end> \n"
     ]
    },
    {
     "data": {
      "image/png": "[encoded data removed]",
      "text/plain": [
       "<Figure size 720x720 with 1 Axes>"
      ]
     },
     "metadata": {
      "needs_background": "light"
     },
     "output_type": "display_data"
    }
   ],
   "source": [
    "translate(u'hace mucho frio aqui.')"
   ]
  },
  {
   "cell_type": "code",
   "execution_count": 37,
   "metadata": {
    "colab": {},
    "colab_type": "code",
    "id": "zSx2iM36EZQZ"
   },
   "outputs": [
    {
     "name": "stdout",
     "output_type": "stream",
     "text": [
      "Input: <start> esta es mi vida . <end>\n",
      "Predicted translation: this is my life . <end> \n"
     ]
    },
    {
     "data": {
      "image/png": "[encoded data removed]",
      "text/plain": [
       "<Figure size 720x720 with 1 Axes>"
      ]
     },
     "metadata": {
      "needs_background": "light"
     },
     "output_type": "display_data"
    }
   ],
   "source": [
    "translate(u'esta es mi vida.')"
   ]
  },
  {
   "cell_type": "code",
   "execution_count": 38,
   "metadata": {
    "colab": {},
    "colab_type": "code",
    "id": "A3LLCx3ZE0Ls"
   },
   "outputs": [
    {
     "name": "stdout",
     "output_type": "stream",
     "text": [
      "Input: <start> ¿ todavia estan en casa ? <end>\n",
      "Predicted translation: are you still home ? <end> \n"
     ]
    },
    {
     "data": {
      "image/png": "[encoded data removed]",
      "text/plain": [
       "<Figure size 720x720 with 1 Axes>"
      ]
     },
     "metadata": {
      "needs_background": "light"
     },
     "output_type": "display_data"
    }
   ],
   "source": [
    "translate(u'¿todavia estan en casa?')"
   ]
  },
  {
   "cell_type": "code",
   "execution_count": 39,
   "metadata": {
    "colab": {},
    "colab_type": "code",
    "id": "DUQVLVqUE1YW"
   },
   "outputs": [
    {
     "name": "stdout",
     "output_type": "stream",
     "text": [
      "Input: <start> trata de averiguarlo . <end>\n",
      "Predicted translation: go of us out . <end> \n"
     ]
    },
    {
     "data": {
      "image/png": "[encoded data removed]",
      "text/plain": [
       "<Figure size 720x720 with 1 Axes>"
      ]
     },
     "metadata": {
      "needs_background": "light"
     },
     "output_type": "display_data"
    }
   ],
   "source": [
    "# wrong translation\n",
    "translate(u'trata de averiguarlo.')"
   ]
  },
  {
   "cell_type": "markdown",
   "metadata": {
    "colab_type": "text",
    "id": "RTe5P5ioMJwN"
   },
   "source": [
    "## [ 과제 ] 다른 나라 언어로 각자가 실험을 한다 !!\n",
    "\n",
    "### 다음 사이트에 가면 여러나라 언어에 대한 데이터가 있다\n",
    "\n",
    "### 다른 언어 데이터로 앞에서 사용한 코드로 실험을 해본다. \n",
    "\n",
    "### (예)  English to Korean, or Korean to English\n",
    "\n",
    "\n",
    "#### 과제 데이터 얻기 : http://www.manythings.org/anki/ \n",
    "\n"
   ]
  },
  {
   "cell_type": "code",
   "execution_count": null,
   "metadata": {},
   "outputs": [],
   "source": []
  },
  {
   "cell_type": "code",
   "execution_count": null,
   "metadata": {},
   "outputs": [],
   "source": []
  },
  {
   "cell_type": "markdown",
   "metadata": {},
   "source": [
    "# ======================================="
   ]
  },
  {
   "cell_type": "code",
   "execution_count": null,
   "metadata": {},
   "outputs": [],
   "source": []
  },
  {
   "cell_type": "markdown",
   "metadata": {},
   "source": [
    "# ========================================="
   ]
  },
  {
   "cell_type": "markdown",
   "metadata": {},
   "source": [
    "\n",
    "\n"
   ]
  }
 ],
 "metadata": {
  "kernelspec": {
   "display_name": "Python 3",
   "language": "python",
   "name": "python3"
  },
  "language_info": {
   "codemirror_mode": {
    "name": "ipython",
    "version": 3
   },
   "file_extension": ".py",
   "mimetype": "text/x-python",
   "name": "python",
   "nbconvert_exporter": "python",
   "pygments_lexer": "ipython3",
   "version": "3.7.2"
  }
 },
 "nbformat": 4,
 "nbformat_minor": 2
}
