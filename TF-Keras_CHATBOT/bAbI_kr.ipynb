{
 "cells": [
  {
   "cell_type": "markdown",
   "metadata": {},
   "source": [
    "bAbI 파일을 한줄한줄 번역하는 것은 비효율적.  \n",
    "번역 API를 이용해서 번역하자.  \n",
    "구글 무료버전은 일별 사용량 제한이 있음.  \n",
    "네이버 파파고 API를 써보자\n",
    "\n",
    "https://tariat.tistory.com/383\n",
    "\n",
    "\n"
   ]
  },
  {
   "cell_type": "markdown",
   "metadata": {},
   "source": [
    "\\n, attention 등 때문에 번역 결과가 이상해지는 경우가 생긴다.  \n",
    "line별로 읽어서 돌려봐야할 듯."
   ]
  },
  {
   "cell_type": "code",
   "execution_count": 2,
   "metadata": {},
   "outputs": [
    {
     "name": "stdout",
     "output_type": "stream",
     "text": [
      "{'message': {'@type': 'response', '@service': 'naverservice.nmt.proxy', '@version': '1.0.0', 'result': {'srcLangType': 'en', 'tarLangType': 'ko', 'translatedText': '존은 복도로 여행을 갔다.\\n메리는 화장실로 여행을 갔다.\\n존은 어디에 있니? \\t복도1길\\n다니엘은 화장실로 돌아갔다.\\n존은 침실로 옮겼다.\\nMary는 어디 있니? 화장실 2', 'engineType': 'UNDEF_MULTI_SENTENCE', 'pivot': None}}}\n"
     ]
    }
   ],
   "source": [
    "import requests\n",
    "\n",
    "request_url = 'https://openapi.naver.com/v1/papago/n2mt'\n",
    "text = open('./data_babi/input/qa6_yes-no-questions_test.txt')\n",
    "\n",
    "headers = {'X-Naver-Client-Id': 'UsDUFuUQ1xxzJgL6ELXh', 'X-Naver-Client-Secret': 'GaBTqI6qDy'}\n",
    "params = {'source':'en','target':'ko','text':text}\n",
    "\n",
    "response = requests.post(request_url, headers = headers, data = params)\n",
    "result = response.json()\n",
    "print(result)"
   ]
  },
  {
   "cell_type": "code",
   "execution_count": 7,
   "metadata": {},
   "outputs": [
    {
     "data": {
      "text/plain": [
       "'존은 복도로 여행을 갔다.\\n메리는 화장실로 여행을 갔다.\\n존은 어디에 있니? \\t복도1길\\n다니엘은 화장실로 돌아갔다.\\n존은 침실로 옮겼다.\\nMary는 어디 있니? 화장실 2'"
      ]
     },
     "execution_count": 7,
     "metadata": {},
     "output_type": "execute_result"
    }
   ],
   "source": [
    "result['message']['result']['translatedText']"
   ]
  },
  {
   "cell_type": "code",
   "execution_count": null,
   "metadata": {},
   "outputs": [],
   "source": []
  }
 ],
 "metadata": {
  "kernelspec": {
   "display_name": "Python 3",
   "language": "python",
   "name": "python3"
  },
  "language_info": {
   "codemirror_mode": {
    "name": "ipython",
    "version": 3
   },
   "file_extension": ".py",
   "mimetype": "text/x-python",
   "name": "python",
   "nbconvert_exporter": "python",
   "pygments_lexer": "ipython3",
   "version": "3.7.2"
  }
 },
 "nbformat": 4,
 "nbformat_minor": 4
}
