{
 "cells": [
  {
   "cell_type": "markdown",
   "metadata": {},
   "source": [
    "# AI 융합교육 (수학교육용 데이터 수집 + 선처리 +  AI 코딩) \n",
    "\n",
    "\n",
    "<p> &nbsp;\n",
    "    \n",
    "    \n",
    "# 스마트 수학교육"
   ]
  },
  {
   "cell_type": "code",
   "execution_count": null,
   "metadata": {},
   "outputs": [],
   "source": []
  },
  {
   "cell_type": "markdown",
   "metadata": {},
   "source": [
    "# ++ 코로나 사태로 아래 5개  ipynb 실습 위주로 진행 ++\n",
    "\n",
    "<p> &nbsp;\n",
    "\n",
    "# 목표는 수학교육용 챗봇을 위한 학습데이터 수집과 조작\n",
    "\n",
    "# 이를 목표로 우선 학생들이 개별적으로 ipynb 실습을 하고, \n",
    "\n",
    "# 교실 수업에서 발표 토론을 하며 챗봇을 복습하며 설계한다. "
   ]
  },
  {
   "cell_type": "code",
   "execution_count": null,
   "metadata": {},
   "outputs": [],
   "source": []
  },
  {
   "cell_type": "markdown",
   "metadata": {},
   "source": [
    "## 목차 (Table of Contents)\n",
    "\n",
    "<p> &nbsp;\n",
    "    \n",
    "**토이 탐구실험** - 수학교육용 챗봇을 위한 기본적인 경험을 얻는 탐구실험입니다.\n",
    "\n",
    "0. [바비 토이코드](./0.Keras-Babi_MathQA.ipynb)\n",
    "\n",
    "    \n",
    "[참고 : 학부 파이썬과 Graph](./U1.Python-Graph_Game.ipynb)\n",
    "    \n",
    "[참고 : 학부 텐서플로우와 MinMax 최적화](./U2.TF-DNN_MinMax.ipynb) \n",
    "\n",
    "**자연어 처리 기본** - 텐서플로우 코딩과 딥러닝의 개념을 얻는 학습용 챕터입니다.\n",
    "\n",
    "1. [RNN CNN 덧셈AI](./1.TF-Keras_RnnAddition.ipynb)\n",
    "\n",
    "2. [데이터와 코딩](./2.TF-Keras_IrisEstimator.ipynb)\n",
    "\n",
    "\n",
    "**자연어 처리 심화** - 한글 처리와 한글 챗봇을 설계하는 학기말 과제를 위한 챕터입니다.\n",
    "\n",
    "3. [챗봇 Tools](./3.SK-Konlpy-Matplotlib.ipynb)\n",
    "\n",
    "4. [챗봇 만들기](./4.TF-NMT_CHATBOT.ipynb)\n",
    "\n",
    "\n",
    "**학기말 과제 수행** - 한글 처리와 한글 챗봇 코드를 바탕으로 학기말 과제를 수행합니다.\n",
    "    \n",
    "    \n",
    "5. [한글 CHATBOT](./5.교재한글CHATBOT.ipynb)\n",
    "\n",
    "6. [한글 Transformer](./6.교재한글Transformer.ipynb)\n",
    " \n",
    "0. [Babi CHATBOT](./0.Keras-Babi_MathQA.ipynb)\n"
   ]
  },
  {
   "cell_type": "markdown",
   "metadata": {},
   "source": [
    "\n",
    "    \n",
    "# ++++++++++++++++++++++++++++++++++++++++\n",
    "    \n",
    "<p> &nbsp;\n",
    "    \n",
    "#  다음 순서로 자연어 처리와 AI 수학교육 융합을 다룬다\n",
    "    \n",
    "<p> &nbsp;\n",
    "    \n",
    "## (강의) 교재 1,2,3장과 6장 관련된 5개의 ipynb 실습+학습 \n",
    "## (평가) Babi, RNN 덧셈, 챗봇과 어텐션 코드의 이해와 적용\n",
    "    \n",
    "#### +++\n",
    "    \n",
    "### 0.ipynb : 수학교육 활용을 위한 질문답변 Babi 챗봇 소개\n",
    "#### (평가) 0.ipynb Babi 코드의 작동 원리를 바탕으로, 1 - 2 - 3 - 4 ipynb 탐구한다.\n",
    " \n",
    "#### +++\n",
    "    \n",
    "### 1.pynb : 교재의 기본 내용을 데이터 기반의 딥러닝으로 소개\n",
    "#### (평가) 1.ipynb 는 덧셈 RNN 딥러닝을 중심으로 딥러닝 개념과 코드를 익힌다\n",
    "\n",
    "#### +++\n",
    "    \n",
    "### 2.pynb : 교재의 텐서플로우 estimator 를 iris 데이터로 소개\n",
    "\n",
    "        \n",
    "#### (발표) 중간고사 이후에 팀별 발표\n",
    "    \n",
    "#### +++\n",
    "    \n",
    "### 3.ipynb : 교재의 한글 자연어 처리법과 데이터 분석을 소개¶\n",
    "    \n",
    "#### (발표) 중간고사 이후에 팀별 발표\n",
    "    \n",
    "#### +++\n",
    "    \n",
    "### 4.ipynb : 수학교육 활용을 위한 질문답변 한글 챗봇 소개\n",
    "#### (평가) 한글 챗봇과 어텐션 학습후, 0.ipynb 4.ipynb 5 와 6 ipynb 기반으로 과제를 구상 ! \n",
    " \n",
    "#### +++\n",
    "<p> &nbsp;    \n",
    "    \n",
    "## (5월 중간고사) 먼저 학습한 것에 대한 openbook 필기시험\n",
    "### 평가목표 : 딥러닝 작동 원리와 데이터 선처리 방법을 설명할 수 있다\n",
    "### Babi, RNN 덧셈, 그리고 챗봇 코드와 어텐션 코드 등의 작동원리 설명 \n",
    "    \n",
    "<p> &nbsp;    \n",
    "    \n",
    "## (다음) 팀별로 교재 4장, 5장, 6장의 ipynb 를 기반으로 발료\n",
    "### 주안점 : 자연어 처리의 문제에 대한 데이터 수집과 분석 방법\n",
    "### 수학교육 챗봇 및 텐서플로우 2.0 버젼으로의 변환을 목표로 !\n",
    "    \n",
    "<p> &nbsp;    \n",
    "    \n",
    "## (6월 학기말 과제) 자연어처리와 수학교육 융합에 대한 학기말 과제\n",
    "### 평가목표 : 학습데이터를 수집하여 수학교육 관련 챗봇을 설계한다 \n",
    "    \n",
    "<p> &nbsp;\n",
    "    \n"
   ]
  },
  {
   "cell_type": "code",
   "execution_count": null,
   "metadata": {},
   "outputs": [],
   "source": []
  },
  {
   "cell_type": "markdown",
   "metadata": {},
   "source": [
    "\n",
    "\n",
    "\n",
    "\n",
    "# +++++++ AI 와 수학교육의 예 +++++++\n",
    "\n",
    "\n",
    "#  인공지능  덧셈 학습과 인간의 덧셈 학습\n",
    "\n",
    "\n",
    "## 초등생의 덧셈 학습과 유사한점 다른점은 무엇 ??\n",
    "\n",
    "## 인공지능의 학습과 인간의 학습의 상호 연관성 ??\n",
    "\n",
    "# ++++++++++++++++++++++++++++++\n",
    "\n",
    "\n",
    "## 언라인 서치로 인공지능과 수학교육을 찾아본다\n",
    "\n",
    "예를 들어, 디렉리에 들어있는 논문을 보고 비슷한 것을 찾아본다\n",
    "\n",
    "그런 연구를 하는 곳을 찾아본다 : 예 https://ariannayuan.github.io/\n",
    "\n"
   ]
  },
  {
   "cell_type": "code",
   "execution_count": null,
   "metadata": {},
   "outputs": [],
   "source": []
  },
  {
   "cell_type": "code",
   "execution_count": null,
   "metadata": {},
   "outputs": [],
   "source": []
  },
  {
   "cell_type": "markdown",
   "metadata": {},
   "source": [
    "# 먼저 사용할 데이터와 tensorflow 사용법을 익히자\n",
    "\n",
    "\n",
    "# (목표) AI  코드를 설명하고 데이터를 조작할 수 있다 "
   ]
  },
  {
   "cell_type": "markdown",
   "metadata": {},
   "source": [
    "<p> &nbsp;\n",
    "\n",
    "# ++++++++++++++++++++++++++++++\n",
    "\n",
    "#  Data 기반 텐서플로우 사용법 (1)  (2) (3) (4) (5) 실습\n",
    "\n",
    "### (1)  Numpy 텐서플로우 XOR 뉴럴네트워크 익히기\n",
    "\n",
    "### (2) 텐서플로우 CNN 신경망 (mnist 데이터)\n",
    "    \n",
    "### (3) 케라스를 활용한 자연어처리 익히기 (한글 챗봇 데이터) \n",
    "\n",
    "### (4) 아기 Baby RNN 익히기\n",
    "    \n",
    "### (5) RNN+CNN 텍스트 분석 익히기(imdb 데이터)\n",
    "    \n",
    "# ++++++++++++++++++++++++++++++\n",
    "\n",
    "<p> &nbsp;\n",
    "\n",
    "\n",
    "동영상 자료 :\n",
    "    \n",
    "https://www.youtube.com/playlist?list=PLZbbT5o_s2xq7LwI2y8_QtvuXZedL6tQU\n",
    "    \n",
    "    \n",
    "https://end-to-end-machine-learning.teachable.com/courses/how-deep-neural-networks-work/lectures/9485279"
   ]
  },
  {
   "cell_type": "code",
   "execution_count": null,
   "metadata": {},
   "outputs": [],
   "source": []
  },
  {
   "cell_type": "markdown",
   "metadata": {},
   "source": [
    "\n",
    "# (1)  Numpy 텐서플로우 XOR 뉴럴네트워크 \n",
    "    \n",
    "<p> &nbsp;\n",
    "\n",
    "\n",
    "## XOR 문제 : 1969년 패펄트와 민스키\n",
    "\n",
    "### 이 문제가 일으킨 인공지능 겨울과 거북이 LOGO 언어\n",
    "\n",
    "\n",
    "\n",
    "<p> &nbsp;"
   ]
  },
  {
   "cell_type": "markdown",
   "metadata": {},
   "source": [
    "# ++++++++++++++++++++++++++++++++++\n",
    "\n",
    "\n",
    "<p> &nbsp;\n",
    "    \n",
    "# numpy 행렬 만들기와 텐서플로우 그래프와 변수\n",
    "\n",
    "<p> &nbsp;\n",
    "    \n",
    "### 참고자료 :  https://medium.com/ai-india/hello-world-tensorflow-6ce3f5bcbb6b\n",
    "\n",
    "<p> 텐서플로우는 그래프 위에 변수를 연결하고 나중에 sess.run 시킨다\n",
    "\n"
   ]
  },
  {
   "cell_type": "markdown",
   "metadata": {},
   "source": [
    "\n",
    "<p> &nbsp;\n",
    "    \n",
    "    \n",
    "### placeholder\n",
    "\n",
    "생성될 때 값을 가지지 않고, 자리(place)를 유지(hold)하는 개념입니다. 함수 f(x)의 x\n",
    "\n",
    "placeholder(\n",
    "    dtype,\n",
    "    shape=None,\n",
    "    name=None\n",
    ")\n",
    "\n",
    "dtype : 데이터 타입을 의미하며 반드시 적어주어야 한다.\n",
    "\n",
    "shape : 입력 데이터의 형태를 의미한다. 상수 값이 될 수도 있고 다차원 배열의 정보가 들어올 수도 있다. \n",
    "( 디폴트 파라미터로 None 지정 )\n",
    "\n",
    "name : 해당 placeholder의 이름을 부여하는 것으로 적지 않아도 된다.  ( 디폴트 파라미터로 None 지정 )\n",
    "\n",
    "### variable\n",
    "\n",
    "생성될때 값을 갖는 상수와 같은 것 (일차함수 ax+b 의  기울기 및 절편과 같은 것)\n",
    "\n",
    "### constant \n",
    "\n",
    "콘스탄트 (잔짜 상수)"
   ]
  },
  {
   "cell_type": "code",
   "execution_count": 1,
   "metadata": {},
   "outputs": [],
   "source": [
    "import numpy as np\n",
    "\n",
    "import tensorflow.compat.v1 as tf\n"
   ]
  },
  {
   "cell_type": "code",
   "execution_count": 2,
   "metadata": {},
   "outputs": [
    {
     "name": "stdout",
     "output_type": "stream",
     "text": [
      "[[1. 1.]]\n",
      "tf.Tensor([[1. 1.]], shape=(1, 2), dtype=float32)\n",
      "(4, 1)\n",
      "(1, 4) ===:=== (4, 2)\n",
      "tf.Tensor(42, shape=(), dtype=int32)\n"
     ]
    }
   ],
   "source": [
    "\n",
    "x_data = np.array([[0, 0],\n",
    "                  [0, 1],\n",
    "                  [1, 0],\n",
    "                  [1, 1]], dtype=np.float32)\n",
    "y_data = np.array([[0],\n",
    "                  [0],\n",
    "                  [0],\n",
    "                  [1]], dtype=np.float32)\n",
    "\n",
    "\n",
    "\n",
    "print( y_data.T.dot( x_data   ))\n",
    "\n",
    "print( tf.matmul(  y_data.T , x_data )  )\n",
    "\n",
    "print( y_data.shape )\n",
    "\n",
    "print( y_data.T.shape , '===:===' , x_data.shape )\n",
    "\n",
    "\n",
    "a = tf.constant(10)\n",
    "b = tf.constant(32)\n",
    "# print(sess.run(a+b))\n",
    "print( a+ b )"
   ]
  },
  {
   "cell_type": "markdown",
   "metadata": {},
   "source": [
    "    [[1. 1.]]\n",
    "    tf.Tensor([[1. 1.]], shape=(1, 2), dtype=float32)\n",
    "    (4, 1)\n",
    "    (1, 4) ===:=== (4, 2)\n",
    "    tf.Tensor(42, shape=(), dtype=int32)"
   ]
  },
  {
   "cell_type": "markdown",
   "metadata": {},
   "source": [
    "## Kernel 메뉴의 restart 하면 새로 시작 "
   ]
  },
  {
   "cell_type": "code",
   "execution_count": 3,
   "metadata": {},
   "outputs": [
    {
     "name": "stdout",
     "output_type": "stream",
     "text": [
      "Tensor(\"add:0\", shape=(), dtype=int32)\n"
     ]
    }
   ],
   "source": [
    "\n",
    "tf.disable_eager_execution()\n",
    "############################\n",
    "\n",
    "c = tf.constant(10)\n",
    "d = tf.constant(32)\n",
    "# print(sess.run(a+b))\n",
    "print( c+d  )"
   ]
  },
  {
   "cell_type": "markdown",
   "metadata": {},
   "source": [
    "## tf.disable_eager_execution() 하면 sess로 run"
   ]
  },
  {
   "cell_type": "code",
   "execution_count": 4,
   "metadata": {},
   "outputs": [
    {
     "name": "stdout",
     "output_type": "stream",
     "text": [
      "b'Hello, TensorFlow!'\n",
      "Tensor(\"Const_2:0\", shape=(), dtype=string)\n",
      "42\n",
      "Tensor(\"add_2:0\", shape=(), dtype=int32)\n",
      "[[1. 1.]]\n",
      "Tensor(\"MatMul_1:0\", shape=(1, 2), dtype=float32)\n"
     ]
    }
   ],
   "source": [
    "\n",
    "tf.disable_eager_execution()\n",
    "\n",
    "###################################\n",
    "# initialize the variables\n",
    "# init = tf.global_variables_initializer()\n",
    "# sess.run(init)\n",
    "####################################\n",
    "\n",
    "\n",
    "hello = tf.constant('Hello, TensorFlow!')\n",
    "\n",
    "e = tf.constant(10)\n",
    "f = tf.constant(32)\n",
    "\n",
    "sess = tf.Session()\n",
    "###################\n",
    "\n",
    "\n",
    "print(  sess.run(hello)  )\n",
    "print(  hello )\n",
    "\n",
    "print( sess.run( e+f))\n",
    "print( e+f )\n",
    "\n",
    "print( sess.run( tf.matmul(  y_data.T , x_data ) )  )\n",
    "print( tf.matmul(  y_data.T , x_data ) )\n"
   ]
  },
  {
   "cell_type": "code",
   "execution_count": 6,
   "metadata": {},
   "outputs": [
    {
     "name": "stdout",
     "output_type": "stream",
     "text": [
      "42\n",
      "Tensor(\"add_6:0\", shape=(), dtype=int32)\n"
     ]
    }
   ],
   "source": [
    "A = tf.constant(10)\n",
    "B = tf.constant(32)\n",
    "print(sess.run(A+B))\n",
    "print( A+ B )"
   ]
  },
  {
   "cell_type": "markdown",
   "metadata": {},
   "source": [
    "### 텐서플로우 그래프를 먼저 만들고 sess.run"
   ]
  },
  {
   "cell_type": "code",
   "execution_count": 10,
   "metadata": {},
   "outputs": [],
   "source": [
    "tf.disable_eager_execution()\n",
    "# 텐서플로우 2.0 을 1.* 버젼으로 \n",
    "# 텐서플로우 2.0 이상에는 없다는 뜻\n",
    "\n",
    "X = tf.placeholder(tf.float32, [None, 2], name='x-input')\n",
    "\n",
    "Y = tf.placeholder(tf.float32, [None, 1], name='y-input')"
   ]
  },
  {
   "cell_type": "code",
   "execution_count": 11,
   "metadata": {},
   "outputs": [
    {
     "name": "stdout",
     "output_type": "stream",
     "text": [
      "Tensor(\"Sigmoid_1:0\", shape=(None, 1), dtype=float32)\n"
     ]
    }
   ],
   "source": [
    "W = tf.Variable(tf.random_normal([2, 1]), name='weight')\n",
    "b = tf.Variable(tf.random_normal([1]), name='bias')\n",
    "\n",
    "hypothesis = tf.sigmoid(tf.matmul(X, W) + b)\n",
    "\n",
    "print( hypothesis)"
   ]
  },
  {
   "cell_type": "code",
   "execution_count": 12,
   "metadata": {},
   "outputs": [],
   "source": [
    "# cost/loss function\n",
    "cost = -tf.reduce_mean(Y * tf.log(hypothesis) + (1 - Y) * tf.log(1 - hypothesis))\n",
    "train = tf.train.GradientDescentOptimizer(learning_rate=0.1).minimize(cost)"
   ]
  },
  {
   "cell_type": "code",
   "execution_count": 13,
   "metadata": {},
   "outputs": [],
   "source": [
    "# Accuracy computation\n",
    "# True if hypothesis>0.5 else False\n",
    "predicted = tf.cast(hypothesis > 0.5, dtype=tf.float32)\n",
    "accuracy = tf.reduce_mean(tf.cast(tf.equal(predicted, Y), dtype=tf.float32))"
   ]
  },
  {
   "cell_type": "markdown",
   "metadata": {},
   "source": [
    "## 텐서플로우 sess.run 시키는 다음 코드를 설명하자\n",
    "\n",
    "### 인터넷 자료를 참고해서, tensorflow 1.* 의 sess.run 이해하자"
   ]
  },
  {
   "cell_type": "code",
   "execution_count": 15,
   "metadata": {},
   "outputs": [
    {
     "name": "stdout",
     "output_type": "stream",
     "text": [
      "0  ==>  0.9565638 [[0.81115395]\n",
      " [2.1068997 ]]\n",
      "100  ==>  0.35035843 [[0.79407674]\n",
      " [1.5368994 ]]\n",
      "200  ==>  0.29053283 [[1.2947081]\n",
      " [1.7493114]]\n",
      "\n",
      "Hypothesis:  [[0.06892454]\n",
      " [0.29859096]\n",
      " [0.21271788]\n",
      " [0.6084238 ]] \n",
      "Correct:  [[0.]\n",
      " [0.]\n",
      " [0.]\n",
      " [1.]] \n",
      "Accuracy:  1.0\n"
     ]
    }
   ],
   "source": [
    "# initialize the variables\n",
    "init = tf.global_variables_initializer()\n",
    "\n",
    "\n",
    "# Launch graph\n",
    "with tf.Session() as sess:\n",
    "    \n",
    "    # Initialize TensorFlow variables\n",
    "    sess.run( init )\n",
    "\n",
    "    for step in range(201):\n",
    "        sess.run(train, feed_dict={X: x_data, Y: y_data})\n",
    "        \n",
    "        if step % 100 == 0:\n",
    "            print(step, ' ==> ', sess.run(cost, feed_dict={X: x_data, Y: y_data}), sess.run(W))\n",
    "\n",
    "    # Accuracy report\n",
    "    h, c, a = sess.run([hypothesis, predicted, accuracy], feed_dict={X: x_data, Y: y_data})\n",
    "    print(\"\\nHypothesis: \", h, \"\\nCorrect: \", c, \"\\nAccuracy: \", a)\n",
    "    "
   ]
  },
  {
   "cell_type": "markdown",
   "metadata": {},
   "source": [
    "# 텐서플로우 실험 "
   ]
  },
  {
   "cell_type": "code",
   "execution_count": 24,
   "metadata": {},
   "outputs": [],
   "source": [
    "import tensorflow.compat.v1 as tf\n",
    "tf.disable_eager_execution()\n",
    "\n",
    "\n",
    "import numpy as np\n"
   ]
  },
  {
   "cell_type": "code",
   "execution_count": 25,
   "metadata": {},
   "outputs": [
    {
     "name": "stdout",
     "output_type": "stream",
     "text": [
      "(3, 2)\n"
     ]
    }
   ],
   "source": [
    "\n",
    "# input data\n",
    "X0_data = np.array([\n",
    "# steps   1st     2nd       3rd\n",
    "        [1, 2], [3, 4], [5, 6]  # first batch\n",
    "\n",
    "]) # shape: [batch_size, n_steps, n_inputs]\n",
    "\n",
    "\n",
    "# input data\n",
    "X1_data = np.array([\n",
    "# steps   1st     2nd       3rd\n",
    "       \n",
    "        [7, 8], [9, 10], [11, 12] # second batch\n",
    "       \n",
    "]) # shape: [batch_size, n_steps, n_inputs]\n",
    "\n",
    "\n",
    "# input data\n",
    "X2_data = np.array([\n",
    "# steps   1st     2nd       3rd\n",
    "     \n",
    "        [13, 14], [15, 16], [17, 18]  # third batch\n",
    "]) # shape: [batch_size, n_steps, n_inputs]\n",
    "\n",
    "print( X0_data.shape )"
   ]
  },
  {
   "cell_type": "code",
   "execution_count": 26,
   "metadata": {},
   "outputs": [],
   "source": [
    "#tf.reset_default_graph()\n",
    "########################\n",
    "# placeholder 등 그래프 리셋\n",
    "\n",
    "\n",
    "\n",
    "\n",
    "# hyparameters\n",
    "n_neurons = 8\n",
    "\n",
    "# parameters\n",
    "n_inputs = 2\n",
    "\n",
    "# build a sequence to sequence rnn model\n",
    "X0 = tf.placeholder(tf.float32, [None, n_inputs]) \n",
    "# shape = [batch_size, n_inputs]\n",
    "X1 = tf.placeholder(tf.float32, [None, n_inputs])\n",
    "X2 = tf.placeholder(tf.float32, [None, n_inputs])\n",
    "\n",
    "Wx = tf.Variable(tf.random_normal([n_inputs, n_neurons]))\n",
    "b = tf.Variable(tf.zeros([1, n_neurons]))\n",
    "Wy = tf.Variable(tf.random_normal([n_neurons, n_neurons]))\n",
    "\n",
    "y0 = tf.tanh(tf.matmul(X0, Wx) + b) # shape: [batch_size, n_neurons]\n",
    "y1 = tf.tanh(tf.matmul(y0, Wy) + tf.matmul(X1, Wx) + b)\n",
    "y2 = tf.tanh(tf.matmul(y1, Wy) + tf.matmul(X2, Wx) + b) \n",
    "\n",
    "output0 = tf.layers.dense(y0, 1) # shape: [batch_size, 1]\n",
    "output1 = tf.layers.dense(y1, 1)\n",
    "output2 = tf.layers.dense(y2, 1)"
   ]
  },
  {
   "cell_type": "code",
   "execution_count": 27,
   "metadata": {},
   "outputs": [
    {
     "name": "stdout",
     "output_type": "stream",
     "text": [
      "(None, 2) (2, 8)\n"
     ]
    }
   ],
   "source": [
    "init = tf.global_variables_initializer()\n",
    "\n",
    "sess = tf.Session()\n",
    "sess.run(init)\n",
    "\n",
    "print( X0.shape , sess.run( Wx ).shape )\n",
    "  \n",
    "# error ==> print( sess.run(y0) )\n",
    "\n",
    "\n",
    "sess.close()"
   ]
  },
  {
   "cell_type": "code",
   "execution_count": 28,
   "metadata": {},
   "outputs": [
    {
     "name": "stdout",
     "output_type": "stream",
     "text": [
      "[[-1.1033518   1.894466    0.21723342 -0.2838638  -0.26799393  0.1850022\n",
      "   1.4340408  -0.16215995]\n",
      " [ 2.3059587  -1.5268459   1.089537    0.6380484   0.7431295   0.22632456\n",
      "  -1.20283    -0.99043286]]\n",
      "[[0. 0. 0. 0. 0. 0. 0. 0.]]\n",
      "input0: [1 2] input1: [7 8] input2: [13 14] -> output0: [1.6219375] output1: [1.9967858] output2: [-2.2114635]\n",
      "input0: [3 4] input1: [ 9 10] input2: [15 16] -> output0: [1.9489138] output1: [2.0550857] output2: [-2.4629643]\n",
      "input0: [5 6] input1: [11 12] input2: [17 18] -> output0: [2.2113154] output1: [2.1107101] output2: [-2.795022]\n"
     ]
    }
   ],
   "source": [
    "\n",
    "\n",
    "# initialize the variables\n",
    "init = tf.global_variables_initializer()\n",
    "\n",
    "# train\n",
    "with tf.Session() as sess:\n",
    "    sess.run(init)\n",
    "    print( sess.run(Wx) )\n",
    "    print( sess.run(b) )\n",
    "    \n",
    "    eval = sess.run(output0, feed_dict={X0: X0_data, X1: X1_data, X2:X2_data})\n",
    "    output1_eval = sess.run(output1, feed_dict={X0: X0_data, X1: X1_data, X2:X2_data})\n",
    "    output2_eval = sess.run(output2, feed_dict={X0: X0_data, X1: X1_data, X2:X2_data})\n",
    "    \n",
    "    print('input0: {} input1: {} input2: {} -> output0: {} output1: {} output2: {}'.format(\n",
    "        X0_data[0], X1_data[0], X2_data[0], output0_eval[0], output1_eval[0], output2_eval[0]))\n",
    "    \n",
    "    print('input0: {} input1: {} input2: {} -> output0: {} output1: {} output2: {}'.format(\n",
    "        X0_data[1], X1_data[1], X2_data[1], output0_eval[1], output1_eval[1], output2_eval[1]))\n",
    "    \n",
    "    print('input0: {} input1: {} input2: {} -> output0: {} output1: {} output2: {}'.format(\n",
    "        X0_data[2], X1_data[2], X2_data[2], output0_eval[2], output1_eval[2], output2_eval[2]))"
   ]
  },
  {
   "cell_type": "code",
   "execution_count": null,
   "metadata": {},
   "outputs": [],
   "source": []
  },
  {
   "cell_type": "markdown",
   "metadata": {},
   "source": [
    "<p> &nbsp;\n",
    "    \n",
    "# +++++++++++++++++++++++++++++++++\n",
    "\n",
    "# +++++++++++++++++++++++++++++++++\n",
    "<p>\n",
    "\n",
    "# (2) 텐서플로우 CNN 신경망 (mnist 데이터) \n",
    "\n",
    "<p> &nbsp;"
   ]
  },
  {
   "cell_type": "markdown",
   "metadata": {},
   "source": [
    "![title](images/mnistcnn.png)"
   ]
  },
  {
   "cell_type": "markdown",
   "metadata": {},
   "source": [
    "![title](images/mnistcnnani.png)"
   ]
  },
  {
   "cell_type": "code",
   "execution_count": 1,
   "metadata": {},
   "outputs": [],
   "source": [
    "import tensorflow.compat.v1 as tf\n",
    "tf.disable_eager_execution()\n",
    "\n",
    "\n",
    "import numpy as np\n"
   ]
  },
  {
   "cell_type": "markdown",
   "metadata": {},
   "source": [
    "It is very likely that the images in tensorflow.examples.tutorials.mnist have been normalized to the range [0, 1] and therefore you obtain better results. Whereas, the values in MNIST dataset in Keras are in the range [0, 255] and you are expected to normalize them (if needed, of course). Try this:\n",
    "\n",
    "To use this with Keras, we make a dataset out of elements of the form (input batch, output batch). From there, we create a one-shot iterator and a graph node corresponding to its get_next() method. Its components are then provided to the network's Input layer and the Model.compile() method, respectively."
   ]
  },
  {
   "cell_type": "markdown",
   "metadata": {},
   "source": [
    "## 데이터 학습을 위한 공개 데이터\n",
    "\n",
    "#### 1. data_in 디렉토리에 iris 데이터를 넣고 pandas 로  불러오기\n",
    "#### 2. from sklearn.datasets import load_iris 로 불러오기\n",
    "#### 3. import tensorflow_datasets as tfds  해서 tfds.load 사용\n",
    "#### 4. from keras.datasets import mnist, cifar10, reuters, imdb 등\n"
   ]
  },
  {
   "cell_type": "code",
   "execution_count": 2,
   "metadata": {},
   "outputs": [
    {
     "name": "stdout",
     "output_type": "stream",
     "text": [
      "[  0   0   0   0   0   0   0   0   0   0   0   0   0   0  45 186 253 253\n",
      " 150  27   0   0   0   0   0   0   0   0]\n",
      "[0.         0.         0.         0.         0.         0.\n",
      " 0.         0.         0.         0.         0.         0.\n",
      " 0.         0.         0.1764706  0.7294118  0.99215686 0.99215686\n",
      " 0.5882353  0.10588235 0.         0.         0.         0.\n",
      " 0.         0.         0.         0.        ]\n",
      "5\n",
      "[[0.         0.         0.         0.         0.         0.\n",
      "  0.         0.         0.         0.         0.         0.\n",
      "  0.         0.         0.1764706  0.7294118  0.99215686 0.99215686\n",
      "  0.5882353  0.10588235 0.         0.         0.         0.\n",
      "  0.         0.         0.         0.        ]]\n",
      "Tensor(\"strided_slice:0\", shape=(10,), dtype=float32)\n"
     ]
    }
   ],
   "source": [
    "batch_size = 128\n",
    "buffer_size = 10000\n",
    "steps_per_epoch = int(np.ceil(60000 / float(batch_size)))  # = 469\n",
    "epochs = 3 # 5\n",
    "num_classes = 10\n",
    "\n",
    "\n",
    "data_train, data_test = tf.keras.datasets.mnist.load_data(path='mnist.npz')\n",
    "\n",
    "# Parse images and labels\n",
    "(images_train, labels_train) = data_train\n",
    "(images_test, labels_test) = data_test\n",
    "print( images_train[0][15] )\n",
    "images_train = images_train.astype( np.float32 ) / 255.0\n",
    "# (60000, 28, 28)\n",
    "print( images_train[0][15] )\n",
    "print( labels_train[0] )\n",
    "\n",
    "images_train = np.expand_dims(images_train, -1)\n",
    "labels_train = tf.one_hot(labels_train, num_classes )\n",
    "\n",
    "print( images_train[0][15].T )\n",
    "print( labels_train[0] )"
   ]
  },
  {
   "cell_type": "code",
   "execution_count": 3,
   "metadata": {},
   "outputs": [
    {
     "name": "stdout",
     "output_type": "stream",
     "text": [
      "<DatasetV1Adapter shapes: ((28, 28, 1), (10,)), types: (tf.float32, tf.float32)>\n",
      "WARNING:tensorflow:From <ipython-input-3-84f7ea866814>:9: DatasetV1.make_one_shot_iterator (from tensorflow.python.data.ops.dataset_ops) is deprecated and will be removed in a future version.\n",
      "Instructions for updating:\n",
      "Use `for ... in dataset:` to iterate over a dataset. If using `tf.estimator`, return the `Dataset` object directly from your input function. As a last resort, you can use `tf.compat.v1.data.make_one_shot_iterator(dataset)`.\n",
      "(None, 28, 28, 1)\n",
      "Tensor(\"IteratorGetNext:1\", shape=(None, 10), dtype=float32)\n"
     ]
    }
   ],
   "source": [
    "dataset = tf.data.Dataset.from_tensor_slices((images_train, labels_train))\n",
    "\n",
    "print( dataset ) \n",
    "\n",
    "dataset = dataset.repeat()\n",
    "dataset = dataset.shuffle(buffer_size)\n",
    "dataset = dataset.batch(batch_size)\n",
    "\n",
    "iterator = dataset.make_one_shot_iterator()\n",
    "\n",
    "# Model creation using tensors from the get_next() graph node.\n",
    "\n",
    "inputs, targets = iterator.get_next()\n",
    "\n",
    "print( inputs.shape )\n",
    "print( targets )"
   ]
  },
  {
   "cell_type": "code",
   "execution_count": 4,
   "metadata": {},
   "outputs": [
    {
     "name": "stderr",
     "output_type": "stream",
     "text": [
      "Using TensorFlow backend.\n"
     ]
    },
    {
     "name": "stdout",
     "output_type": "stream",
     "text": [
      "WARNING:tensorflow:From C:\\WinPython37F\\python-3.7.2.amd64\\lib\\site-packages\\tensorflow_core\\python\\ops\\resource_variable_ops.py:1630: calling BaseResourceVariable.__init__ (from tensorflow.python.ops.resource_variable_ops) with constraint is deprecated and will be removed in a future version.\n",
      "Instructions for updating:\n",
      "If using Keras pass *_constraint arguments to layers.\n",
      "Model: \"model_1\"\n",
      "_________________________________________________________________\n",
      "Layer (type)                 Output Shape              Param #   \n",
      "=================================================================\n",
      "input_1 (InputLayer)         (None, 28, 28, 1)         0         \n",
      "_________________________________________________________________\n",
      "conv2d_1 (Conv2D)            (None, 26, 26, 32)        320       \n",
      "_________________________________________________________________\n",
      "max_pooling2d_1 (MaxPooling2 (None, 13, 13, 32)        0         \n",
      "_________________________________________________________________\n",
      "conv2d_2 (Conv2D)            (None, 11, 11, 64)        18496     \n",
      "_________________________________________________________________\n",
      "max_pooling2d_2 (MaxPooling2 (None, 5, 5, 64)          0         \n",
      "_________________________________________________________________\n",
      "flatten_1 (Flatten)          (None, 1600)              0         \n",
      "_________________________________________________________________\n",
      "dense_1 (Dense)              (None, 512)               819712    \n",
      "_________________________________________________________________\n",
      "dropout_1 (Dropout)          (None, 512)               0         \n",
      "_________________________________________________________________\n",
      "x_train_out (Dense)          (None, 10)                5130      \n",
      "=================================================================\n",
      "Total params: 843,658\n",
      "Trainable params: 843,658\n",
      "Non-trainable params: 0\n",
      "_________________________________________________________________\n"
     ]
    }
   ],
   "source": [
    "import numpy as np\n",
    "\n",
    "\n",
    "import keras\n",
    "from keras import backend as K\n",
    "from keras import layers\n",
    "\n",
    "\n",
    "def cnn_layers(inputs):\n",
    "    x = layers.Conv2D(32, (3, 3),\n",
    "                      activation='relu', padding='valid')(inputs)\n",
    "    x = layers.MaxPooling2D(pool_size=(2, 2))(x)\n",
    "    x = layers.Conv2D(64, (3, 3), activation='relu')(x)\n",
    "    x = layers.MaxPooling2D(pool_size=(2, 2))(x)\n",
    "    x = layers.Flatten()(x)\n",
    "    x = layers.Dense(512, activation='relu')(x)\n",
    "    x = layers.Dropout(0.5)(x)\n",
    "    predictions = layers.Dense(num_classes,\n",
    "                               activation='softmax',\n",
    "                               name='x_train_out')(x)\n",
    "    return predictions\n",
    "\n",
    "\n",
    "\n",
    "model_input = layers.Input(tensor=inputs)\n",
    "\n",
    "model_output = cnn_layers(model_input)\n",
    "######################################\n",
    "\n",
    "train_model = keras.models.Model(inputs=model_input, outputs=model_output)\n",
    "\n",
    "train_model.compile(optimizer=keras.optimizers.RMSprop(lr=2e-3, decay=1e-5),\n",
    "                    loss='categorical_crossentropy',\n",
    "                    metrics=['accuracy'],\n",
    "                    target_tensors=[targets])\n",
    "\n",
    "\n",
    "train_model.summary()\n",
    "\n"
   ]
  },
  {
   "cell_type": "code",
   "execution_count": 5,
   "metadata": {},
   "outputs": [
    {
     "name": "stdout",
     "output_type": "stream",
     "text": [
      "Epoch 1/3\n",
      "469/469 [==============================] - 49s 105ms/step - loss: 0.1588 - accuracy: 0.9512\n",
      "Epoch 2/3\n",
      "469/469 [==============================] - 46s 97ms/step - loss: 0.0511 - accuracy: 0.98480s - loss: 0.0511 - accuracy\n",
      "Epoch 3/3\n",
      "469/469 [==============================] - 46s 98ms/step - loss: 0.0369 - accuracy: 0.9885\n"
     ]
    }
   ],
   "source": [
    "\n",
    "\n",
    "train_model.fit(epochs=epochs,\n",
    "                steps_per_epoch=steps_per_epoch)\n",
    "\n",
    "# Save the model weights.\n",
    "\n",
    "weight_path = './data_out/mnist_wt.h5'\n",
    "train_model.save_weights(weight_path)\n"
   ]
  },
  {
   "cell_type": "markdown",
   "metadata": {},
   "source": [
    "    Epoch 1/3\n",
    "    469/469 [==============================] - 49s 105ms/step - loss: 0.1588 - accuracy: 0.9512\n",
    "    Epoch 2/3\n",
    "    469/469 [==============================] - 46s 97ms/step - loss: 0.0511 - accuracy: 0.98480s - loss: 0.0511 - accuracy\n",
    "    Epoch 3/3\n",
    "    469/469 [==============================] - 46s 98ms/step - loss: 0.0369 - accuracy: 0.9885"
   ]
  },
  {
   "cell_type": "markdown",
   "metadata": {},
   "source": [
    "### Attempting to reset tensorflow graph \n",
    "\n",
    "    tf.reset_default_graph()\n",
    "\n",
    "    with tf.Session() as sess:\n",
    "        print( sess.run(...) )\n",
    "    \n",
    "    \n",
    "### when using keras\n",
    "\n",
    "    from keras import backend as K\n",
    "    K.clear_session()"
   ]
  },
  {
   "cell_type": "code",
   "execution_count": 6,
   "metadata": {},
   "outputs": [
    {
     "name": "stdout",
     "output_type": "stream",
     "text": [
      "10000/10000 [==============================] - 3s 330us/step\n",
      "\n",
      "Test accuracy: 0.9850999712944031\n"
     ]
    }
   ],
   "source": [
    "\n",
    "# Clean up the TF session.\n",
    "K.clear_session()\n",
    "\n",
    "# Second session to test loading trained model without tensors.\n",
    "#(images_test, labels_test) = data_test\n",
    "\n",
    "images_test = images_test.astype(np.float32)\n",
    "images_test = np.expand_dims(images_test, -1)\n",
    "\n",
    "images_test_inp = layers.Input(shape=images_test.shape[1:])\n",
    "\n",
    "labels_out = cnn_layers(images_test_inp)\n",
    "########################################\n",
    "\n",
    "test_model = keras.models.Model(inputs=images_test_inp, outputs=labels_out)\n",
    "\n",
    "test_model.load_weights(weight_path)\n",
    "#####################################\n",
    "\n",
    "test_model.compile(optimizer='rmsprop',\n",
    "                   loss='sparse_categorical_crossentropy',\n",
    "                   metrics=['accuracy'])\n",
    "\n",
    "# test_model.summary()\n",
    "\n",
    "#(images_test, labels_test) = data_test\n",
    "loss, acc = test_model.evaluate(images_test, labels_test, num_classes)\n",
    "\n",
    "print('\\nTest accuracy: {0}'.format(acc))"
   ]
  },
  {
   "cell_type": "markdown",
   "metadata": {},
   "source": [
    "10000/10000 [==============================] - 3s 330us/step\n",
    "\n",
    "\n",
    "Test accuracy: 0.9850999712944031"
   ]
  },
  {
   "cell_type": "markdown",
   "metadata": {},
   "source": [
    "# +++++++++++++++++++++++++++++++++\n",
    "\n",
    "<p> &nbsp;\n",
    "    \n",
    "# +++++++++++++++++++++++++++++++++\n",
    "    \n",
    "<p> &nbsp;\n",
    "\n",
    "# (3) 텐서플로우 케라스를 활용한 자연어 처리 "
   ]
  },
  {
   "cell_type": "code",
   "execution_count": 1,
   "metadata": {},
   "outputs": [],
   "source": [
    "import tensorflow.compat.v1 as tf\n",
    "\n",
    "from tensorflow.keras import preprocessing\n",
    "\n",
    "example = 'This is a short sentence (1) with one reference to an image. This next sentence, while non-sensical, does not have an image and has two commas.'\n"
   ]
  },
  {
   "cell_type": "code",
   "execution_count": 2,
   "metadata": {},
   "outputs": [
    {
     "name": "stdout",
     "output_type": "stream",
     "text": [
      "[1, 5, 6, 7, 2, 8, 9, 10, 11, 12, 3, 4, 1, 13, 2, 14, 15, 16, 17, 18, 19, 3, 4, 20, 21, 22, 23]\n"
     ]
    },
    {
     "data": {
      "text/plain": [
       "'this is a short sentence 1 with one reference to an image this next sentence while non sensical does not have an image and has two commas'"
      ]
     },
     "execution_count": 2,
     "metadata": {},
     "output_type": "execute_result"
    }
   ],
   "source": [
    "\n",
    "tokenizer = preprocessing.text.Tokenizer(filters='!\"#$%&()*+,-./:;<=>?@[\\\\]^_`{|}~\\t\\n')\n",
    "\n",
    "tokenizer.fit_on_texts([example])\n",
    "\n",
    "s = tokenizer.texts_to_sequences([example])[0]\n",
    "##############################################\n",
    "\n",
    "print(s)\n",
    "\n",
    "' '.join(tokenizer.index_word[i] for i in s)"
   ]
  },
  {
   "cell_type": "markdown",
   "metadata": {},
   "source": [
    "This removes all the punctuation and now we have a random number in the sentence. If we choose to not remove the punctuation, the sentence looks better, but then we have some interesting words in the vocabulary."
   ]
  },
  {
   "cell_type": "code",
   "execution_count": 3,
   "metadata": {},
   "outputs": [
    {
     "name": "stdout",
     "output_type": "stream",
     "text": [
      "this is a short sentence (1) with one reference to an image. this next sentence, while non-sensical, does not have an image and has two commas.\n"
     ]
    },
    {
     "data": {
      "text/plain": [
       "dict_keys(['this', 'an', 'is', 'a', 'short', 'sentence', '(1)', 'with', 'one', 'reference', 'to', 'image.', 'next', 'sentence,', 'while', 'non-sensical,', 'does', 'not', 'have', 'image', 'and', 'has', 'two', 'commas.'])"
      ]
     },
     "execution_count": 3,
     "metadata": {},
     "output_type": "execute_result"
    }
   ],
   "source": [
    "tokenizer = preprocessing.text.Tokenizer(filters='\"#$%&*+/:;<=>?@[\\\\]^_`{|}~\\t\\n')\n",
    "\n",
    "tokenizer.fit_on_texts([example])\n",
    "\n",
    "s = tokenizer.texts_to_sequences([example])[0]\n",
    "\n",
    "print( ' '.join(tokenizer.index_word[i] for i in s)  )\n",
    "\n",
    "tokenizer.word_index.keys()"
   ]
  },
  {
   "cell_type": "markdown",
   "metadata": {},
   "source": [
    "Notice that image and image. are classified as distinct words. This is because the period is attached to one and not the other and the same with sentence and sentence,. To alleviate this issue, we can add spaces around the punctuation using regular expressions. We will also remove the image references."
   ]
  },
  {
   "cell_type": "code",
   "execution_count": 4,
   "metadata": {},
   "outputs": [
    {
     "name": "stdout",
     "output_type": "stream",
     "text": [
      "This is a short sentence with one reference to an image . This next sentence , while non-sensical , does not have an image and has two commas .\n"
     ]
    }
   ],
   "source": [
    "import re\n",
    "\n",
    "\n",
    "def format_patent(patent):\n",
    "    \"\"\"Add spaces around punctuation and remove references to images/citations.\"\"\"\n",
    "\n",
    "    # Add spaces around punctuation\n",
    "    patent = re.sub(r'(?<=[^\\s0-9])(?=[.,;?])', r' ', patent)\n",
    "\n",
    "    # Remove references to figures\n",
    "    patent = re.sub(r'\\((\\d+)\\)', r'', patent)\n",
    "\n",
    "    # Remove double spaces\n",
    "    patent = re.sub(r'\\s\\s', ' ', patent)\n",
    "    return patent\n",
    "\n",
    "\n",
    "f = format_patent(example)\n",
    "print( f )"
   ]
  },
  {
   "cell_type": "code",
   "execution_count": 5,
   "metadata": {},
   "outputs": [
    {
     "name": "stdout",
     "output_type": "stream",
     "text": [
      "this is a short sentence with one reference to an image . this next sentence , while non-sensical , does not have an image and has two commas .\n"
     ]
    },
    {
     "data": {
      "text/plain": [
       "dict_keys(['this', 'sentence', 'an', 'image', '.', ',', 'is', 'a', 'short', 'with', 'one', 'reference', 'to', 'next', 'while', 'non-sensical', 'does', 'not', 'have', 'and', 'has', 'two', 'commas'])"
      ]
     },
     "execution_count": 5,
     "metadata": {},
     "output_type": "execute_result"
    }
   ],
   "source": [
    "tokenizer = preprocessing.text.Tokenizer(filters='\"#$%&*+/:;<=>?@[\\\\]^_`{|}~\\t\\n')\n",
    "tokenizer.fit_on_texts([f])\n",
    "s = tokenizer.texts_to_sequences([f])[0]\n",
    "print( ' '.join(tokenizer.index_word[i] for i in s)  )\n",
    "tokenizer.word_index.keys()"
   ]
  },
  {
   "cell_type": "markdown",
   "metadata": {},
   "source": [
    "We no longer have the image and image. problem but we do have separate symbols for . and ,. This means the network will be forced to learn a representation for these punctuation marks (they are also in the pre-trained embeddings). When we want to get back to the original sentence (without image references) we simply have to remove the spaces."
   ]
  },
  {
   "cell_type": "code",
   "execution_count": 6,
   "metadata": {},
   "outputs": [
    {
     "name": "stdout",
     "output_type": "stream",
     "text": [
      "라벨 ==>  [[1], [0], [1], [1], [0], [1]]\n"
     ]
    }
   ],
   "source": [
    "samples = ['너 오늘 이뻐 보인다', \n",
    "           '나는 오늘 기분이 더러워', \n",
    "           '끝내주는데, 좋은 일이 있나봐', \n",
    "           '나 좋은 일이 생겼어', \n",
    "           '아 오늘 진짜 짜증나', \n",
    "           '환상적인데, 정말 좋은거 같아']\n",
    "\n",
    "labels = [[1], [0], [1], [1], [0], [1]]\n",
    "\n",
    "print(  \"라벨 ==> \", labels )\n",
    "\n",
    "# 1 은 긍정적인 문장, 0 은 부정적인 문장"
   ]
  },
  {
   "cell_type": "code",
   "execution_count": 7,
   "metadata": {},
   "outputs": [],
   "source": [
    "tokenizer = preprocessing.text.Tokenizer()\n",
    "tokenizer.fit_on_texts(samples)\n",
    "sequences = tokenizer.texts_to_sequences(samples)\n",
    "\n",
    "word_index = tokenizer.word_index"
   ]
  },
  {
   "cell_type": "code",
   "execution_count": 8,
   "metadata": {},
   "outputs": [
    {
     "name": "stdout",
     "output_type": "stream",
     "text": [
      "각 단어에 대응되는 숫자 인덱스 : \n",
      " {'오늘': 1, '좋은': 2, '일이': 3, '너': 4, '이뻐': 5, '보인다': 6, '나는': 7, '기분이': 8, '더러워': 9, '끝내주는데': 10, '있나봐': 11, '나': 12, '생겼어': 13, '아': 14, '진짜': 15, '짜증나': 16, '환상적인데': 17, '정말': 18, '좋은거': 19, '같아': 20}\n"
     ]
    }
   ],
   "source": [
    "\n",
    "print( '각 단어에 대응되는 숫자 인덱스 : \\n' , word_index )\n"
   ]
  },
  {
   "cell_type": "code",
   "execution_count": 9,
   "metadata": {},
   "outputs": [
    {
     "name": "stdout",
     "output_type": "stream",
     "text": [
      "수치화된 text data : \n",
      " [[4, 1, 5, 6], [7, 1, 8, 9], [10, 2, 3, 11], [12, 2, 3, 13], [14, 1, 15, 16], [17, 18, 19, 20]]\n",
      "첫번째 문장 :  너 오늘 이뻐 보인다 \n",
      " 변환된 벡터모양 :  [4, 1, 5, 6]\n"
     ]
    }
   ],
   "source": [
    "print( '수치화된 text data : \\n' , sequences )\n",
    "\n",
    "print( '첫번째 문장 : ', samples[0],  '\\n 변환된 벡터모양 : ', sequences[0] )"
   ]
  },
  {
   "cell_type": "code",
   "execution_count": 14,
   "metadata": {},
   "outputs": [],
   "source": [
    "\n",
    "dataset = tf.data.Dataset.from_tensor_slices((sequences, labels))\n",
    "\n",
    "iterator = dataset.make_one_shot_iterator()\n",
    "\n"
   ]
  },
  {
   "cell_type": "markdown",
   "metadata": {},
   "source": [
    "### kernel 메뉴 후, restart 하면 아래 명령에서 에러\n",
    "\n",
    "### tf.disable_eager_execution()  없으면 RuntimeError: \n",
    "\n",
    "The Session graph is empty.  Add operations to the graph before calling run().\n",
    "\n",
    "### 그래서,  tf.disable_eager_execution() 하고 next_data\n",
    "### print( sess.run( next_data )) "
   ]
  },
  {
   "cell_type": "code",
   "execution_count": 16,
   "metadata": {},
   "outputs": [
    {
     "name": "stdout",
     "output_type": "stream",
     "text": [
      "(array([4, 1, 5, 6]), array([1]))\n",
      "(array([7, 1, 8, 9]), array([0]))\n",
      "(array([10,  2,  3, 11]), array([1]))\n",
      "(array([12,  2,  3, 13]), array([1]))\n",
      "(array([14,  1, 15, 16]), array([0]))\n",
      "(array([17, 18, 19, 20]), array([1]))\n"
     ]
    }
   ],
   "source": [
    "tf.disable_eager_execution()\n",
    "############################\n",
    "\n",
    "\n",
    "next_data = iterator.get_next()\n",
    "\n",
    "\n",
    "with tf.Session() as sess:\n",
    "    while True:\n",
    "        try:\n",
    "            print( sess.run( next_data ))\n",
    "        except tf.errors.OutOfRangeError:\n",
    "            break"
   ]
  },
  {
   "cell_type": "code",
   "execution_count": 17,
   "metadata": {},
   "outputs": [
    {
     "name": "stdout",
     "output_type": "stream",
     "text": [
      "({'x': array([[4, 1, 5, 6],\n",
      "       [7, 1, 8, 9]])}, array([[1],\n",
      "       [0]]))\n",
      "({'x': array([[10,  2,  3, 11],\n",
      "       [12,  2,  3, 13]])}, array([[1],\n",
      "       [1]]))\n",
      "({'x': array([[17, 18, 19, 20],\n",
      "       [14,  1, 15, 16]])}, array([[1],\n",
      "       [0]]))\n",
      "({'x': array([[10,  2,  3, 11],\n",
      "       [ 4,  1,  5,  6]])}, array([[1],\n",
      "       [1]]))\n",
      "({'x': array([[17, 18, 19, 20],\n",
      "       [14,  1, 15, 16]])}, array([[1],\n",
      "       [0]]))\n",
      "({'x': array([[ 7,  1,  8,  9],\n",
      "       [12,  2,  3, 13]])}, array([[0],\n",
      "       [1]]))\n"
     ]
    }
   ],
   "source": [
    "BATCH_SIZE = 2\n",
    "EPOCH = 2\n",
    "\n",
    "def mapping_fn(X, Y=None):\n",
    "    input = {'x': X}\n",
    "    label = Y\n",
    "    return input, label\n",
    "\n",
    "\n",
    "\n",
    "dataset = tf.data.Dataset.from_tensor_slices((sequences, labels))\n",
    "dataset = dataset.map(mapping_fn)\n",
    "dataset = dataset.shuffle(len(sequences))\n",
    "dataset = dataset.batch(BATCH_SIZE) \n",
    "dataset = dataset.repeat(EPOCH)\n",
    "iterator = dataset.make_one_shot_iterator()\n",
    "next_data = iterator.get_next()\n",
    "\n",
    "\n",
    "\n",
    "\n",
    "with tf.Session() as sess:\n",
    "    while True:\n",
    "        try:\n",
    "            print(sess.run(next_data))\n",
    "        except tf.errors.OutOfRangeError:\n",
    "            break"
   ]
  },
  {
   "cell_type": "markdown",
   "metadata": {},
   "source": [
    "### Estimator 와 model_fn 만들기\n",
    "\n",
    "### 앞에서의 samples = ['너 오늘 이뻐 보인다', ... 데이터와\n",
    "\n",
    "### tokenizer = preprocessing.text.Tokenizer() 등등 기반으로"
   ]
  },
  {
   "cell_type": "code",
   "execution_count": 24,
   "metadata": {},
   "outputs": [],
   "source": [
    "DATA_OUT_PATH = './data_out/'\n",
    "\n",
    "import os\n",
    "\n",
    "if not os.path.exists(DATA_OUT_PATH):\n",
    "    os.makedirs(DATA_OUT_PATH)\n",
    "    \n",
    "    \n"
   ]
  },
  {
   "cell_type": "code",
   "execution_count": 25,
   "metadata": {},
   "outputs": [],
   "source": [
    "EPOCH = 100\n",
    "\n",
    "def train_input_fn():\n",
    "    dataset = tf.data.Dataset.from_tensor_slices((sequences, labels))\n",
    "    dataset = dataset.repeat(EPOCH)\n",
    "    dataset = dataset.batch(1)\n",
    "    dataset = dataset.shuffle(len(sequences))\n",
    "    iterator = dataset.make_one_shot_iterator()\n",
    "    \n",
    "    return iterator.get_next()"
   ]
  },
  {
   "cell_type": "code",
   "execution_count": 26,
   "metadata": {},
   "outputs": [],
   "source": [
    "VOCAB_SIZE = len(word_index) +1\n",
    "\n",
    "EMB_SIZE = 128"
   ]
  },
  {
   "cell_type": "code",
   "execution_count": 27,
   "metadata": {},
   "outputs": [],
   "source": [
    "def model_fn(features, labels, mode):\n",
    "    \n",
    "    TRAIN = mode == tf.estimator.ModeKeys.TRAIN\n",
    "    EVAL = mode == tf.estimator.ModeKeys.EVAL\n",
    "    PREDICT = mode == tf.estimator.ModeKeys.PREDICT\n",
    "    \n",
    "    embed_input = tf.keras.layers.Embedding(VOCAB_SIZE, EMB_SIZE)(features)\n",
    "    embed_input = tf.reduce_mean(embed_input, axis=-1)\n",
    "    \n",
    "    hidden_layer = tf.keras.layers.Dense(128, activation=tf.nn.relu)(embed_input)\n",
    "    output_layer = tf.keras.layers.Dense(1)(hidden_layer)\n",
    "    output = tf.nn.sigmoid(output_layer)\n",
    "    \n",
    "    loss = tf.losses.mean_squared_error(output, labels)\n",
    "\n",
    "    if TRAIN:\n",
    "        global_step = tf.train.get_global_step()\n",
    "        train_op = tf.train.AdamOptimizer(1e-3).minimize(loss, global_step)\n",
    "\n",
    "        return tf.estimator.EstimatorSpec(\n",
    "                  mode=mode,\n",
    "                  train_op=train_op,\n",
    "                  loss=loss)"
   ]
  },
  {
   "cell_type": "code",
   "execution_count": 28,
   "metadata": {},
   "outputs": [
    {
     "name": "stdout",
     "output_type": "stream",
     "text": [
      "INFO:tensorflow:Using default config.\n",
      "INFO:tensorflow:Using config: {'_model_dir': './data_out/checkpoint/dnn', '_tf_random_seed': None, '_save_summary_steps': 100, '_save_checkpoints_steps': None, '_save_checkpoints_secs': 600, '_session_config': allow_soft_placement: true\n",
      "graph_options {\n",
      "  rewrite_options {\n",
      "    meta_optimizer_iterations: ONE\n",
      "  }\n",
      "}\n",
      ", '_keep_checkpoint_max': 5, '_keep_checkpoint_every_n_hours': 10000, '_log_step_count_steps': 100, '_train_distribute': None, '_device_fn': None, '_protocol': None, '_eval_distribute': None, '_experimental_distribute': None, '_experimental_max_worker_delay_secs': None, '_session_creation_timeout_secs': 7200, '_service': None, '_cluster_spec': <tensorflow.python.training.server_lib.ClusterSpec object at 0x000001E63DA00FD0>, '_task_type': 'worker', '_task_id': 0, '_global_id_in_cluster': 0, '_master': '', '_evaluation_master': '', '_is_chief': True, '_num_ps_replicas': 0, '_num_worker_replicas': 1}\n"
     ]
    }
   ],
   "source": [
    "\n",
    "estimator = tf.estimator.Estimator( model_fn = model_fn, \n",
    "                                    model_dir = DATA_OUT_PATH + 'checkpoint/dnn')\n",
    "\n",
    "#  ./data_out/checkpoint/dnn\\model.ckpt."
   ]
  },
  {
   "cell_type": "markdown",
   "metadata": {},
   "source": [
    "## estimator 로 모델을 train "
   ]
  },
  {
   "cell_type": "code",
   "execution_count": 29,
   "metadata": {},
   "outputs": [
    {
     "name": "stdout",
     "output_type": "stream",
     "text": [
      "WARNING:tensorflow:From C:\\WinPython37F\\python-3.7.2.amd64\\lib\\site-packages\\tensorflow_core\\python\\ops\\resource_variable_ops.py:1630: calling BaseResourceVariable.__init__ (from tensorflow.python.ops.resource_variable_ops) with constraint is deprecated and will be removed in a future version.\n",
      "Instructions for updating:\n",
      "If using Keras pass *_constraint arguments to layers.\n",
      "WARNING:tensorflow:From C:\\WinPython37F\\python-3.7.2.amd64\\lib\\site-packages\\tensorflow_core\\python\\training\\training_util.py:236: Variable.initialized_value (from tensorflow.python.ops.variables) is deprecated and will be removed in a future version.\n",
      "Instructions for updating:\n",
      "Use Variable.read_value. Variables in 2.X are initialized automatically both in eager and graph (inside tf.defun) contexts.\n",
      "INFO:tensorflow:Calling model_fn.\n",
      "INFO:tensorflow:Done calling model_fn.\n",
      "INFO:tensorflow:Create CheckpointSaverHook.\n",
      "INFO:tensorflow:Graph was finalized.\n",
      "INFO:tensorflow:Restoring parameters from ./data_out/checkpoint/dnn\\model.ckpt-3600\n",
      "WARNING:tensorflow:From C:\\WinPython37F\\python-3.7.2.amd64\\lib\\site-packages\\tensorflow_core\\python\\training\\saver.py:1069: get_checkpoint_mtimes (from tensorflow.python.training.checkpoint_management) is deprecated and will be removed in a future version.\n",
      "Instructions for updating:\n",
      "Use standard file utilities to get mtimes.\n",
      "INFO:tensorflow:Running local_init_op.\n",
      "INFO:tensorflow:Done running local_init_op.\n",
      "INFO:tensorflow:Saving checkpoints for 3600 into ./data_out/checkpoint/dnn\\model.ckpt.\n",
      "INFO:tensorflow:loss = 5.974564e-07, step = 3600\n",
      "INFO:tensorflow:global_step/sec: 646.88\n",
      "INFO:tensorflow:loss = 2.077689e-06, step = 3700 (0.159 sec)\n",
      "INFO:tensorflow:global_step/sec: 1302.18\n",
      "INFO:tensorflow:loss = 1.0731483e-06, step = 3800 (0.075 sec)\n",
      "INFO:tensorflow:global_step/sec: 1354.98\n",
      "INFO:tensorflow:loss = 4.6122477e-07, step = 3900 (0.074 sec)\n",
      "INFO:tensorflow:global_step/sec: 1354.96\n",
      "INFO:tensorflow:loss = 1.6259365e-06, step = 4000 (0.074 sec)\n",
      "INFO:tensorflow:global_step/sec: 1336.9\n",
      "INFO:tensorflow:loss = 3.911646e-07, step = 4100 (0.074 sec)\n",
      "INFO:tensorflow:Saving checkpoints for 4200 into ./data_out/checkpoint/dnn\\model.ckpt.\n",
      "WARNING:tensorflow:From C:\\WinPython37F\\python-3.7.2.amd64\\lib\\site-packages\\tensorflow_core\\python\\training\\saver.py:963: remove_checkpoint (from tensorflow.python.training.checkpoint_management) is deprecated and will be removed in a future version.\n",
      "Instructions for updating:\n",
      "Use standard file APIs to delete files with this prefix.\n",
      "INFO:tensorflow:Loss for final step: 3.870747e-07.\n"
     ]
    },
    {
     "data": {
      "text/plain": [
       "<tensorflow_estimator.python.estimator.estimator.Estimator at 0x1e63d956dd8>"
      ]
     },
     "execution_count": 29,
     "metadata": {},
     "output_type": "execute_result"
    }
   ],
   "source": [
    "estimator.train(train_input_fn)"
   ]
  },
  {
   "cell_type": "markdown",
   "metadata": {},
   "source": [
    "# 강의에서 다룰 한글 챗봇 데이터에 적용 \n",
    "\n",
    "\n",
    "## data_in/ChatBotData.csv\n",
    "\n",
    "\n",
    "## data_nmt/conversation2.csv\n",
    "\n",
    "\n",
    "\n",
    "\n",
    "\n",
    "### 2.SK-Konlpy-Matplotlib.ipynb 및 3 및 4 ipynb 참고 \n"
   ]
  },
  {
   "cell_type": "code",
   "execution_count": 6,
   "metadata": {},
   "outputs": [
    {
     "data": {
      "text/html": [
       "<div>\n",
       "<style scoped>\n",
       "    .dataframe tbody tr th:only-of-type {\n",
       "        vertical-align: middle;\n",
       "    }\n",
       "\n",
       "    .dataframe tbody tr th {\n",
       "        vertical-align: top;\n",
       "    }\n",
       "\n",
       "    .dataframe thead th {\n",
       "        text-align: right;\n",
       "    }\n",
       "</style>\n",
       "<table border=\"1\" class=\"dataframe\">\n",
       "  <thead>\n",
       "    <tr style=\"text-align: right;\">\n",
       "      <th></th>\n",
       "      <th>Q</th>\n",
       "      <th>A</th>\n",
       "      <th>label</th>\n",
       "    </tr>\n",
       "  </thead>\n",
       "  <tbody>\n",
       "    <tr>\n",
       "      <th>0</th>\n",
       "      <td>12시 땡!</td>\n",
       "      <td>하루가 또 가네요.</td>\n",
       "      <td>0</td>\n",
       "    </tr>\n",
       "    <tr>\n",
       "      <th>1</th>\n",
       "      <td>1지망 학교 떨어졌어</td>\n",
       "      <td>위로해 드립니다.</td>\n",
       "      <td>0</td>\n",
       "    </tr>\n",
       "    <tr>\n",
       "      <th>2</th>\n",
       "      <td>3박4일 놀러가고 싶다</td>\n",
       "      <td>여행은 언제나 좋죠.</td>\n",
       "      <td>0</td>\n",
       "    </tr>\n",
       "    <tr>\n",
       "      <th>3</th>\n",
       "      <td>3박4일 정도 놀러가고 싶다</td>\n",
       "      <td>여행은 언제나 좋죠.</td>\n",
       "      <td>0</td>\n",
       "    </tr>\n",
       "    <tr>\n",
       "      <th>4</th>\n",
       "      <td>PPL 심하네</td>\n",
       "      <td>눈살이 찌푸려지죠.</td>\n",
       "      <td>0</td>\n",
       "    </tr>\n",
       "    <tr>\n",
       "      <th>...</th>\n",
       "      <td>...</td>\n",
       "      <td>...</td>\n",
       "      <td>...</td>\n",
       "    </tr>\n",
       "    <tr>\n",
       "      <th>11818</th>\n",
       "      <td>훔쳐보는 것도 눈치 보임.</td>\n",
       "      <td>티가 나니까 눈치가 보이는 거죠!</td>\n",
       "      <td>2</td>\n",
       "    </tr>\n",
       "    <tr>\n",
       "      <th>11819</th>\n",
       "      <td>훔쳐보는 것도 눈치 보임.</td>\n",
       "      <td>훔쳐보는 거 티나나봐요.</td>\n",
       "      <td>2</td>\n",
       "    </tr>\n",
       "    <tr>\n",
       "      <th>11820</th>\n",
       "      <td>흑기사 해주는 짝남.</td>\n",
       "      <td>설렜겠어요.</td>\n",
       "      <td>2</td>\n",
       "    </tr>\n",
       "    <tr>\n",
       "      <th>11821</th>\n",
       "      <td>힘든 연애 좋은 연애라는게 무슨 차이일까?</td>\n",
       "      <td>잘 헤어질 수 있는 사이 여부인 거 같아요.</td>\n",
       "      <td>2</td>\n",
       "    </tr>\n",
       "    <tr>\n",
       "      <th>11822</th>\n",
       "      <td>힘들어서 결혼할까봐</td>\n",
       "      <td>도피성 결혼은 하지 않길 바라요.</td>\n",
       "      <td>2</td>\n",
       "    </tr>\n",
       "  </tbody>\n",
       "</table>\n",
       "<p>11823 rows × 3 columns</p>\n",
       "</div>"
      ],
      "text/plain": [
       "                             Q                         A  label\n",
       "0                       12시 땡!                하루가 또 가네요.      0\n",
       "1                  1지망 학교 떨어졌어                 위로해 드립니다.      0\n",
       "2                 3박4일 놀러가고 싶다               여행은 언제나 좋죠.      0\n",
       "3              3박4일 정도 놀러가고 싶다               여행은 언제나 좋죠.      0\n",
       "4                      PPL 심하네                눈살이 찌푸려지죠.      0\n",
       "...                        ...                       ...    ...\n",
       "11818           훔쳐보는 것도 눈치 보임.        티가 나니까 눈치가 보이는 거죠!      2\n",
       "11819           훔쳐보는 것도 눈치 보임.             훔쳐보는 거 티나나봐요.      2\n",
       "11820              흑기사 해주는 짝남.                    설렜겠어요.      2\n",
       "11821  힘든 연애 좋은 연애라는게 무슨 차이일까?  잘 헤어질 수 있는 사이 여부인 거 같아요.      2\n",
       "11822               힘들어서 결혼할까봐        도피성 결혼은 하지 않길 바라요.      2\n",
       "\n",
       "[11823 rows x 3 columns]"
      ]
     },
     "execution_count": 6,
     "metadata": {},
     "output_type": "execute_result"
    }
   ],
   "source": [
    "import pandas as pd\n",
    "\n",
    "DATA_IN_PATH = './data_in/'\n",
    "\n",
    "data = pd.read_csv(DATA_IN_PATH + 'ChatBotData.csv', encoding='utf-8')\n",
    "\n",
    "data"
   ]
  },
  {
   "cell_type": "code",
   "execution_count": 5,
   "metadata": {},
   "outputs": [
    {
     "data": {
      "text/html": [
       "<div>\n",
       "<style scoped>\n",
       "    .dataframe tbody tr th:only-of-type {\n",
       "        vertical-align: middle;\n",
       "    }\n",
       "\n",
       "    .dataframe tbody tr th {\n",
       "        vertical-align: top;\n",
       "    }\n",
       "\n",
       "    .dataframe thead th {\n",
       "        text-align: right;\n",
       "    }\n",
       "</style>\n",
       "<table border=\"1\" class=\"dataframe\">\n",
       "  <thead>\n",
       "    <tr style=\"text-align: right;\">\n",
       "      <th></th>\n",
       "      <th>0</th>\n",
       "    </tr>\n",
       "  </thead>\n",
       "  <tbody>\n",
       "    <tr>\n",
       "      <th>0</th>\n",
       "      <td>어떻게 지내세요?</td>\n",
       "    </tr>\n",
       "    <tr>\n",
       "      <th>1</th>\n",
       "      <td>잘 지내고 있어요. 당신은요?</td>\n",
       "    </tr>\n",
       "    <tr>\n",
       "      <th>2</th>\n",
       "      <td>저도 잘 지내고 있어요.</td>\n",
       "    </tr>\n",
       "    <tr>\n",
       "      <th>3</th>\n",
       "      <td>네, 그럼 안녕히 가세요.</td>\n",
       "    </tr>\n",
       "    <tr>\n",
       "      <th>4</th>\n",
       "      <td>계속 연락해요.</td>\n",
       "    </tr>\n",
       "    <tr>\n",
       "      <th>...</th>\n",
       "      <td>...</td>\n",
       "    </tr>\n",
       "    <tr>\n",
       "      <th>495</th>\n",
       "      <td>그러게요. 거긴 어때요?</td>\n",
       "    </tr>\n",
       "    <tr>\n",
       "      <th>496</th>\n",
       "      <td>매우 포근한 날씨네요.</td>\n",
       "    </tr>\n",
       "    <tr>\n",
       "      <th>497</th>\n",
       "      <td>나들이 가기 좋은 날씨죠.</td>\n",
       "    </tr>\n",
       "    <tr>\n",
       "      <th>498</th>\n",
       "      <td>안녕하세요</td>\n",
       "    </tr>\n",
       "    <tr>\n",
       "      <th>499</th>\n",
       "      <td>안녕하세요. 만나서 반가워요.</td>\n",
       "    </tr>\n",
       "  </tbody>\n",
       "</table>\n",
       "<p>500 rows × 1 columns</p>\n",
       "</div>"
      ],
      "text/plain": [
       "                    0\n",
       "0           어떻게 지내세요?\n",
       "1    잘 지내고 있어요. 당신은요?\n",
       "2       저도 잘 지내고 있어요.\n",
       "3      네, 그럼 안녕히 가세요.\n",
       "4            계속 연락해요.\n",
       "..                ...\n",
       "495     그러게요. 거긴 어때요?\n",
       "496      매우 포근한 날씨네요.\n",
       "497    나들이 가기 좋은 날씨죠.\n",
       "498             안녕하세요\n",
       "499  안녕하세요. 만나서 반가워요.\n",
       "\n",
       "[500 rows x 1 columns]"
      ]
     },
     "execution_count": 5,
     "metadata": {},
     "output_type": "execute_result"
    }
   ],
   "source": [
    "DATA_IN_PATH = './data_nmt/'\n",
    "\n",
    "data = pd.read_csv(DATA_IN_PATH + 'conversation2.csv', encoding='utf-8')\n",
    "\n",
    "data"
   ]
  },
  {
   "cell_type": "markdown",
   "metadata": {},
   "source": [
    "\n",
    "\n",
    "## (1) Numpy 코딩은 스틱 운전 (컨트롤을 매뉴얼하게 할 수 있다)\n",
    "\n",
    "## (2) Estimator 등 사용하는 것은 오토메틱 운전 (not 매뉴얼)\n",
    "<p>\n",
    "\n",
    "# ===================================\n",
    "    \n",
    " \n",
    "    \n",
    "# +++++++++++++++++++++++++++++++++\n",
    "    \n",
    "<p> &nbsp;"
   ]
  },
  {
   "cell_type": "markdown",
   "metadata": {},
   "source": [
    "# (4)  아기 Baby RNN   Examples\n",
    "\n",
    "<p> &nbsp;"
   ]
  },
  {
   "cell_type": "markdown",
   "metadata": {},
   "source": [
    "# +++++++++++++++++++++++++++++++++++"
   ]
  },
  {
   "cell_type": "code",
   "execution_count": 6,
   "metadata": {},
   "outputs": [],
   "source": [
    "import tensorflow.compat.v1 as tf\n",
    "\n",
    "tf.disable_eager_execution()\n",
    "\n",
    "\n",
    "import numpy as np"
   ]
  },
  {
   "cell_type": "code",
   "execution_count": 7,
   "metadata": {},
   "outputs": [],
   "source": [
    "\n",
    "# input data\n",
    "X_data = np.array([\n",
    "# steps   1st     2nd       3rd\n",
    "        [[1, 2], [7, 8], [13, 14]],  # first batch\n",
    "        [[3, 4], [9, 10], [15, 16]], # second batch\n",
    "        [[5, 6], [11, 12], [17, 18]] # third batch\n",
    "]) # shape: [batch_size, n_steps, n_inputs]"
   ]
  },
  {
   "cell_type": "code",
   "execution_count": 8,
   "metadata": {},
   "outputs": [
    {
     "name": "stdout",
     "output_type": "stream",
     "text": [
      "WARNING:tensorflow:From <ipython-input-8-d39e049af304>:16: BasicRNNCell.__init__ (from tensorflow.python.ops.rnn_cell_impl) is deprecated and will be removed in a future version.\n",
      "Instructions for updating:\n",
      "This class is equivalent as tf.keras.layers.SimpleRNNCell, and will be replaced by that in Tensorflow 2.0.\n",
      "WARNING:tensorflow:From <ipython-input-8-d39e049af304>:17: dynamic_rnn (from tensorflow.python.ops.rnn) is deprecated and will be removed in a future version.\n",
      "Instructions for updating:\n",
      "Please use `keras.layers.RNN(cell)`, which is equivalent to this API\n",
      "WARNING:tensorflow:From C:\\WinPython37F\\python-3.7.2.amd64\\lib\\site-packages\\tensorflow_core\\python\\ops\\rnn_cell_impl.py:456: Layer.add_variable (from tensorflow.python.keras.engine.base_layer) is deprecated and will be removed in a future version.\n",
      "Instructions for updating:\n",
      "Please use `layer.add_weight` method instead.\n",
      "WARNING:tensorflow:From C:\\WinPython37F\\python-3.7.2.amd64\\lib\\site-packages\\tensorflow_core\\python\\ops\\rnn_cell_impl.py:460: calling Zeros.__init__ (from tensorflow.python.ops.init_ops) with dtype is deprecated and will be removed in a future version.\n",
      "Instructions for updating:\n",
      "Call initializer instance with the dtype argument instead of passing it to the constructor\n"
     ]
    }
   ],
   "source": [
    "tf.reset_default_graph()\n",
    "# 이 것이 있어야 에러가 안난다.\n",
    "##############################\n",
    "\n",
    "\n",
    "# hyperparameters\n",
    "n_neurons = 8\n",
    "\n",
    "# parameters\n",
    "n_inputs = X_data.shape[2]\n",
    "n_steps = X_data.shape[1]\n",
    "\n",
    "# rnn model\n",
    "X = tf.placeholder(tf.float32, [None, n_steps, n_inputs])\n",
    "\n",
    "cell = tf.nn.rnn_cell.BasicRNNCell(num_units=n_neurons)\n",
    "output, state = tf.nn.dynamic_rnn(cell, X, dtype=tf.float32)"
   ]
  },
  {
   "cell_type": "code",
   "execution_count": 9,
   "metadata": {},
   "outputs": [
    {
     "name": "stdout",
     "output_type": "stream",
     "text": [
      "output shape [batch_size, n_steps, n_neurons]:  [3 3 8]\n",
      "state shape [batch_size, n_neurons]:  [3 8]\n"
     ]
    }
   ],
   "source": [
    "# initialize the variables\n",
    "init = tf.global_variables_initializer()\n",
    "\n",
    "# train\n",
    "with tf.Session() as sess:\n",
    "    sess.run(init)\n",
    "    feed_dict = {X: X_data}\n",
    "    output_shape = sess.run(tf.shape(output), feed_dict=feed_dict)\n",
    "    state_shape = sess.run(tf.shape(state), feed_dict=feed_dict)\n",
    "    print('output shape [batch_size, n_steps, n_neurons]: ', output_shape)\n",
    "    print('state shape [batch_size, n_neurons]: ', state_shape)"
   ]
  },
  {
   "cell_type": "markdown",
   "metadata": {},
   "source": [
    "# +++++++++++++++++++++++++++++++++"
   ]
  },
  {
   "cell_type": "code",
   "execution_count": 10,
   "metadata": {},
   "outputs": [],
   "source": [
    "import tensorflow.compat.v1 as tf\n",
    "\n",
    "tf.disable_eager_execution()\n",
    "\n",
    "\n",
    "import numpy as np"
   ]
  },
  {
   "cell_type": "code",
   "execution_count": 11,
   "metadata": {},
   "outputs": [],
   "source": [
    "X_data = np.array([\n",
    "# steps   1st     2nd       3rd\n",
    "        [[1, 2], [7, 8], [13, 14]],  # first batch\n",
    "        [[3, 4], [9, 10], [15, 16]], # second batch\n",
    "        [[5, 6], [11, 12], [17, 18]] # third batch\n",
    "]) # shape: [batch_size, n_steps, n_inputs]"
   ]
  },
  {
   "cell_type": "code",
   "execution_count": 12,
   "metadata": {},
   "outputs": [
    {
     "name": "stdout",
     "output_type": "stream",
     "text": [
      "WARNING:tensorflow:From <ipython-input-12-8cfe19a56c82>:15: MultiRNNCell.__init__ (from tensorflow.python.ops.rnn_cell_impl) is deprecated and will be removed in a future version.\n",
      "Instructions for updating:\n",
      "This class is equivalent as tf.keras.layers.StackedRNNCells, and will be replaced by that in Tensorflow 2.0.\n"
     ]
    }
   ],
   "source": [
    "tf.reset_default_graph()\n",
    "\n",
    "# hyperparameters\n",
    "n_neurons = 8\n",
    "\n",
    "# parameters\n",
    "n_steps = X_data.shape[1]\n",
    "n_inputs = X_data.shape[2]\n",
    "n_layers = 5 # 5 hidden layers\n",
    "\n",
    "# rnn model\n",
    "X = tf.placeholder(tf.float32, [None, n_steps, n_inputs])\n",
    "\n",
    "layers = [tf.nn.rnn_cell.BasicRNNCell(num_units=n_neurons) for _ in range(n_layers)]\n",
    "multi_rnn = tf.nn.rnn_cell.MultiRNNCell(layers)\n",
    "output, state = tf.nn.dynamic_rnn(multi_rnn, X, dtype=tf.float32)"
   ]
  },
  {
   "cell_type": "code",
   "execution_count": 13,
   "metadata": {},
   "outputs": [
    {
     "name": "stdout",
     "output_type": "stream",
     "text": [
      "output shape [batch_size, n_steps, n_neurons]:  [3 3 8]\n",
      "state shape [n_layers, batch_size, n_neurons]:  [5 3 8]\n"
     ]
    }
   ],
   "source": [
    "# initializer the variables\n",
    "init = tf.global_variables_initializer()\n",
    "\n",
    "# train\n",
    "with tf.Session() as sess:\n",
    "    sess.run(init)\n",
    "    feed_dict = {X: X_data}\n",
    "    output_shape = sess.run(tf.shape(output), feed_dict=feed_dict)\n",
    "    state_shape = sess.run(tf.shape(state), feed_dict=feed_dict)\n",
    "    print('output shape [batch_size, n_steps, n_neurons]: ', output_shape)\n",
    "    print('state shape [n_layers, batch_size, n_neurons]: ' ,state_shape)"
   ]
  },
  {
   "cell_type": "code",
   "execution_count": null,
   "metadata": {},
   "outputs": [],
   "source": []
  },
  {
   "cell_type": "markdown",
   "metadata": {},
   "source": [
    "# +++++++++++++++++++++++++++++++\n",
    "<p>\n",
    "\n",
    "# (5) RNN + CNN 텍스트 분석 익히기\n",
    "    \n",
    "<p>"
   ]
  },
  {
   "cell_type": "code",
   "execution_count": null,
   "metadata": {},
   "outputs": [],
   "source": []
  },
  {
   "cell_type": "markdown",
   "metadata": {},
   "source": [
    "### tf.keras.datasets.imdb.load_data   == IMDB, MNIST 데이터"
   ]
  },
  {
   "cell_type": "code",
   "execution_count": 13,
   "metadata": {},
   "outputs": [],
   "source": [
    "import tensorflow as tf\n",
    "\n",
    "from keras.preprocessing import sequence\n",
    "\n",
    "\n",
    "(x_train0, y_train), (x_test0, y_test) = tf.keras.datasets.imdb.load_data(path='imdb.npz', num_words=5000)\n",
    "\n"
   ]
  },
  {
   "cell_type": "code",
   "execution_count": 16,
   "metadata": {},
   "outputs": [
    {
     "name": "stdout",
     "output_type": "stream",
     "text": [
      "[1, 14, 22, 16, 43, 530, 973, 1622, 1385, 65, 458, 4468, 66, 3941, 4, 173, 36, 256, 5, 25, 100, 43, 838, 112, 50, 670, 2, 9, 35, 480, 284, 5, 150, 4, 172, 112, 167, 2, 336, 385, 39, 4, 172, 4536, 1111, 17, 546, 38, 13, 447, 4, 192, 50, 16, 6, 147, 2025, 19, 14, 22, 4, 1920, 4613, 469, 4, 22, 71, 87, 12, 16, 43, 530, 38, 76, 15, 13, 1247, 4, 22, 17, 515, 17, 12, 16, 626, 18, 2, 5, 62, 386, 12, 8, 316, 8, 106, 5, 4, 2223, 2, 16, 480, 66, 3785, 33, 4, 130, 12, 16, 38, 619, 5, 25, 124, 51, 36, 135, 48, 25, 1415, 33, 6, 22, 12, 215, 28, 77, 52, 5, 14, 407, 16, 82, 2, 8, 4, 107, 117, 2, 15, 256, 4, 2, 7, 3766, 5, 723, 36, 71, 43, 530, 476, 26, 400, 317, 46, 7, 4, 2, 1029, 13, 104, 88, 4, 381, 15, 297, 98, 32, 2071, 56, 26, 141, 6, 194, 2, 18, 4, 226, 22, 21, 134, 476, 26, 480, 5, 144, 30, 2, 18, 51, 36, 28, 224, 92, 25, 104, 4, 226, 65, 16]\n",
      "[1415   33    6   22   12  215   28   77   52    5   14  407   16   82\n",
      "    2    8    4  107  117    2   15  256    4    2    7 3766    5  723\n",
      "   36   71   43  530  476   26  400  317   46    7    4    2 1029   13\n",
      "  104   88    4  381   15  297   98   32 2071   56   26  141    6  194\n",
      "    2   18    4  226   22   21  134  476   26  480    5  144   30    2\n",
      "   18   51   36   28  224   92   25  104    4  226   65   16   38 1334\n",
      "   88   12   16  283    5   16 4472  113  103   32   15   16    2   19\n",
      "  178   32]\n",
      "[1 0 0 1 0 0 1 0 1 0]\n"
     ]
    }
   ],
   "source": [
    "\n",
    "#print( x_train0.shape )  ==>  (25000, )\n",
    "print( x_train0[0][0:200] )\n",
    "\n",
    "x_train = sequence.pad_sequences(x_train0, maxlen=100)\n",
    "\n",
    "x_test = sequence.pad_sequences(x_test0, maxlen=100)\n",
    "\n",
    "# print( x_train.shape) ==> (25000, 100)\n",
    "print( x_train[0] )\n",
    "\n",
    "print( y_train[0:10] )"
   ]
  },
  {
   "cell_type": "code",
   "execution_count": null,
   "metadata": {},
   "outputs": [],
   "source": []
  },
  {
   "cell_type": "code",
   "execution_count": null,
   "metadata": {},
   "outputs": [],
   "source": []
  },
  {
   "cell_type": "code",
   "execution_count": null,
   "metadata": {},
   "outputs": [],
   "source": []
  },
  {
   "cell_type": "code",
   "execution_count": null,
   "metadata": {},
   "outputs": [],
   "source": []
  },
  {
   "cell_type": "markdown",
   "metadata": {},
   "source": [
    "# In short"
   ]
  },
  {
   "cell_type": "code",
   "execution_count": 5,
   "metadata": {},
   "outputs": [
    {
     "name": "stdout",
     "output_type": "stream",
     "text": [
      "Model: \"sequential_1\"\n",
      "_________________________________________________________________\n",
      "Layer (type)                 Output Shape              Param #   \n",
      "=================================================================\n",
      "embedding_1 (Embedding)      (None, None, 100)         500000    \n",
      "_________________________________________________________________\n",
      "dropout_1 (Dropout)          (None, None, 100)         0         \n",
      "_________________________________________________________________\n",
      "conv1d_1 (Conv1D)            (None, None, 64)          32064     \n",
      "_________________________________________________________________\n",
      "max_pooling1d_1 (MaxPooling1 (None, None, 64)          0         \n",
      "_________________________________________________________________\n",
      "lstm_1 (LSTM)                (None, 55)                26400     \n",
      "_________________________________________________________________\n",
      "dense_1 (Dense)              (None, 1)                 56        \n",
      "_________________________________________________________________\n",
      "activation_1 (Activation)    (None, 1)                 0         \n",
      "=================================================================\n",
      "Total params: 558,520\n",
      "Trainable params: 558,520\n",
      "Non-trainable params: 0\n",
      "_________________________________________________________________\n"
     ]
    },
    {
     "name": "stderr",
     "output_type": "stream",
     "text": [
      "C:\\WinPython37F\\python-3.7.2.amd64\\lib\\site-packages\\tensorflow_core\\python\\framework\\indexed_slices.py:424: UserWarning: Converting sparse IndexedSlices to a dense Tensor of unknown shape. This may consume a large amount of memory.\n",
      "  \"Converting sparse IndexedSlices to a dense Tensor of unknown shape. \"\n"
     ]
    },
    {
     "name": "stdout",
     "output_type": "stream",
     "text": [
      "Train on 25000 samples, validate on 25000 samples\n",
      "Epoch 1/5\n",
      "25000/25000 [==============================] - 25s 995us/step - loss: 0.4543 - accuracy: 0.7654 - val_loss: 0.3402 - val_accuracy: 0.8514\n",
      "Epoch 2/5\n",
      "25000/25000 [==============================] - 25s 986us/step - loss: 0.2916 - accuracy: 0.8784 - val_loss: 0.3280 - val_accuracy: 0.8577\n",
      "Epoch 3/5\n",
      "25000/25000 [==============================] - 27s 1ms/step - loss: 0.2489 - accuracy: 0.8989 - val_loss: 0.3321 - val_accuracy: 0.8572\n",
      "Epoch 4/5\n",
      "25000/25000 [==============================] - 28s 1ms/step - loss: 0.2104 - accuracy: 0.9186 - val_loss: 0.3377 - val_accuracy: 0.8584\n",
      "Epoch 5/5\n",
      "25000/25000 [==============================] - 26s 1ms/step - loss: 0.1774 - accuracy: 0.9314 - val_loss: 0.3558 - val_accuracy: 0.8532\n",
      "25000/25000 [==============================] - 5s 215us/step\n",
      "\n",
      " Test Accuracy: 0.8532\n"
     ]
    },
    {
     "data": {
      "image/png": "[encoded data removed]",
      "text/plain": [
       "<Figure size 432x288 with 1 Axes>"
      ]
     },
     "metadata": {
      "needs_background": "light"
     },
     "output_type": "display_data"
    }
   ],
   "source": [
    "import tensorflow as tf\n",
    "\n",
    "from keras.preprocessing import sequence\n",
    "\n",
    "from keras.models import Sequential\n",
    "\n",
    "from keras.layers import Dense, Dropout, Activation\n",
    "\n",
    "from keras.layers import Embedding\n",
    "\n",
    "from keras.layers import LSTM\n",
    "\n",
    "from keras.layers import Conv1D, MaxPooling1D\n",
    "\n",
    "from keras.datasets import imdb\n",
    "\n",
    "\n",
    "\n",
    "import numpy\n",
    "\n",
    "\n",
    "import matplotlib.pyplot as plt\n",
    "\n",
    "\n",
    "\n",
    "# seed 값 설정\n",
    "\n",
    "seed = 0\n",
    "\n",
    "numpy.random.seed(seed)\n",
    "\n",
    "# 1.* === tf.set_random_seed(seed)\n",
    "tf.random.set_seed(seed)\n",
    "\n",
    "\n",
    "\n",
    "# 학습셋과 테스트셋 지정하기\n",
    "\n",
    "(x_train, y_train), (x_test, y_test) = imdb.load_data(num_words=5000)\n",
    "\n",
    "\n",
    "\n",
    "# 데이터 전처리\n",
    "\n",
    "x_train = sequence.pad_sequences(x_train, maxlen=100)\n",
    "\n",
    "x_test = sequence.pad_sequences(x_test, maxlen=100)\n",
    "\n",
    "\n",
    "\n",
    "# 모델의 설정\n",
    "\n",
    "model = Sequential()\n",
    "\n",
    "model.add(Embedding(5000, 100))\n",
    "\n",
    "model.add(Dropout(0.5))\n",
    "\n",
    "model.add(Conv1D(64, 5, padding='valid', activation='relu', strides=1))\n",
    "\n",
    "model.add(MaxPooling1D(pool_size=4))\n",
    "\n",
    "model.add(LSTM(55))\n",
    "\n",
    "model.add(Dense(1))\n",
    "\n",
    "model.add(Activation('sigmoid'))\n",
    "\n",
    "model.summary()\n",
    "\n",
    "\n",
    "\n",
    "# 모델의 컴파일\n",
    "\n",
    "model.compile(loss='binary_crossentropy',\n",
    "\n",
    "              optimizer='adam',\n",
    "\n",
    "              metrics=['accuracy'])\n",
    "\n",
    "\n",
    "\n",
    "# 모델의 실행\n",
    "\n",
    "history = model.fit( x_train, y_train, batch_size=100, epochs=5,\n",
    "                     validation_data=(x_test, y_test)  )\n",
    "\n",
    "\n",
    "\n",
    "# 테스트 정확도 출력\n",
    "\n",
    "print( \"\\n Test Accuracy: %.4f\" % (model.evaluate(x_test, y_test)[1] )  )\n",
    "\n",
    "\n",
    "\n",
    "# 테스트셋의 오차\n",
    "\n",
    "y_vloss = history.history['val_loss']\n",
    "\n",
    "\n",
    "\n",
    "# 학습셋의 오차\n",
    "\n",
    "y_loss = history.history['loss']\n",
    "\n",
    "\n",
    "\n",
    "# 그래프로 표현\n",
    "\n",
    "x_len = numpy.arange(len(y_loss))\n",
    "\n",
    "plt.plot(x_len, y_vloss, marker='.', c=\"red\", label='Testset_loss')\n",
    "\n",
    "plt.plot(x_len, y_loss, marker='.', c=\"blue\", label='Trainset_loss')\n",
    "\n",
    "\n",
    "\n",
    "# 그래프에 그리드를 주고 레이블을 표시\n",
    "\n",
    "plt.legend(loc='upper right')\n",
    "\n",
    "plt.grid()\n",
    "\n",
    "plt.xlabel('epoch')\n",
    "\n",
    "plt.ylabel('loss')\n",
    "\n",
    "plt.show()"
   ]
  },
  {
   "cell_type": "code",
   "execution_count": null,
   "metadata": {},
   "outputs": [],
   "source": []
  },
  {
   "cell_type": "code",
   "execution_count": null,
   "metadata": {},
   "outputs": [],
   "source": []
  },
  {
   "cell_type": "code",
   "execution_count": null,
   "metadata": {},
   "outputs": [],
   "source": []
  },
  {
   "cell_type": "code",
   "execution_count": null,
   "metadata": {},
   "outputs": [],
   "source": []
  },
  {
   "cell_type": "markdown",
   "metadata": {},
   "source": [
    "# ==================================\n",
    "\n",
    "<p> &nbsp;"
   ]
  },
  {
   "cell_type": "markdown",
   "metadata": {},
   "source": [
    "#  [목표] 덧셈 인공지능 여러 코드를 설명하여라\n",
    "\n",
    "## 1. 넘파이 numpy 방법\n",
    "\n",
    "## 2. 텐서플로우 방법\n",
    "\n",
    "\n"
   ]
  },
  {
   "cell_type": "markdown",
   "metadata": {},
   "source": [
    "# ===================================\n",
    "<p>"
   ]
  },
  {
   "cell_type": "markdown",
   "metadata": {},
   "source": [
    "# (목표) 덧셈 인공지능 만들기를 학습하고 설명한다 !!\n",
    "\n",
    "\n",
    "# ====================================\n"
   ]
  },
  {
   "cell_type": "code",
   "execution_count": null,
   "metadata": {},
   "outputs": [],
   "source": []
  },
  {
   "cell_type": "code",
   "execution_count": null,
   "metadata": {},
   "outputs": [],
   "source": []
  },
  {
   "cell_type": "markdown",
   "metadata": {},
   "source": [
    "\n",
    "\n",
    "\n",
    "# 순환신경망 (Recurrent Neural Network) 사용한다\n",
    "\n",
    "\n",
    "# 방법 1 : 파트 A : 넘파이 버젼\n",
    "\n",
    "# 방법 2 : 파트 B : 텐서플로우 버젼!\n",
    "\n",
    "\n",
    "\n",
    "# Part A - B 코드로 파이썬을 익힌다 !!\n"
   ]
  },
  {
   "cell_type": "code",
   "execution_count": null,
   "metadata": {},
   "outputs": [],
   "source": []
  },
  {
   "cell_type": "code",
   "execution_count": null,
   "metadata": {},
   "outputs": [],
   "source": []
  },
  {
   "cell_type": "markdown",
   "metadata": {},
   "source": [
    "# ++++++++++++++++++++++++++++++\n",
    "\n",
    "\n",
    "# [문제] 아래 코드의 뜻을 스토리텔링 !!\n"
   ]
  },
  {
   "cell_type": "markdown",
   "metadata": {},
   "source": [
    "# 방법 1 : 파트 A: Numpy 버젼\n",
    "\n",
    "\n"
   ]
  },
  {
   "cell_type": "markdown",
   "metadata": {},
   "source": [
    "\n",
    "\n",
    "\n",
    "\n",
    "\n",
    "\n",
    "## numpy 와 matplot 라이브러리 부르기\n"
   ]
  },
  {
   "cell_type": "code",
   "execution_count": 41,
   "metadata": {},
   "outputs": [],
   "source": [
    "import numpy as np\n",
    "\n",
    "\n",
    "import matplotlib.pyplot as plt\n",
    "\n",
    "\n",
    "%matplotlib inline"
   ]
  },
  {
   "cell_type": "markdown",
   "metadata": {},
   "source": [
    "## 임의의 두 수를 만드는 Data Generation\n",
    "\n",
    "Generate the binary array less than 256."
   ]
  },
  {
   "cell_type": "code",
   "execution_count": 2,
   "metadata": {},
   "outputs": [],
   "source": [
    "BIN_DIM = 8\n",
    "INPUT_DIM = 2\n",
    "HIDDEN_DIM = 16\n",
    "OUTPUT_DIM = 1\n",
    "\n",
    "ALPHA = 0.1\n",
    "ITER_NUM = 20000\n",
    "LOG_ITER = ITER_NUM // 10\n",
    "PLOT_ITER = ITER_NUM // 200"
   ]
  },
  {
   "cell_type": "code",
   "execution_count": 5,
   "metadata": {},
   "outputs": [
    {
     "name": "stdout",
     "output_type": "stream",
     "text": [
      "[[0 0 0 ... 0 0 0]\n",
      " [0 0 0 ... 0 0 1]\n",
      " [0 0 0 ... 0 1 0]\n",
      " ...\n",
      " [1 1 1 ... 1 0 1]\n",
      " [1 1 1 ... 1 1 0]\n",
      " [1 1 1 ... 1 1 1]]\n"
     ]
    }
   ],
   "source": [
    "largest = pow(2, BIN_DIM)\n",
    "\n",
    "decimal = np.array([range(largest)]).astype(np.uint8).T\n",
    "\n",
    "binary = np.unpackbits(decimal, axis=1)\n",
    "\n",
    "#print(decimal) ==> 무엇이 될까 ?\n",
    "\n",
    "print(binary)"
   ]
  },
  {
   "cell_type": "markdown",
   "metadata": {},
   "source": [
    "# 파트 A : 넘파이로 만드는 덧셈 AI\n",
    "\n",
    "\n",
    "###    Numpy implementation of binary addition in RNN.\n",
    "\n",
    "    https://iamtrask.github.io/2015/11/15/anyone-can-code-lstm/\n",
    "\n",
    "\n"
   ]
  },
  {
   "cell_type": "markdown",
   "metadata": {},
   "source": [
    "## 각각의 두 수에 덧셈값을 대응시키는 model 만들기\n",
    "\n",
    "Prepare weight and delta values to use in the optimization process."
   ]
  },
  {
   "cell_type": "code",
   "execution_count": 8,
   "metadata": {},
   "outputs": [
    {
     "name": "stdout",
     "output_type": "stream",
     "text": [
      "(16, 16)\n",
      "[-1.43712545 -1.70632221  0.70443425  2.12440819  4.074456    0.55187473\n",
      "  1.36332517  1.58039568  3.83881483 -0.93203515 -1.70917142 -3.56366082\n",
      "  0.00887929 -0.94196886  1.48419461  3.4086354 ]\n"
     ]
    }
   ],
   "source": [
    "# weight values\n",
    "\n",
    "w0 = np.random.normal(0, 1, [INPUT_DIM, HIDDEN_DIM])\n",
    "\n",
    "w1 = np.random.normal(0, 1, [HIDDEN_DIM, OUTPUT_DIM])\n",
    "\n",
    "wh = np.random.normal(0, 2, [HIDDEN_DIM, HIDDEN_DIM])\n",
    "\n",
    "print( wh.shape )\n",
    "print(wh[0]) # 무엇 ??"
   ]
  },
  {
   "cell_type": "markdown",
   "metadata": {},
   "source": [
    "# 바로 위의 행렬을 얻는 것이 목표 (모델)\n",
    "\n",
    "## 처음에는 random 잡고, 학습을 시킨다"
   ]
  },
  {
   "cell_type": "code",
   "execution_count": 11,
   "metadata": {},
   "outputs": [
    {
     "name": "stdout",
     "output_type": "stream",
     "text": [
      "(16, 16)\n"
     ]
    }
   ],
   "source": [
    "# delta values\n",
    "\n",
    "d0 = np.zeros_like(w0)\n",
    "\n",
    "d1 = np.zeros_like(w1)\n",
    "\n",
    "dh = np.zeros_like(wh)\n",
    "\n",
    "print( dh.shape )"
   ]
  },
  {
   "cell_type": "code",
   "execution_count": 12,
   "metadata": {},
   "outputs": [],
   "source": [
    "errs = list()\n",
    "\n",
    "accs = list()\n",
    "\n",
    "error = 0\n",
    "\n",
    "accuracy = 0"
   ]
  },
  {
   "cell_type": "markdown",
   "metadata": {},
   "source": [
    "## 학습평가용 함수 만들기"
   ]
  },
  {
   "cell_type": "code",
   "execution_count": 13,
   "metadata": {},
   "outputs": [],
   "source": [
    "def sigmoid(x):\n",
    "    return 1 / (1 + np.exp(-x))\n",
    "\n",
    "\n",
    "def deriv_sigmoid(out):\n",
    "    return out * (1 - out)\n",
    "\n",
    "\n",
    "def bin2dec(b):\n",
    "    out = 0\n",
    "    for i, x in enumerate(b[::-1]):\n",
    "        out += x * pow(2, i)\n",
    "    \n",
    "    return out"
   ]
  },
  {
   "cell_type": "markdown",
   "metadata": {},
   "source": [
    "# 위: 에러를 줄이는데 쓰는 함수\n",
    "\n",
    "# 아래: 모델 행렬 최적화하기 !!"
   ]
  },
  {
   "cell_type": "markdown",
   "metadata": {},
   "source": [
    "## 학습 (Training)\n",
    "\n",
    "Training binary addition in RNN with Backpropagation Through Time."
   ]
  },
  {
   "cell_type": "code",
   "execution_count": 14,
   "metadata": {},
   "outputs": [
    {
     "name": "stdout",
     "output_type": "stream",
     "text": [
      "Iter 0\n",
      "Error : [5.01646021]\n",
      "Pred : [0 0 0 0 0 0 0 0]\n",
      "True : [1 1 0 1 1 1 0 1]\n",
      "105 + 116 = 0\n",
      "----------\n",
      "Iter 2000\n",
      "Error : [2.88604484]\n",
      "Pred : [1 0 1 0 1 0 1 0]\n",
      "True : [1 0 1 0 1 0 1 0]\n",
      "103 + 67 = 170\n",
      "----------\n",
      "Iter 4000\n",
      "Error : [1.59448001]\n",
      "Pred : [0 1 1 0 1 1 1 1]\n",
      "True : [0 1 1 0 1 1 1 1]\n",
      "26 + 85 = 111\n",
      "----------\n",
      "Iter 6000\n",
      "Error : [0.47319317]\n",
      "Pred : [0 1 1 1 0 1 0 0]\n",
      "True : [0 1 1 1 0 1 0 0]\n",
      "60 + 56 = 116\n",
      "----------\n",
      "Iter 8000\n",
      "Error : [0.37302183]\n",
      "Pred : [1 0 0 1 1 0 1 1]\n",
      "True : [1 0 0 1 1 0 1 1]\n",
      "87 + 68 = 155\n",
      "----------\n",
      "Iter 10000\n",
      "Error : [0.28312419]\n",
      "Pred : [1 1 0 0 0 1 0 1]\n",
      "True : [1 1 0 0 0 1 0 1]\n",
      "115 + 82 = 197\n",
      "----------\n",
      "Iter 12000\n",
      "Error : [0.34119088]\n",
      "Pred : [1 0 1 0 0 1 0 0]\n",
      "True : [1 0 1 0 0 1 0 0]\n",
      "124 + 40 = 164\n",
      "----------\n",
      "Iter 14000\n",
      "Error : [0.23869753]\n",
      "Pred : [1 1 0 1 0 0 0 1]\n",
      "True : [1 1 0 1 0 0 0 1]\n",
      "125 + 84 = 209\n",
      "----------\n",
      "Iter 16000\n",
      "Error : [0.17723566]\n",
      "Pred : [0 1 1 1 0 0 0 1]\n",
      "True : [0 1 1 1 0 0 0 1]\n",
      "92 + 21 = 113\n",
      "----------\n",
      "Iter 18000\n",
      "Error : [0.23323396]\n",
      "Pred : [1 0 0 0 0 0 1 0]\n",
      "True : [1 0 0 0 0 0 1 0]\n",
      "14 + 116 = 130\n",
      "----------\n",
      "Iter 20000\n",
      "Error : [0.16922046]\n",
      "Pred : [0 1 0 1 1 1 0 0]\n",
      "True : [0 1 0 1 1 1 0 0]\n",
      "8 + 84 = 92\n",
      "----------\n"
     ]
    }
   ],
   "source": [
    "for i in range(ITER_NUM + 1):\n",
    "    # 2만번 학습을 한다 \n",
    "    \n",
    "    # 문제 만들기 : a + b = c\n",
    "    a_dec = np.random.randint(largest / 2)\n",
    "    b_dec = np.random.randint(largest / 2)\n",
    "    c_dec = a_dec + b_dec\n",
    "    \n",
    "    \n",
    "    a_bin = binary[a_dec]\n",
    "    b_bin = binary[b_dec]\n",
    "    c_bin = binary[c_dec]\n",
    "    \n",
    "    pred = np.zeros_like(c_bin)\n",
    "    # prediction 답 \n",
    "    \n",
    "    overall_err = 0 \n",
    "    # total error in the whole calculation process.\n",
    "    \n",
    "    output_deltas = list()\n",
    "    hidden_values = list()\n",
    "    hidden_values.append(np.zeros(HIDDEN_DIM))\n",
    "    \n",
    "    future_delta = np.zeros(HIDDEN_DIM)\n",
    "    \n",
    "    \n",
    "    \n",
    "    ###############################################################\n",
    "    # forward propagation\n",
    "    for pos in range(BIN_DIM)[::-1]:\n",
    "        X = np.array([[a_bin[pos], b_bin[pos]]]) # shape=(1, 2)\n",
    "        Y = np.array([[c_bin[pos]]]) # shape=(1, 1)\n",
    "        \n",
    "        hidden = sigmoid(np.dot(X, w0) + np.dot(hidden_values[-1], wh))\n",
    "        output = sigmoid(np.dot(hidden, w1))\n",
    "        \n",
    "        pred[pos] = np.round(output[0][0])\n",
    "        \n",
    "        # squared mean error\n",
    "        output_err = Y - output\n",
    "        output_deltas.append(output_err * deriv_sigmoid(output))\n",
    "        hidden_values.append(hidden)\n",
    "        \n",
    "        overall_err += np.abs(output_err[0])\n",
    "    #########################################################    \n",
    "        \n",
    "    \n",
    "    #########################################################\n",
    "    # backpropagation through time\n",
    "    for pos in range(BIN_DIM):\n",
    "        X = np.array([[a_bin[pos], b_bin[pos]]])\n",
    "        \n",
    "        hidden = hidden_values[-(pos + 1)]\n",
    "        prev_hidden = hidden_values[-(pos + 2)]\n",
    "        \n",
    "        output_delta = output_deltas[-(pos + 1)]\n",
    "        hidden_delta = (np.dot(future_delta, wh.T) + np.dot(output_delta, w1.T)) * deriv_sigmoid(hidden)\n",
    "        \n",
    "        d1 += np.dot(np.atleast_2d(hidden).T, output_delta)\n",
    "        dh += np.dot(np.atleast_2d(prev_hidden).T, hidden_delta)\n",
    "        d0 += np.dot(X.T, hidden_delta)\n",
    "\n",
    "        future_delta = hidden_delta     \n",
    "    ##########################################################\n",
    "    \n",
    "    \n",
    "    \n",
    "    \n",
    "    \n",
    "    w1 += ALPHA * d1\n",
    "    w0 += ALPHA * d0\n",
    "    wh += ALPHA * dh\n",
    "    \n",
    "    \n",
    "    d1 *= 0\n",
    "    d0 *= 0\n",
    "    dh *= 0\n",
    "    \n",
    "    ###################\n",
    "    # 핼렬교정 . 테스트\n",
    "    ###################\n",
    "    \n",
    "    error += overall_err\n",
    "    ### 에러 ###########\n",
    "    \n",
    "    \n",
    "    if (bin2dec(pred) == c_dec):\n",
    "        accuracy += 1\n",
    "        \n",
    "    if (i % PLOT_ITER == 0):\n",
    "        errs.append(error / PLOT_ITER)\n",
    "        accs.append(accuracy / PLOT_ITER)\n",
    "        \n",
    "        error = 0\n",
    "        accuracy = 0\n",
    "    \n",
    "    if (i % LOG_ITER == 0):\n",
    "        print('Iter', i)\n",
    "        print(\"Error :\", overall_err)\n",
    "        print(\"Pred :\", pred)\n",
    "        print(\"True :\", c_bin)\n",
    "        print(a_dec, \"+\", b_dec, \"=\", bin2dec(pred))\n",
    "        print('----------')\n",
    "        "
   ]
  },
  {
   "cell_type": "markdown",
   "metadata": {},
   "source": [
    "## 학습의 평가"
   ]
  },
  {
   "cell_type": "code",
   "execution_count": 15,
   "metadata": {},
   "outputs": [
    {
     "data": {
      "text/plain": [
       "<matplotlib.legend.Legend at 0x1994df3ca90>"
      ]
     },
     "execution_count": 15,
     "metadata": {},
     "output_type": "execute_result"
    },
    {
     "data": {
      "image/png": "[encoded data removed]",
      "text/plain": [
       "<Figure size 432x288 with 1 Axes>"
      ]
     },
     "metadata": {
      "needs_background": "light"
     },
     "output_type": "display_data"
    }
   ],
   "source": [
    "plt.plot(errs, label='error')\n",
    "plt.plot(accs, label='accuracy')\n",
    "plt.legend()"
   ]
  },
  {
   "cell_type": "code",
   "execution_count": null,
   "metadata": {},
   "outputs": [],
   "source": []
  },
  {
   "cell_type": "markdown",
   "metadata": {},
   "source": [
    "# ================================"
   ]
  },
  {
   "cell_type": "code",
   "execution_count": null,
   "metadata": {},
   "outputs": [],
   "source": []
  },
  {
   "cell_type": "markdown",
   "metadata": {},
   "source": [
    "# 방법 2 : Part B  : 텐서플로우로 만드는 덧셈 AI"
   ]
  },
  {
   "cell_type": "code",
   "execution_count": null,
   "metadata": {},
   "outputs": [],
   "source": []
  },
  {
   "cell_type": "markdown",
   "metadata": {},
   "source": [
    "# 텐서플로우 1.0 코딩으로 만드는 덧셈 인공지능\n"
   ]
  },
  {
   "cell_type": "markdown",
   "metadata": {},
   "source": [
    "## 설치된 버젼이 2.0 이기에 import tensorflow.compat.v1  as tf"
   ]
  },
  {
   "cell_type": "markdown",
   "metadata": {},
   "source": [
    "### 텐서플로우와 sklearn 과 넘파이 부르기"
   ]
  },
  {
   "cell_type": "code",
   "execution_count": null,
   "metadata": {},
   "outputs": [],
   "source": [
    "\n",
    "import tensorflow.compat.v1  as tf\n",
    "\n",
    "tf.disable_eager_execution()\n",
    "#RuntimeError: tf.placeholder() is not compatible with eager execution.\n",
    "#import tensorflow as tf\n",
    "\n",
    "#from tensorflow.contrib.rnn import GRUCell\n",
    "from tensorflow.compat.v1.nn import rnn_cell as rnn\n",
    "\n",
    "####################################################\n",
    "\n",
    "from sklearn.model_selection import train_test_split\n",
    "from sklearn.utils import shuffle\n",
    "\n",
    "import numpy as np\n",
    "\n"
   ]
  },
  {
   "cell_type": "markdown",
   "metadata": {},
   "source": [
    "\n",
    "### inference() , loss() , training()  함수 만들기\n"
   ]
  },
  {
   "cell_type": "code",
   "execution_count": 37,
   "metadata": {},
   "outputs": [],
   "source": [
    "\n",
    "\n",
    "\n",
    "def inference(x, y, n_batch, is_training,\n",
    "              input_digits=None, output_digits=None,\n",
    "              n_hidden=None, n_out=None):\n",
    "    def weight_variable(shape):\n",
    "        initial = tf.truncated_normal(shape, stddev=0.01)\n",
    "        return tf.Variable(initial)\n",
    "\n",
    "    def bias_variable(shape):\n",
    "        initial = tf.zeros(shape, dtype=tf.float32)\n",
    "        return tf.Variable(initial)\n",
    "\n",
    "    # Encoder\n",
    "    encoder = rnn.BasicLSTMCell(n_hidden, forget_bias=1.0)\n",
    "    state = encoder.zero_state(n_batch, tf.float32)\n",
    "    encoder_outputs = []\n",
    "    encoder_states = []\n",
    "\n",
    "    with tf.variable_scope('Encoder'):\n",
    "        for t in range(input_digits):\n",
    "            if t > 0:\n",
    "                tf.get_variable_scope().reuse_variables()\n",
    "            (output, state) = encoder(x[:, t, :], state)\n",
    "            encoder_outputs.append(output)\n",
    "            encoder_states.append(state)\n",
    "\n",
    "    # Decoder\n",
    "    decoder = rnn.BasicLSTMCell(n_hidden, forget_bias=1.0)\n",
    "    state = encoder_states[-1]\n",
    "    decoder_outputs = [encoder_outputs[-1]]\n",
    "\n",
    "    # 출력층의 웨이트와 바이어스를 미리 정의해둔다\n",
    "    V = weight_variable([n_hidden, n_out])\n",
    "    c = bias_variable([n_out])\n",
    "    outputs = []\n",
    "\n",
    "    with tf.variable_scope('Decoder'):\n",
    "        for t in range(1, output_digits):\n",
    "            if t > 1:\n",
    "                tf.get_variable_scope().reuse_variables()\n",
    "\n",
    "            if is_training is True:\n",
    "                (output, state) = decoder(y[:, t-1, :], state)\n",
    "            else:\n",
    "                # 직전의 출력을 입력으로 사용한다\n",
    "                linear = tf.matmul(decoder_outputs[-1], V) + c\n",
    "                out = tf.nn.softmax(linear)\n",
    "                outputs.append(out)\n",
    "                out = tf.one_hot(tf.argmax(out, -1), depth=output_digits)\n",
    "                (output, state) = decoder(out, state)\n",
    "\n",
    "            decoder_outputs.append(output)\n",
    "\n",
    "    if is_training is True:\n",
    "        output = tf.reshape(tf.concat(decoder_outputs, axis=1),\n",
    "                            [-1, output_digits, n_hidden])\n",
    "\n",
    "        linear = tf.einsum('ijk,kl->ijl', output, V) + c\n",
    "        # linear = tf.matmul(output, V) + c\n",
    "        return tf.nn.softmax(linear)\n",
    "    else:\n",
    "        # 마지막 출력을 구한다\n",
    "        linear = tf.matmul(decoder_outputs[-1], V) + c\n",
    "        out = tf.nn.softmax(linear)\n",
    "        outputs.append(out)\n",
    "\n",
    "        output = tf.reshape(tf.concat(outputs, axis=1),\n",
    "                            [-1, output_digits, n_out])\n",
    "        return output\n"
   ]
  },
  {
   "cell_type": "code",
   "execution_count": 2,
   "metadata": {},
   "outputs": [],
   "source": [
    "# losss\n",
    "\n",
    "def loss(y, t):\n",
    "    cross_entropy = \\\n",
    "        tf.reduce_mean(-tf.reduce_sum(\n",
    "                       t * tf.log(tf.clip_by_value(y, 1e-10, 1.0)),\n",
    "                       reduction_indices=[1]))\n",
    "    return cross_entropy\n",
    "\n",
    "# training\n",
    "\n",
    "def training(loss):\n",
    "    optimizer = \\\n",
    "        tf.train.AdamOptimizer(learning_rate=0.001, beta1=0.9, beta2=0.999)\n",
    "    train_step = optimizer.minimize(loss)\n",
    "    return train_step\n",
    "\n",
    "\n",
    "# accuracy\n",
    "\n",
    "\n",
    "def accuracy(y, t):\n",
    "    correct_prediction = tf.equal(tf.argmax(y, -1), tf.argmax(t, -1))\n",
    "    accuracy = tf.reduce_mean(tf.cast(correct_prediction, tf.float32))\n",
    "    return accuracy\n",
    "\n"
   ]
  },
  {
   "cell_type": "markdown",
   "metadata": {},
   "source": [
    "## 덧셈 뉴럴네트워크 학습시키기 "
   ]
  },
  {
   "cell_type": "code",
   "execution_count": 38,
   "metadata": {},
   "outputs": [
    {
     "name": "stdout",
     "output_type": "stream",
     "text": [
      "Epoch: 0\n",
      "validation loss: 0.60500246  validation acc:  0.350875\n",
      "Q:   56+579  ==  111   T/F:  F\n",
      "----------\n",
      "Epoch: 10\n",
      "validation loss: 0.50476736  validation acc:  0.437375\n",
      "Q:   807+1   ==  881   T/F:  F\n",
      "----------\n",
      "Epoch: 20\n",
      "validation loss: 0.4103484  validation acc:  0.53875\n",
      "Q:   56+450  ==  517   T/F:  F\n",
      "----------\n",
      "Epoch: 30\n",
      "validation loss: 0.34449187  validation acc:  0.611375\n",
      "Q:   766+71  ==  847   T/F:  F\n",
      "----------\n",
      "Epoch: 40\n",
      "validation loss: 0.25000912  validation acc:  0.71175\n",
      "Q:   26+964  ==  990   T/F:  T\n",
      "----------\n",
      "Epoch: 50\n",
      "validation loss: 0.17044547  validation acc:  0.81425\n",
      "Q:   502+1   ==  503   T/F:  T\n",
      "----------\n",
      "Epoch: 60\n",
      "validation loss: 0.12936434  validation acc:  0.860125\n",
      "Q:   780+29  ==  809   T/F:  T\n",
      "----------\n",
      "Epoch: 70\n",
      "validation loss: 0.10709395  validation acc:  0.8855\n",
      "Q:   95+38   ==  133   T/F:  T\n",
      "----------\n",
      "Epoch: 80\n",
      "validation loss: 0.09231016  validation acc:  0.901\n",
      "Q:   8+465   ==  473   T/F:  T\n",
      "----------\n",
      "Epoch: 90\n",
      "validation loss: 0.08404567  validation acc:  0.90775\n",
      "Q:   47+329  ==  376   T/F:  T\n",
      "----------\n",
      "Epoch: 100\n",
      "validation loss: 0.07819431  validation acc:  0.922375\n",
      "Q:   327+261 ==  588   T/F:  T\n",
      "----------\n"
     ]
    }
   ],
   "source": [
    "##########################################################\n",
    "\n",
    "history = {\n",
    "        'val_loss': [],\n",
    "        'val_acc': []\n",
    "}\n",
    "\n",
    "\n",
    "\n",
    "np.random.seed(0)\n",
    "\n",
    "tf.set_random_seed(1234)\n",
    "\n",
    "\n",
    "##########################################################\n",
    "\n",
    "\n",
    "\n",
    "if __name__ == '__main__':\n",
    "    (\n",
    "    tf.reset_default_graph()\n",
    "    \n",
    "    def n(digits=3):\n",
    "        number = ''\n",
    "        for i in range(np.random.randint(1, digits + 1)):\n",
    "            number += np.random.choice(list('0123456789'))\n",
    "        return int(number)\n",
    "\n",
    "    def padding(chars, maxlen):\n",
    "        return chars + ' ' * (maxlen - len(chars))\n",
    "\n",
    "    '''\n",
    "    데이터를 생성한다\n",
    "    '''\n",
    "    N = 20000\n",
    "    N_train = int(N * 0.9)\n",
    "    N_validation = N - N_train\n",
    "\n",
    "    digits = 3  # 최대 자릿수\n",
    "    input_digits = digits * 2 + 1  # 예： 1234+5678\n",
    "    output_digits = digits + 1  # 500+500 = 1000 이상이면 4자리가 된다\n",
    "\n",
    "    added = set()\n",
    "    questions = []\n",
    "    answers = []\n",
    "\n",
    "    while len(questions) < N:\n",
    "        a, b = n(), n()  # 두 개의 수를 적당히 생성한다\n",
    "\n",
    "        pair = tuple(sorted((a, b)))\n",
    "        if pair in added:\n",
    "            continue\n",
    "\n",
    "        question = '{}+{}'.format(a, b)\n",
    "        question = padding(question, input_digits)\n",
    "        answer = str(a + b)\n",
    "        answer = padding(answer, output_digits)\n",
    "\n",
    "        added.add(pair)\n",
    "        questions.append(question)\n",
    "        answers.append(answer)\n",
    "\n",
    "    chars = '0123456789+ '\n",
    "    char_indices = dict((c, i) for i, c in enumerate(chars))\n",
    "    indices_char = dict((i, c) for i, c in enumerate(chars))\n",
    "\n",
    "    X = np.zeros((len(questions), input_digits, len(chars)), dtype=np.integer)\n",
    "    Y = np.zeros((len(questions), digits + 1, len(chars)), dtype=np.integer)\n",
    "\n",
    "    for i in range(N):\n",
    "        for t, char in enumerate(questions[i]):\n",
    "            X[i, t, char_indices[char]] = 1\n",
    "        for t, char in enumerate(answers[i]):\n",
    "            Y[i, t, char_indices[char]] = 1\n",
    "\n",
    "    X_train, X_validation, Y_train, Y_validation = \\\n",
    "        train_test_split(X, Y, train_size=N_train)\n",
    "\n",
    "    '''\n",
    "    모델을 설정한다\n",
    "    '''\n",
    "    n_in = len(chars)  # 12\n",
    "    n_hidden = 128\n",
    "    n_out = len(chars)  # 12\n",
    "\n",
    "    x = tf.placeholder(tf.float32, shape=[None, input_digits, n_in])\n",
    "    t = tf.placeholder(tf.float32, shape=[None, output_digits, n_out])\n",
    "    n_batch = tf.placeholder(tf.int32, shape=[])\n",
    "    is_training = tf.placeholder(tf.bool)\n",
    "    \n",
    "    \n",
    "    \n",
    "    \n",
    "    #####  inference() , loss() , training()  #######\n",
    "\n",
    "    y = inference(x, t, n_batch, is_training,\n",
    "                  input_digits=input_digits,\n",
    "                  output_digits=output_digits,\n",
    "                  n_hidden=n_hidden, n_out=n_out)\n",
    "    \n",
    "    loss = loss(y, t)\n",
    "    # 다시하면 loss 에러\n",
    "    \n",
    "    train_step = training(loss)\n",
    "    \n",
    "    \n",
    "    acc = accuracy(y, t)\n",
    "    # 평가 \n",
    "    \n",
    "    ##################################################\n",
    "    \n",
    "  \n",
    "    '''\n",
    "    모델을 학습시킨다\n",
    "    '''\n",
    "    epochs = 101 #200\n",
    "    batch_size = 200\n",
    "\n",
    "    init = tf.global_variables_initializer()\n",
    "    sess = tf.Session()\n",
    "    sess.run(init)\n",
    "\n",
    "    n_batches = N_train // batch_size\n",
    "    \n",
    "    \n",
    "    #########################################################\n",
    "\n",
    "    for epoch in range(epochs):\n",
    "        \n",
    "        X_, Y_ = shuffle(X_train, Y_train)\n",
    "\n",
    "        for i in range(n_batches):\n",
    "            start = i * batch_size\n",
    "            end = start + batch_size\n",
    "\n",
    "            sess.run(train_step, feed_dict={\n",
    "                x: X_[start:end],\n",
    "                t: Y_[start:end],\n",
    "                n_batch: batch_size,\n",
    "                is_training: True\n",
    "            })\n",
    "\n",
    "        # 검증 데이터를 사용해서 평가한다\n",
    "        if epoch%10 ==0 :\n",
    "            \n",
    "            #print('=' * 10)\n",
    "            print('Epoch:', epoch)\n",
    "            #print('=' * 10)\n",
    "\n",
    "\n",
    "            val_loss = loss.eval(session=sess, feed_dict={\n",
    "            x: X_validation,\n",
    "            t: Y_validation,\n",
    "            n_batch: N_validation,\n",
    "            is_training: False\n",
    "                })\n",
    "            \n",
    "            val_acc = acc.eval(session=sess, feed_dict={\n",
    "            x: X_validation,\n",
    "            t: Y_validation,\n",
    "            n_batch: N_validation,\n",
    "            is_training: False\n",
    "                })\n",
    "\n",
    "            history['val_loss'].append(val_loss)\n",
    "            history['val_acc'].append(val_acc)\n",
    "            print('validation loss:', val_loss, ' validation acc: ', val_acc)\n",
    "\n",
    "            # 검증 데이터에서 무작위로 문제를 선택해서 답을 맞춘다\n",
    "            # if epoch%10==0 : # or i in range(1):\n",
    "        \n",
    "            index = np.random.randint(0, N_validation)\n",
    "            question = X_validation[np.array([index])]\n",
    "            answer = Y_validation[np.array([index])]\n",
    "            prediction = y.eval(session=sess, feed_dict={\n",
    "                x: question,\n",
    "                # t: answer,\n",
    "                n_batch: 1,\n",
    "                is_training: False\n",
    "            })\n",
    "            question = question.argmax(axis=-1)\n",
    "            answer = answer.argmax(axis=-1)\n",
    "            prediction = np.argmax(prediction, -1)\n",
    "\n",
    "            q = ''.join(indices_char[i] for i in question[0])\n",
    "            a = ''.join(indices_char[i] for i in answer[0])\n",
    "            p = ''.join(indices_char[i] for i in prediction[0])\n",
    "\n",
    "            \n",
    "            print('Q:  ', q , '== ', p, ' T/F: ', end=' ')\n",
    "            #print('A:  ', p)\n",
    "            #print('T/F:', end=' ')\n",
    "            if a == p:\n",
    "                print('T')\n",
    "            else:\n",
    "                print('F')\n",
    "                \n",
    "            print('-' * 10 )\n",
    "                \n",
    "        # print('-' * 10)"
   ]
  },
  {
   "cell_type": "markdown",
   "metadata": {},
   "source": [
    "## 학습의 평가"
   ]
  },
  {
   "cell_type": "code",
   "execution_count": 39,
   "metadata": {},
   "outputs": [
    {
     "name": "stdout",
     "output_type": "stream",
     "text": [
      "[0.350875, 0.437375, 0.53875, 0.611375, 0.71175, 0.81425, 0.860125, 0.8855, 0.901, 0.90775, 0.922375]\n"
     ]
    }
   ],
   "source": [
    "print( history['val_acc'] )"
   ]
  },
  {
   "cell_type": "code",
   "execution_count": 40,
   "metadata": {},
   "outputs": [
    {
     "data": {
      "image/png": "[encoded data removed]",
      "text/plain": [
       "<Figure size 432x288 with 1 Axes>"
      ]
     },
     "metadata": {
      "needs_background": "light"
     },
     "output_type": "display_data"
    }
   ],
   "source": [
    "# summarize history for accuracy\n",
    "plt.plot(history['val_acc'])\n",
    "# plt.plot(history.history['val_accuracy'])\n",
    "plt.title('model accuracy')\n",
    "plt.ylabel('accuracy')\n",
    "plt.xlabel('epochs')\n",
    "#plt.legend(['train', 'test'], loc='upper left')\n",
    "# plt.show()\n",
    "\n",
    "\n",
    "# summarize history for loss\n",
    "plt.plot(history['val_loss'])\n",
    "#plt.plot(history.history['val_loss'])\n",
    "#plt.title('model loss')\n",
    "#plt.ylabel('loss')\n",
    "#plt.xlabel('epoch')\n",
    "plt.legend(['val_acc', 'val_loss'], loc='upper left')\n",
    "plt.show()"
   ]
  },
  {
   "cell_type": "code",
   "execution_count": null,
   "metadata": {},
   "outputs": [],
   "source": []
  },
  {
   "cell_type": "markdown",
   "metadata": {},
   "source": [
    "# +++++++++++++++++++++++++++\n",
    "\n",
    "\n",
    "# 텐서플로 2.0 버젼으로 바꾸기 ????\n",
    "\n",
    "\n",
    "\n",
    "# +++++++++++++++++++++++++++ "
   ]
  },
  {
   "cell_type": "code",
   "execution_count": null,
   "metadata": {},
   "outputs": [],
   "source": []
  },
  {
   "cell_type": "code",
   "execution_count": null,
   "metadata": {},
   "outputs": [],
   "source": []
  }
 ],
 "metadata": {
  "kernelspec": {
   "display_name": "Python 3",
   "language": "python",
   "name": "python3"
  },
  "language_info": {
   "codemirror_mode": {
    "name": "ipython",
    "version": 3
   },
   "file_extension": ".py",
   "mimetype": "text/x-python",
   "name": "python",
   "nbconvert_exporter": "python",
   "pygments_lexer": "ipython3",
   "version": "3.7.2"
  }
 },
 "nbformat": 4,
 "nbformat_minor": 2
}
