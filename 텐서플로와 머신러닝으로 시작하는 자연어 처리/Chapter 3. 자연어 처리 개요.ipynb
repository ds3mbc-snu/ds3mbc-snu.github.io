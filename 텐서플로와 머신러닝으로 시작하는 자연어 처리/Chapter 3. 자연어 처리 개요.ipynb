{
 "cells": [
  {
   "cell_type": "markdown",
   "metadata": {},
   "source": [
    "# 1. 단어 표현\n",
    "아스키/유니코드 → 언어적 특성 유실  \n",
    "단어 표현(단어 임베딩/단어 벡터): 언어적인 특성을 반영하여 단어를 수치화(벡터화)"
   ]
  },
  {
   "cell_type": "markdown",
   "metadata": {},
   "source": [
    "## 원-핫 인코딩(one-hot encoding)\n",
    "- 어떤 단어인지 알려주는 인덱스만 1, 나머지는 다 0.\n",
    "- 장점\n",
    "    - 방법 자체가 매우 간단하며 이해하기 쉬움\n",
    "- 단점\n",
    "    - 단어 벡터의 크기가 커질수록 너무 sparse하게 됨\n",
    "    - 벡터값 자체에 단어의 의미나 특성 같은 것들이 전혀 표현되지 않음"
   ]
  },
  {
   "cell_type": "markdown",
   "metadata": {},
   "source": [
    "## 카운트 기반(count-base)\n",
    "- 어떤 글의 문맥 안에 단어가 동시에 등장하는 횟수(Co-occurrence)를 세는 방법\n",
    "- 동시 등장 횟수를 하나의 행렬로 나타낸 뒤 그 행렬을 수치화해서 단어벡터로 만듦\n",
    "    - Singular Value Decomposition\n",
    "    - Latent Semantic Analysis\n",
    "    - Hyperspace Analogue to Language\n",
    "    - Hellinger PCA\n",
    "    - 위 방법들 모두 동시 출현 행렬(Co-occurrence matrix)를 만들고 그 행렬들을 변형하는 방식.\n",
    "- 데이터가 많을 경우에도 단어가 잘 표현되고 빠르고 효율적임."
   ]
  },
  {
   "cell_type": "markdown",
   "metadata": {},
   "source": [
    "## 예측 방법(predictive)\n",
    "- 모델(신경망 구조 등)을 사용해 특정 문맥에서 어떤 단어가 나올지를 예측하면서 단어를 벡터로 만드는 방식.\n",
    "    - Word2vec\n",
    "    - Neural Network Language Model\n",
    "    - Recurrent Neural Network Language Model\n",
    "- Word2vec\n",
    "    - CBOW: 어떤 단어를 문맥 안의 주변 단어들을 통해 예측하는 방법\n",
    "         - 각 주변 단어들을 원-핫 벡터로 만들어 입력값으로 사용(입력층 벡터)\n",
    "         - 가중치 행렬을 각 원-핫 벡터에 곱해서 n-차원 벡터를 만듦(N-차원 은닉층)\n",
    "         - 만들어진 n-차원 벡터를 모두 더한 후 개수로 나눠 평균 n-차원 벡터를 만듦(출력층 벡터)\n",
    "         - n-차원 벡터에 다시 가중치 행렬을 곱해서 원-핫 벡터와 같은 차원의 벡터로 만듦\n",
    "         - 만들어진 벡터를 실제 예측하려고 하는 단어의 원-핫 벡터와 비교해서 학습\n",
    "    - Skip-Gram: 어떤 단어를 가지고 특정 문맥 안의 주변 단어들을 예측하는 방법\n",
    "        - 하나의 단어를 원-핫 벡터로 만들어서 입력값으로 사용(입력층 벡터)\n",
    "        - 가중치 행렬을 원-핫 벡터에 곱해서 n-차원 벡터를 만듦(N-차원 은닉층)\n",
    "        - n-차원 벡터에 다시 가중치 행렬을 곱해서 원-핫 벡터와 같은 차원의 벡터로 만듦(출력층 벡터)\n",
    "        - 만들어진 벡터를 실제 예측하려는 주변 단어들 각각의 원-핫 벡터와 비교해서 학습\n",
    "    - 학습 종료 후 가중치 행렬의 각 행을 단어벡터로 사용\n",
    "    - 장점\n",
    "        - 단어 간의 유사도 측정이 잘됨\n",
    "        - 단어들의 복잡한 특징까지 잘 잡아냄\n",
    "        - 서로에게 유의미한 관계를 측정 가능"
   ]
  },
  {
   "cell_type": "markdown",
   "metadata": {},
   "source": [
    "# 2. 텍스트 분류"
   ]
  },
  {
   "cell_type": "code",
   "execution_count": null,
   "metadata": {},
   "outputs": [],
   "source": []
  }
 ],
 "metadata": {
  "kernelspec": {
   "display_name": "Python 3",
   "language": "python",
   "name": "python3"
  },
  "language_info": {
   "codemirror_mode": {
    "name": "ipython",
    "version": 3
   },
   "file_extension": ".py",
   "mimetype": "text/x-python",
   "name": "python",
   "nbconvert_exporter": "python",
   "pygments_lexer": "ipython3",
   "version": "3.7.2"
  }
 },
 "nbformat": 4,
 "nbformat_minor": 4
}
