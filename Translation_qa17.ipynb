{
 "cells": [
  {
   "cell_type": "code",
   "execution_count": 1,
   "metadata": {},
   "outputs": [],
   "source": [
    "import re\n",
    "\n",
    "def data_sequencing(path):\n",
    "    data=[]\n",
    "    with open(path,'r') as f:\n",
    "        for line in f.readlines():\n",
    "            line=line.strip()\n",
    "            index,context=line.split(' ', 1)\n",
    "            if '\\t' in line:\n",
    "                query,answer,supporting=context.split('\\t')\n",
    "                data.append([index,query,answer,supporting])\n",
    "            else:\n",
    "                data.append([index,context,'',''])\n",
    "    return data"
   ]
  },
  {
   "cell_type": "code",
   "execution_count": 2,
   "metadata": {},
   "outputs": [],
   "source": [
    "train_data=data_sequencing('../bAbI/tasks_1-20_v1-2/en/qa17_positional-reasoning_train.txt')\n",
    "test_data=data_sequencing('../bAbI/tasks_1-20_v1-2/en/qa17_positional-reasoning_test.txt')"
   ]
  },
  {
   "cell_type": "code",
   "execution_count": 3,
   "metadata": {},
   "outputs": [
    {
     "data": {
      "text/html": [
       "<div>\n",
       "<style scoped>\n",
       "    .dataframe tbody tr th:only-of-type {\n",
       "        vertical-align: middle;\n",
       "    }\n",
       "\n",
       "    .dataframe tbody tr th {\n",
       "        vertical-align: top;\n",
       "    }\n",
       "\n",
       "    .dataframe thead th {\n",
       "        text-align: right;\n",
       "    }\n",
       "</style>\n",
       "<table border=\"1\" class=\"dataframe\">\n",
       "  <thead>\n",
       "    <tr style=\"text-align: right;\">\n",
       "      <th></th>\n",
       "      <th>Index</th>\n",
       "      <th>Query</th>\n",
       "      <th>Answer</th>\n",
       "      <th>Supporting</th>\n",
       "    </tr>\n",
       "  </thead>\n",
       "  <tbody>\n",
       "    <tr>\n",
       "      <th>0</th>\n",
       "      <td>1</td>\n",
       "      <td>The pink rectangle is to the left of the trian...</td>\n",
       "      <td></td>\n",
       "      <td></td>\n",
       "    </tr>\n",
       "    <tr>\n",
       "      <th>1</th>\n",
       "      <td>2</td>\n",
       "      <td>The triangle is to the left of the red square.</td>\n",
       "      <td></td>\n",
       "      <td></td>\n",
       "    </tr>\n",
       "    <tr>\n",
       "      <th>2</th>\n",
       "      <td>3</td>\n",
       "      <td>Is the pink rectangle to the right of the red ...</td>\n",
       "      <td>no</td>\n",
       "      <td>1 2</td>\n",
       "    </tr>\n",
       "    <tr>\n",
       "      <th>3</th>\n",
       "      <td>4</td>\n",
       "      <td>Is the pink rectangle to the left of the red s...</td>\n",
       "      <td>yes</td>\n",
       "      <td>1 2</td>\n",
       "    </tr>\n",
       "    <tr>\n",
       "      <th>4</th>\n",
       "      <td>5</td>\n",
       "      <td>Is the pink rectangle to the left of the red s...</td>\n",
       "      <td>yes</td>\n",
       "      <td>1 2</td>\n",
       "    </tr>\n",
       "    <tr>\n",
       "      <th>5</th>\n",
       "      <td>6</td>\n",
       "      <td>Is the pink rectangle to the left of the red s...</td>\n",
       "      <td>yes</td>\n",
       "      <td>1 2</td>\n",
       "    </tr>\n",
       "    <tr>\n",
       "      <th>6</th>\n",
       "      <td>7</td>\n",
       "      <td>Is the pink rectangle to the right of the red ...</td>\n",
       "      <td>no</td>\n",
       "      <td>1 2</td>\n",
       "    </tr>\n",
       "    <tr>\n",
       "      <th>7</th>\n",
       "      <td>8</td>\n",
       "      <td>Is the red square to the right of the pink rec...</td>\n",
       "      <td>yes</td>\n",
       "      <td>2 1</td>\n",
       "    </tr>\n",
       "    <tr>\n",
       "      <th>8</th>\n",
       "      <td>9</td>\n",
       "      <td>Is the pink rectangle to the left of the red s...</td>\n",
       "      <td>yes</td>\n",
       "      <td>1 2</td>\n",
       "    </tr>\n",
       "    <tr>\n",
       "      <th>9</th>\n",
       "      <td>10</td>\n",
       "      <td>Is the pink rectangle to the left of the red s...</td>\n",
       "      <td>yes</td>\n",
       "      <td>1 2</td>\n",
       "    </tr>\n",
       "  </tbody>\n",
       "</table>\n",
       "</div>"
      ],
      "text/plain": [
       "  Index                                              Query Answer Supporting\n",
       "0     1  The pink rectangle is to the left of the trian...                  \n",
       "1     2     The triangle is to the left of the red square.                  \n",
       "2     3  Is the pink rectangle to the right of the red ...     no        1 2\n",
       "3     4  Is the pink rectangle to the left of the red s...    yes        1 2\n",
       "4     5  Is the pink rectangle to the left of the red s...    yes        1 2\n",
       "5     6  Is the pink rectangle to the left of the red s...    yes        1 2\n",
       "6     7  Is the pink rectangle to the right of the red ...     no        1 2\n",
       "7     8  Is the red square to the right of the pink rec...    yes        2 1\n",
       "8     9  Is the pink rectangle to the left of the red s...    yes        1 2\n",
       "9    10  Is the pink rectangle to the left of the red s...    yes        1 2"
      ]
     },
     "execution_count": 3,
     "metadata": {},
     "output_type": "execute_result"
    }
   ],
   "source": [
    "import pandas as pd\n",
    "\n",
    "df_train=pd.DataFrame(train_data,columns=['Index','Query','Answer','Supporting'])\n",
    "df_test=pd.DataFrame(test_data,columns=['Index','Query','Answer','Supporting'])\n",
    "\n",
    "df_test[:10]"
   ]
  },
  {
   "cell_type": "code",
   "execution_count": 4,
   "metadata": {
    "collapsed": true
   },
   "outputs": [
    {
     "name": "stderr",
     "output_type": "stream",
     "text": [
      "Using TensorFlow backend.\n",
      "C:\\WinPython37F\\python-3.7.2.amd64\\lib\\site-packages\\tensorflow\\python\\framework\\dtypes.py:516: FutureWarning: Passing (type, 1) or '1type' as a synonym of type is deprecated; in a future version of numpy, it will be understood as (type, (1,)) / '(1,)type'.\n",
      "  _np_qint8 = np.dtype([(\"qint8\", np.int8, 1)])\n",
      "C:\\WinPython37F\\python-3.7.2.amd64\\lib\\site-packages\\tensorflow\\python\\framework\\dtypes.py:517: FutureWarning: Passing (type, 1) or '1type' as a synonym of type is deprecated; in a future version of numpy, it will be understood as (type, (1,)) / '(1,)type'.\n",
      "  _np_quint8 = np.dtype([(\"quint8\", np.uint8, 1)])\n",
      "C:\\WinPython37F\\python-3.7.2.amd64\\lib\\site-packages\\tensorflow\\python\\framework\\dtypes.py:518: FutureWarning: Passing (type, 1) or '1type' as a synonym of type is deprecated; in a future version of numpy, it will be understood as (type, (1,)) / '(1,)type'.\n",
      "  _np_qint16 = np.dtype([(\"qint16\", np.int16, 1)])\n",
      "C:\\WinPython37F\\python-3.7.2.amd64\\lib\\site-packages\\tensorflow\\python\\framework\\dtypes.py:519: FutureWarning: Passing (type, 1) or '1type' as a synonym of type is deprecated; in a future version of numpy, it will be understood as (type, (1,)) / '(1,)type'.\n",
      "  _np_quint16 = np.dtype([(\"quint16\", np.uint16, 1)])\n",
      "C:\\WinPython37F\\python-3.7.2.amd64\\lib\\site-packages\\tensorflow\\python\\framework\\dtypes.py:520: FutureWarning: Passing (type, 1) or '1type' as a synonym of type is deprecated; in a future version of numpy, it will be understood as (type, (1,)) / '(1,)type'.\n",
      "  _np_qint32 = np.dtype([(\"qint32\", np.int32, 1)])\n",
      "C:\\WinPython37F\\python-3.7.2.amd64\\lib\\site-packages\\tensorflow\\python\\framework\\dtypes.py:525: FutureWarning: Passing (type, 1) or '1type' as a synonym of type is deprecated; in a future version of numpy, it will be understood as (type, (1,)) / '(1,)type'.\n",
      "  np_resource = np.dtype([(\"resource\", np.ubyte, 1)])\n",
      "C:\\WinPython37F\\python-3.7.2.amd64\\lib\\site-packages\\tensorboard\\compat\\tensorflow_stub\\dtypes.py:541: FutureWarning: Passing (type, 1) or '1type' as a synonym of type is deprecated; in a future version of numpy, it will be understood as (type, (1,)) / '(1,)type'.\n",
      "  _np_qint8 = np.dtype([(\"qint8\", np.int8, 1)])\n",
      "C:\\WinPython37F\\python-3.7.2.amd64\\lib\\site-packages\\tensorboard\\compat\\tensorflow_stub\\dtypes.py:542: FutureWarning: Passing (type, 1) or '1type' as a synonym of type is deprecated; in a future version of numpy, it will be understood as (type, (1,)) / '(1,)type'.\n",
      "  _np_quint8 = np.dtype([(\"quint8\", np.uint8, 1)])\n",
      "C:\\WinPython37F\\python-3.7.2.amd64\\lib\\site-packages\\tensorboard\\compat\\tensorflow_stub\\dtypes.py:543: FutureWarning: Passing (type, 1) or '1type' as a synonym of type is deprecated; in a future version of numpy, it will be understood as (type, (1,)) / '(1,)type'.\n",
      "  _np_qint16 = np.dtype([(\"qint16\", np.int16, 1)])\n",
      "C:\\WinPython37F\\python-3.7.2.amd64\\lib\\site-packages\\tensorboard\\compat\\tensorflow_stub\\dtypes.py:544: FutureWarning: Passing (type, 1) or '1type' as a synonym of type is deprecated; in a future version of numpy, it will be understood as (type, (1,)) / '(1,)type'.\n",
      "  _np_quint16 = np.dtype([(\"quint16\", np.uint16, 1)])\n",
      "C:\\WinPython37F\\python-3.7.2.amd64\\lib\\site-packages\\tensorboard\\compat\\tensorflow_stub\\dtypes.py:545: FutureWarning: Passing (type, 1) or '1type' as a synonym of type is deprecated; in a future version of numpy, it will be understood as (type, (1,)) / '(1,)type'.\n",
      "  _np_qint32 = np.dtype([(\"qint32\", np.int32, 1)])\n",
      "C:\\WinPython37F\\python-3.7.2.amd64\\lib\\site-packages\\tensorboard\\compat\\tensorflow_stub\\dtypes.py:550: FutureWarning: Passing (type, 1) or '1type' as a synonym of type is deprecated; in a future version of numpy, it will be understood as (type, (1,)) / '(1,)type'.\n",
      "  np_resource = np.dtype([(\"resource\", np.ubyte, 1)])\n"
     ]
    }
   ],
   "source": [
    "from keras.preprocessing.text import Tokenizer\n",
    "\n",
    "tokenizer=Tokenizer(filters='!?\"#$%&()*+,-/:;<=>@[\\\\]^_`{|}~\\t\\n')\n",
    "tokenizer.fit_on_texts(df_train['Query'])"
   ]
  },
  {
   "cell_type": "code",
   "execution_count": 5,
   "metadata": {},
   "outputs": [
    {
     "data": {
      "text/plain": [
       "{'the': 1,\n",
       " 'is': 2,\n",
       " 'square': 3,\n",
       " 'red': 4,\n",
       " 'to': 5,\n",
       " 'of': 6,\n",
       " 'pink': 7,\n",
       " 'rectangle': 8,\n",
       " 'yellow': 9,\n",
       " 'blue': 10,\n",
       " 'sphere': 11,\n",
       " 'triangle': 12,\n",
       " 'above': 13,\n",
       " 'below': 14,\n",
       " 'right': 15,\n",
       " 'left': 16,\n",
       " 'square.': 17,\n",
       " 'rectangle.': 18,\n",
       " 'sphere.': 19,\n",
       " 'triangle.': 20}"
      ]
     },
     "execution_count": 5,
     "metadata": {},
     "output_type": "execute_result"
    }
   ],
   "source": [
    "tokenizer.word_index"
   ]
  },
  {
   "cell_type": "code",
   "execution_count": 9,
   "metadata": {},
   "outputs": [],
   "source": [
    "dic_figure={'square':'정사각형', 'triangle':'삼각형', 'sphere':'구', 'rectangle':'직사각형'}\n",
    "dic_color = {'red':'빨간색','pink':'분홍색','blue':'파란색','yellow':'노란색'}\n",
    "dic_position = {'above':'위','below':'아래','left':'왼쪽','right':'오른쪽'}\n",
    "dic_answer = {'yes':'네','no':'아니요'}"
   ]
  },
  {
   "cell_type": "code",
   "execution_count": 15,
   "metadata": {
    "scrolled": true
   },
   "outputs": [
    {
     "data": {
      "text/plain": [
       "['the',\n",
       " 'pink',\n",
       " 'rectangle',\n",
       " 'is',\n",
       " 'to',\n",
       " 'the',\n",
       " 'left',\n",
       " 'of',\n",
       " 'the',\n",
       " 'triangle']"
      ]
     },
     "execution_count": 15,
     "metadata": {},
     "output_type": "execute_result"
    }
   ],
   "source": [
    "text_to_word_sequence(df_test['Query'][0])"
   ]
  },
  {
   "cell_type": "code",
   "execution_count": 17,
   "metadata": {},
   "outputs": [
    {
     "data": {
      "text/plain": [
       "2"
      ]
     },
     "execution_count": 17,
     "metadata": {},
     "output_type": "execute_result"
    }
   ],
   "source": [
    "a = [1,2,3]\n",
    "a.index(3)"
   ]
  },
  {
   "cell_type": "code",
   "execution_count": 46,
   "metadata": {},
   "outputs": [],
   "source": [
    "from keras.preprocessing.text import text_to_word_sequence\n",
    "\n",
    "def data_translation(data):\n",
    "\n",
    "    query_tr=[]\n",
    "    for query in data['Query']:\n",
    "        tokenized=text_to_word_sequence(query)\n",
    "        figure, color = [], []\n",
    "        for word in tokenized:\n",
    "            if word in dic_figure.keys():\n",
    "                figure.append(dic_figure[word])\n",
    "                former = tokenized[tokenized.index(word)-1]\n",
    "                if former in dic_color.keys():\n",
    "                    color.append(dic_color[former])\n",
    "                else:\n",
    "                    color.append('')\n",
    "            elif word in dic_position.keys():\n",
    "                position=dic_position[word]\n",
    "                \n",
    "        # 조사 변경\n",
    "        # https://github.com/myevan/pyjosa/blob/master/pyjosa.py 참조\n",
    "        if (ord(figure[0][-1])- 0xac00)%28 != 0: # 종성이 있을 때\n",
    "            josa = '은'\n",
    "        else:\n",
    "            josa = '는'\n",
    "        \n",
    "        # assemble\n",
    "        if tokenized[0] is 'is':\n",
    "            query_tr.append(color[0]+' '+figure[0]+josa+' '+color[1]+' '+figure[1]+'에 있습니까?')\n",
    "        else:\n",
    "            query_tr.append(color[0]+' '+figure[0]+josa+' '+color[1]+' '+figure[1]+' '+position+'에 있다')\n",
    "\n",
    "    answer_tr=[]\n",
    "    for answer in data['Answer']:\n",
    "        if answer in dic_answer.keys():\n",
    "            answer_tr.append(dic_answer[answer])\n",
    "        else:\n",
    "            answer_tr.append(answer)\n",
    "        \n",
    "    return query_tr,answer_tr"
   ]
  },
  {
   "cell_type": "code",
   "execution_count": 47,
   "metadata": {},
   "outputs": [],
   "source": [
    "train_tr=data_translation(df_train)\n",
    "test_tr=data_translation(df_test)"
   ]
  },
  {
   "cell_type": "code",
   "execution_count": 48,
   "metadata": {},
   "outputs": [],
   "source": [
    "def data_reconstruction(original_data,translated_data):\n",
    "    \n",
    "    data=[]\n",
    "    for i in range(len(original_data)):\n",
    "        index,supporting=original_data[i][0],original_data[i][3]\n",
    "        query,answer=translated_data[0][i],translated_data[1][i]\n",
    "                                                      \n",
    "        data.append([index,query,answer,supporting])\n",
    "                                                      \n",
    "    return data"
   ]
  },
  {
   "cell_type": "code",
   "execution_count": 49,
   "metadata": {},
   "outputs": [],
   "source": [
    "df_train_tr=pd.DataFrame(data_reconstruction(train_data,train_tr),\n",
    "                         columns=['Index','Query','Answer','Supporting'])\n",
    "df_test_tr=pd.DataFrame(data_reconstruction(test_data,test_tr),\n",
    "                        columns=['Index','Query','Answer','Supporting'])"
   ]
  },
  {
   "cell_type": "code",
   "execution_count": 12,
   "metadata": {},
   "outputs": [],
   "source": [
    "df_train_tr.to_csv('./qa1_single-supporting-fact_train_ko.csv',index=False)\n",
    "df_test_tr.to_csv('./qa1_single-supporting-fact_test_ko.csv',index=False)"
   ]
  }
 ],
 "metadata": {
  "kernelspec": {
   "display_name": "Python 3",
   "language": "python",
   "name": "python3"
  },
  "language_info": {
   "codemirror_mode": {
    "name": "ipython",
    "version": 3
   },
   "file_extension": ".py",
   "mimetype": "text/x-python",
   "name": "python",
   "nbconvert_exporter": "python",
   "pygments_lexer": "ipython3",
   "version": "3.7.2"
  }
 },
 "nbformat": 4,
 "nbformat_minor": 4
}
